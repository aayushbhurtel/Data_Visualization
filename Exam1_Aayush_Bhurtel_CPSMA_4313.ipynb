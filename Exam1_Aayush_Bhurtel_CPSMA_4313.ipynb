{
  "nbformat": 4,
  "nbformat_minor": 0,
  "metadata": {
    "colab": {
      "name": "Exam1_Aayush_Bhurtel_CPSMA_4313.ipynb",
      "provenance": [],
      "authorship_tag": "ABX9TyMEkvAMI3VJ4Z+zeA98LgOk",
      "include_colab_link": true
    },
    "kernelspec": {
      "name": "python3",
      "display_name": "Python 3"
    },
    "language_info": {
      "name": "python"
    }
  },
  "cells": [
    {
      "cell_type": "markdown",
      "metadata": {
        "id": "view-in-github",
        "colab_type": "text"
      },
      "source": [
        "<a href=\"https://colab.research.google.com/github/aayushbhurtel/Data_Visualization/blob/main/Exam1_Aayush_Bhurtel_CPSMA_4313.ipynb\" target=\"_parent\"><img src=\"https://colab.research.google.com/assets/colab-badge.svg\" alt=\"Open In Colab\"/></a>"
      ]
    },
    {
      "cell_type": "markdown",
      "source": [
        "# Data Visualization\n",
        "# Exam 1\n",
        "## Aayush Bhurtel\n",
        "## CPSMA 4313"
      ],
      "metadata": {
        "id": "0FNl75N1Hm1H"
      }
    },
    {
      "cell_type": "markdown",
      "source": [
        "I am loading all libraries in this block of code."
      ],
      "metadata": {
        "id": "JyZDXOnLHvaR"
      }
    },
    {
      "cell_type": "code",
      "execution_count": 114,
      "metadata": {
        "id": "hxTW9znWG_17"
      },
      "outputs": [],
      "source": [
        "import requests\n",
        "import pandas as pd\n",
        "from bs4 import BeautifulSoup\n",
        "import matplotlib.pyplot as plt\n",
        "from tabulate import tabulate"
      ]
    },
    {
      "cell_type": "markdown",
      "source": [
        "REFERENCES:"
      ],
      "metadata": {
        "id": "mtGFvYNgP3vi"
      }
    },
    {
      "cell_type": "markdown",
      "source": [
        "here, I am going to grab a mountains data from a wiki table."
      ],
      "metadata": {
        "id": "QbDALO8VQMYG"
      }
    },
    {
      "cell_type": "markdown",
      "source": [
        "now I am going to grab a table of mountain over 8000 meters using the class name of that table."
      ],
      "metadata": {
        "id": "WdQVg-Tim5Jk"
      }
    },
    {
      "cell_type": "markdown",
      "source": [
        "#(a) (10 points) Store the data as a pandas dataframe"
      ],
      "metadata": {
        "id": "hn_nki5bcn9y"
      }
    },
    {
      "cell_type": "code",
      "source": [
        "raw_data = requests.get('https://en.wikipedia.org/wiki/List_of_mountains_by_elevation')\n",
        "contents = raw_data.text\n",
        "soup = BeautifulSoup(contents,\"lxml\")"
      ],
      "metadata": {
        "id": "PRFgBjTItJjQ"
      },
      "execution_count": 44,
      "outputs": []
    },
    {
      "cell_type": "code",
      "source": [
        "soup.title"
      ],
      "metadata": {
        "colab": {
          "base_uri": "https://localhost:8080/"
        },
        "id": "DOQ278UauIlV",
        "outputId": "3fc20094-9600-4925-85c8-f85391407b98"
      },
      "execution_count": 30,
      "outputs": [
        {
          "output_type": "execute_result",
          "data": {
            "text/plain": [
              "<title>List of mountains by elevation - Wikipedia</title>"
            ]
          },
          "metadata": {},
          "execution_count": 30
        }
      ]
    },
    {
      "cell_type": "code",
      "source": [
        "tables = soup.find_all('table',class_=\"wikitable\")\n",
        "tables[0].find_all('a')\n",
        "df = pd.read_html(str(tables))[0]\n",
        "df"
      ],
      "metadata": {
        "colab": {
          "base_uri": "https://localhost:8080/",
          "height": 489
        },
        "id": "aHvr231HwTZx",
        "outputId": "8301f168-b16b-4e3c-bd25-fa53ab280fce"
      },
      "execution_count": 56,
      "outputs": [
        {
          "output_type": "execute_result",
          "data": {
            "text/html": [
              "\n",
              "  <div id=\"df-6855e100-4d40-48e4-bb99-a90117189bf7\">\n",
              "    <div class=\"colab-df-container\">\n",
              "      <div>\n",
              "<style scoped>\n",
              "    .dataframe tbody tr th:only-of-type {\n",
              "        vertical-align: middle;\n",
              "    }\n",
              "\n",
              "    .dataframe tbody tr th {\n",
              "        vertical-align: top;\n",
              "    }\n",
              "\n",
              "    .dataframe thead th {\n",
              "        text-align: right;\n",
              "    }\n",
              "</style>\n",
              "<table border=\"1\" class=\"dataframe\">\n",
              "  <thead>\n",
              "    <tr style=\"text-align: right;\">\n",
              "      <th></th>\n",
              "      <th>Mountain</th>\n",
              "      <th>Metres</th>\n",
              "      <th>Feet</th>\n",
              "      <th>Range</th>\n",
              "      <th>Location and Notes</th>\n",
              "    </tr>\n",
              "  </thead>\n",
              "  <tbody>\n",
              "    <tr>\n",
              "      <th>0</th>\n",
              "      <td>Mount Everest</td>\n",
              "      <td>8848</td>\n",
              "      <td>29029</td>\n",
              "      <td>Himalayas</td>\n",
              "      <td>Nepal/China</td>\n",
              "    </tr>\n",
              "    <tr>\n",
              "      <th>1</th>\n",
              "      <td>K2</td>\n",
              "      <td>8611</td>\n",
              "      <td>28251</td>\n",
              "      <td>Karakoram</td>\n",
              "      <td>Pakistan/China</td>\n",
              "    </tr>\n",
              "    <tr>\n",
              "      <th>2</th>\n",
              "      <td>Kangchenjunga</td>\n",
              "      <td>8586</td>\n",
              "      <td>28169</td>\n",
              "      <td>Himalayas</td>\n",
              "      <td>Nepal/India</td>\n",
              "    </tr>\n",
              "    <tr>\n",
              "      <th>3</th>\n",
              "      <td>Lhotse</td>\n",
              "      <td>8516</td>\n",
              "      <td>27940</td>\n",
              "      <td>Himalayas</td>\n",
              "      <td>Nepal – Climbers ascend Lhotse Face in climbin...</td>\n",
              "    </tr>\n",
              "    <tr>\n",
              "      <th>4</th>\n",
              "      <td>Makalu</td>\n",
              "      <td>8485</td>\n",
              "      <td>27838</td>\n",
              "      <td>Himalayas</td>\n",
              "      <td>Nepal</td>\n",
              "    </tr>\n",
              "    <tr>\n",
              "      <th>5</th>\n",
              "      <td>Cho Oyu</td>\n",
              "      <td>8188</td>\n",
              "      <td>26864</td>\n",
              "      <td>Himalayas</td>\n",
              "      <td>Nepal – Considered \"easiest\" eight-thousander</td>\n",
              "    </tr>\n",
              "    <tr>\n",
              "      <th>6</th>\n",
              "      <td>Dhaulagiri</td>\n",
              "      <td>8167</td>\n",
              "      <td>26795</td>\n",
              "      <td>Himalayas</td>\n",
              "      <td>Nepal – Presumed world's highest from 1808-1838</td>\n",
              "    </tr>\n",
              "    <tr>\n",
              "      <th>7</th>\n",
              "      <td>Manaslu</td>\n",
              "      <td>8163</td>\n",
              "      <td>26781</td>\n",
              "      <td>Himalayas</td>\n",
              "      <td>Nepal</td>\n",
              "    </tr>\n",
              "    <tr>\n",
              "      <th>8</th>\n",
              "      <td>Nanga Parbat</td>\n",
              "      <td>8126</td>\n",
              "      <td>26660</td>\n",
              "      <td>Himalayas</td>\n",
              "      <td>Pakistan</td>\n",
              "    </tr>\n",
              "    <tr>\n",
              "      <th>9</th>\n",
              "      <td>Annapurna</td>\n",
              "      <td>8091</td>\n",
              "      <td>26545</td>\n",
              "      <td>Himalayas</td>\n",
              "      <td>Nepal – First eight-thousander to be climbed (...</td>\n",
              "    </tr>\n",
              "    <tr>\n",
              "      <th>10</th>\n",
              "      <td>Gasherbrum I (Hidden peak; K5)</td>\n",
              "      <td>8080</td>\n",
              "      <td>26509</td>\n",
              "      <td>Karakoram</td>\n",
              "      <td>Pakistan /China – Originally named K5</td>\n",
              "    </tr>\n",
              "    <tr>\n",
              "      <th>11</th>\n",
              "      <td>Broad Peak</td>\n",
              "      <td>8051</td>\n",
              "      <td>26414</td>\n",
              "      <td>Karakoram</td>\n",
              "      <td>Pakistan /China</td>\n",
              "    </tr>\n",
              "    <tr>\n",
              "      <th>12</th>\n",
              "      <td>Gasherbrum II (K4)</td>\n",
              "      <td>8035</td>\n",
              "      <td>26362</td>\n",
              "      <td>Karakoram</td>\n",
              "      <td>Pakistan/China – Originally named K4</td>\n",
              "    </tr>\n",
              "    <tr>\n",
              "      <th>13</th>\n",
              "      <td>Shishapangma</td>\n",
              "      <td>8027</td>\n",
              "      <td>26335</td>\n",
              "      <td>Himalayas</td>\n",
              "      <td>China</td>\n",
              "    </tr>\n",
              "  </tbody>\n",
              "</table>\n",
              "</div>\n",
              "      <button class=\"colab-df-convert\" onclick=\"convertToInteractive('df-6855e100-4d40-48e4-bb99-a90117189bf7')\"\n",
              "              title=\"Convert this dataframe to an interactive table.\"\n",
              "              style=\"display:none;\">\n",
              "        \n",
              "  <svg xmlns=\"http://www.w3.org/2000/svg\" height=\"24px\"viewBox=\"0 0 24 24\"\n",
              "       width=\"24px\">\n",
              "    <path d=\"M0 0h24v24H0V0z\" fill=\"none\"/>\n",
              "    <path d=\"M18.56 5.44l.94 2.06.94-2.06 2.06-.94-2.06-.94-.94-2.06-.94 2.06-2.06.94zm-11 1L8.5 8.5l.94-2.06 2.06-.94-2.06-.94L8.5 2.5l-.94 2.06-2.06.94zm10 10l.94 2.06.94-2.06 2.06-.94-2.06-.94-.94-2.06-.94 2.06-2.06.94z\"/><path d=\"M17.41 7.96l-1.37-1.37c-.4-.4-.92-.59-1.43-.59-.52 0-1.04.2-1.43.59L10.3 9.45l-7.72 7.72c-.78.78-.78 2.05 0 2.83L4 21.41c.39.39.9.59 1.41.59.51 0 1.02-.2 1.41-.59l7.78-7.78 2.81-2.81c.8-.78.8-2.07 0-2.86zM5.41 20L4 18.59l7.72-7.72 1.47 1.35L5.41 20z\"/>\n",
              "  </svg>\n",
              "      </button>\n",
              "      \n",
              "  <style>\n",
              "    .colab-df-container {\n",
              "      display:flex;\n",
              "      flex-wrap:wrap;\n",
              "      gap: 12px;\n",
              "    }\n",
              "\n",
              "    .colab-df-convert {\n",
              "      background-color: #E8F0FE;\n",
              "      border: none;\n",
              "      border-radius: 50%;\n",
              "      cursor: pointer;\n",
              "      display: none;\n",
              "      fill: #1967D2;\n",
              "      height: 32px;\n",
              "      padding: 0 0 0 0;\n",
              "      width: 32px;\n",
              "    }\n",
              "\n",
              "    .colab-df-convert:hover {\n",
              "      background-color: #E2EBFA;\n",
              "      box-shadow: 0px 1px 2px rgba(60, 64, 67, 0.3), 0px 1px 3px 1px rgba(60, 64, 67, 0.15);\n",
              "      fill: #174EA6;\n",
              "    }\n",
              "\n",
              "    [theme=dark] .colab-df-convert {\n",
              "      background-color: #3B4455;\n",
              "      fill: #D2E3FC;\n",
              "    }\n",
              "\n",
              "    [theme=dark] .colab-df-convert:hover {\n",
              "      background-color: #434B5C;\n",
              "      box-shadow: 0px 1px 3px 1px rgba(0, 0, 0, 0.15);\n",
              "      filter: drop-shadow(0px 1px 2px rgba(0, 0, 0, 0.3));\n",
              "      fill: #FFFFFF;\n",
              "    }\n",
              "  </style>\n",
              "\n",
              "      <script>\n",
              "        const buttonEl =\n",
              "          document.querySelector('#df-6855e100-4d40-48e4-bb99-a90117189bf7 button.colab-df-convert');\n",
              "        buttonEl.style.display =\n",
              "          google.colab.kernel.accessAllowed ? 'block' : 'none';\n",
              "\n",
              "        async function convertToInteractive(key) {\n",
              "          const element = document.querySelector('#df-6855e100-4d40-48e4-bb99-a90117189bf7');\n",
              "          const dataTable =\n",
              "            await google.colab.kernel.invokeFunction('convertToInteractive',\n",
              "                                                     [key], {});\n",
              "          if (!dataTable) return;\n",
              "\n",
              "          const docLinkHtml = 'Like what you see? Visit the ' +\n",
              "            '<a target=\"_blank\" href=https://colab.research.google.com/notebooks/data_table.ipynb>data table notebook</a>'\n",
              "            + ' to learn more about interactive tables.';\n",
              "          element.innerHTML = '';\n",
              "          dataTable['output_type'] = 'display_data';\n",
              "          await google.colab.output.renderOutput(dataTable, element);\n",
              "          const docLink = document.createElement('div');\n",
              "          docLink.innerHTML = docLinkHtml;\n",
              "          element.appendChild(docLink);\n",
              "        }\n",
              "      </script>\n",
              "    </div>\n",
              "  </div>\n",
              "  "
            ],
            "text/plain": [
              "                          Mountain  ...                                 Location and Notes\n",
              "0                    Mount Everest  ...                                        Nepal/China\n",
              "1                               K2  ...                                     Pakistan/China\n",
              "2                    Kangchenjunga  ...                                        Nepal/India\n",
              "3                           Lhotse  ...  Nepal – Climbers ascend Lhotse Face in climbin...\n",
              "4                           Makalu  ...                                              Nepal\n",
              "5                          Cho Oyu  ...      Nepal – Considered \"easiest\" eight-thousander\n",
              "6                       Dhaulagiri  ...    Nepal – Presumed world's highest from 1808-1838\n",
              "7                          Manaslu  ...                                              Nepal\n",
              "8                     Nanga Parbat  ...                                           Pakistan\n",
              "9                        Annapurna  ...  Nepal – First eight-thousander to be climbed (...\n",
              "10  Gasherbrum I (Hidden peak; K5)  ...              Pakistan /China – Originally named K5\n",
              "11                      Broad Peak  ...                                    Pakistan /China\n",
              "12              Gasherbrum II (K4)  ...               Pakistan/China – Originally named K4\n",
              "13                    Shishapangma  ...                                              China\n",
              "\n",
              "[14 rows x 5 columns]"
            ]
          },
          "metadata": {},
          "execution_count": 56
        }
      ]
    },
    {
      "cell_type": "markdown",
      "source": [
        "# (b) (10 points) Return only mountains in the ‘Himalayas’"
      ],
      "metadata": {
        "id": "5e-AW5ficjUa"
      }
    },
    {
      "cell_type": "code",
      "source": [
        "df.query('Range == \"Himalayas\"')"
      ],
      "metadata": {
        "colab": {
          "base_uri": "https://localhost:8080/",
          "height": 363
        },
        "id": "5u7PitBJCAqi",
        "outputId": "f90f71b3-e66d-4fa1-9d7c-6991dfe5f34f"
      },
      "execution_count": 46,
      "outputs": [
        {
          "output_type": "execute_result",
          "data": {
            "text/html": [
              "\n",
              "  <div id=\"df-af87c267-a08c-4d9a-9e4f-bad296e18984\">\n",
              "    <div class=\"colab-df-container\">\n",
              "      <div>\n",
              "<style scoped>\n",
              "    .dataframe tbody tr th:only-of-type {\n",
              "        vertical-align: middle;\n",
              "    }\n",
              "\n",
              "    .dataframe tbody tr th {\n",
              "        vertical-align: top;\n",
              "    }\n",
              "\n",
              "    .dataframe thead th {\n",
              "        text-align: right;\n",
              "    }\n",
              "</style>\n",
              "<table border=\"1\" class=\"dataframe\">\n",
              "  <thead>\n",
              "    <tr style=\"text-align: right;\">\n",
              "      <th></th>\n",
              "      <th>Mountain</th>\n",
              "      <th>Metres</th>\n",
              "      <th>Feet</th>\n",
              "      <th>Range</th>\n",
              "      <th>Location and Notes</th>\n",
              "    </tr>\n",
              "  </thead>\n",
              "  <tbody>\n",
              "    <tr>\n",
              "      <th>0</th>\n",
              "      <td>Mount Everest</td>\n",
              "      <td>8848</td>\n",
              "      <td>29029</td>\n",
              "      <td>Himalayas</td>\n",
              "      <td>Nepal/China</td>\n",
              "    </tr>\n",
              "    <tr>\n",
              "      <th>2</th>\n",
              "      <td>Kangchenjunga</td>\n",
              "      <td>8586</td>\n",
              "      <td>28169</td>\n",
              "      <td>Himalayas</td>\n",
              "      <td>Nepal/India</td>\n",
              "    </tr>\n",
              "    <tr>\n",
              "      <th>3</th>\n",
              "      <td>Lhotse</td>\n",
              "      <td>8516</td>\n",
              "      <td>27940</td>\n",
              "      <td>Himalayas</td>\n",
              "      <td>Nepal – Climbers ascend Lhotse Face in climbin...</td>\n",
              "    </tr>\n",
              "    <tr>\n",
              "      <th>4</th>\n",
              "      <td>Makalu</td>\n",
              "      <td>8485</td>\n",
              "      <td>27838</td>\n",
              "      <td>Himalayas</td>\n",
              "      <td>Nepal</td>\n",
              "    </tr>\n",
              "    <tr>\n",
              "      <th>5</th>\n",
              "      <td>Cho Oyu</td>\n",
              "      <td>8188</td>\n",
              "      <td>26864</td>\n",
              "      <td>Himalayas</td>\n",
              "      <td>Nepal – Considered \"easiest\" eight-thousander</td>\n",
              "    </tr>\n",
              "    <tr>\n",
              "      <th>6</th>\n",
              "      <td>Dhaulagiri</td>\n",
              "      <td>8167</td>\n",
              "      <td>26795</td>\n",
              "      <td>Himalayas</td>\n",
              "      <td>Nepal – Presumed world's highest from 1808-1838</td>\n",
              "    </tr>\n",
              "    <tr>\n",
              "      <th>7</th>\n",
              "      <td>Manaslu</td>\n",
              "      <td>8163</td>\n",
              "      <td>26781</td>\n",
              "      <td>Himalayas</td>\n",
              "      <td>Nepal</td>\n",
              "    </tr>\n",
              "    <tr>\n",
              "      <th>8</th>\n",
              "      <td>Nanga Parbat</td>\n",
              "      <td>8126</td>\n",
              "      <td>26660</td>\n",
              "      <td>Himalayas</td>\n",
              "      <td>Pakistan</td>\n",
              "    </tr>\n",
              "    <tr>\n",
              "      <th>9</th>\n",
              "      <td>Annapurna</td>\n",
              "      <td>8091</td>\n",
              "      <td>26545</td>\n",
              "      <td>Himalayas</td>\n",
              "      <td>Nepal – First eight-thousander to be climbed (...</td>\n",
              "    </tr>\n",
              "    <tr>\n",
              "      <th>13</th>\n",
              "      <td>Shishapangma</td>\n",
              "      <td>8027</td>\n",
              "      <td>26335</td>\n",
              "      <td>Himalayas</td>\n",
              "      <td>China</td>\n",
              "    </tr>\n",
              "  </tbody>\n",
              "</table>\n",
              "</div>\n",
              "      <button class=\"colab-df-convert\" onclick=\"convertToInteractive('df-af87c267-a08c-4d9a-9e4f-bad296e18984')\"\n",
              "              title=\"Convert this dataframe to an interactive table.\"\n",
              "              style=\"display:none;\">\n",
              "        \n",
              "  <svg xmlns=\"http://www.w3.org/2000/svg\" height=\"24px\"viewBox=\"0 0 24 24\"\n",
              "       width=\"24px\">\n",
              "    <path d=\"M0 0h24v24H0V0z\" fill=\"none\"/>\n",
              "    <path d=\"M18.56 5.44l.94 2.06.94-2.06 2.06-.94-2.06-.94-.94-2.06-.94 2.06-2.06.94zm-11 1L8.5 8.5l.94-2.06 2.06-.94-2.06-.94L8.5 2.5l-.94 2.06-2.06.94zm10 10l.94 2.06.94-2.06 2.06-.94-2.06-.94-.94-2.06-.94 2.06-2.06.94z\"/><path d=\"M17.41 7.96l-1.37-1.37c-.4-.4-.92-.59-1.43-.59-.52 0-1.04.2-1.43.59L10.3 9.45l-7.72 7.72c-.78.78-.78 2.05 0 2.83L4 21.41c.39.39.9.59 1.41.59.51 0 1.02-.2 1.41-.59l7.78-7.78 2.81-2.81c.8-.78.8-2.07 0-2.86zM5.41 20L4 18.59l7.72-7.72 1.47 1.35L5.41 20z\"/>\n",
              "  </svg>\n",
              "      </button>\n",
              "      \n",
              "  <style>\n",
              "    .colab-df-container {\n",
              "      display:flex;\n",
              "      flex-wrap:wrap;\n",
              "      gap: 12px;\n",
              "    }\n",
              "\n",
              "    .colab-df-convert {\n",
              "      background-color: #E8F0FE;\n",
              "      border: none;\n",
              "      border-radius: 50%;\n",
              "      cursor: pointer;\n",
              "      display: none;\n",
              "      fill: #1967D2;\n",
              "      height: 32px;\n",
              "      padding: 0 0 0 0;\n",
              "      width: 32px;\n",
              "    }\n",
              "\n",
              "    .colab-df-convert:hover {\n",
              "      background-color: #E2EBFA;\n",
              "      box-shadow: 0px 1px 2px rgba(60, 64, 67, 0.3), 0px 1px 3px 1px rgba(60, 64, 67, 0.15);\n",
              "      fill: #174EA6;\n",
              "    }\n",
              "\n",
              "    [theme=dark] .colab-df-convert {\n",
              "      background-color: #3B4455;\n",
              "      fill: #D2E3FC;\n",
              "    }\n",
              "\n",
              "    [theme=dark] .colab-df-convert:hover {\n",
              "      background-color: #434B5C;\n",
              "      box-shadow: 0px 1px 3px 1px rgba(0, 0, 0, 0.15);\n",
              "      filter: drop-shadow(0px 1px 2px rgba(0, 0, 0, 0.3));\n",
              "      fill: #FFFFFF;\n",
              "    }\n",
              "  </style>\n",
              "\n",
              "      <script>\n",
              "        const buttonEl =\n",
              "          document.querySelector('#df-af87c267-a08c-4d9a-9e4f-bad296e18984 button.colab-df-convert');\n",
              "        buttonEl.style.display =\n",
              "          google.colab.kernel.accessAllowed ? 'block' : 'none';\n",
              "\n",
              "        async function convertToInteractive(key) {\n",
              "          const element = document.querySelector('#df-af87c267-a08c-4d9a-9e4f-bad296e18984');\n",
              "          const dataTable =\n",
              "            await google.colab.kernel.invokeFunction('convertToInteractive',\n",
              "                                                     [key], {});\n",
              "          if (!dataTable) return;\n",
              "\n",
              "          const docLinkHtml = 'Like what you see? Visit the ' +\n",
              "            '<a target=\"_blank\" href=https://colab.research.google.com/notebooks/data_table.ipynb>data table notebook</a>'\n",
              "            + ' to learn more about interactive tables.';\n",
              "          element.innerHTML = '';\n",
              "          dataTable['output_type'] = 'display_data';\n",
              "          await google.colab.output.renderOutput(dataTable, element);\n",
              "          const docLink = document.createElement('div');\n",
              "          docLink.innerHTML = docLinkHtml;\n",
              "          element.appendChild(docLink);\n",
              "        }\n",
              "      </script>\n",
              "    </div>\n",
              "  </div>\n",
              "  "
            ],
            "text/plain": [
              "         Mountain  ...                                 Location and Notes\n",
              "0   Mount Everest  ...                                        Nepal/China\n",
              "2   Kangchenjunga  ...                                        Nepal/India\n",
              "3          Lhotse  ...  Nepal – Climbers ascend Lhotse Face in climbin...\n",
              "4          Makalu  ...                                              Nepal\n",
              "5         Cho Oyu  ...      Nepal – Considered \"easiest\" eight-thousander\n",
              "6      Dhaulagiri  ...    Nepal – Presumed world's highest from 1808-1838\n",
              "7         Manaslu  ...                                              Nepal\n",
              "8    Nanga Parbat  ...                                           Pakistan\n",
              "9       Annapurna  ...  Nepal – First eight-thousander to be climbed (...\n",
              "13   Shishapangma  ...                                              China\n",
              "\n",
              "[10 rows x 5 columns]"
            ]
          },
          "metadata": {},
          "execution_count": 46
        }
      ]
    },
    {
      "cell_type": "markdown",
      "source": [
        "# (c) (10 points) Create a barchart of the Ranges"
      ],
      "metadata": {
        "id": "SrENOB8tcdOy"
      }
    },
    {
      "cell_type": "code",
      "source": [
        "dfplot = df.groupby(['Range'])['Range'].count()\n",
        "dfplot.plot(kind=\"bar\", title = 'Ranges of Mountains' , ylabel = 'No. of Mountains')"
      ],
      "metadata": {
        "colab": {
          "base_uri": "https://localhost:8080/",
          "height": 356
        },
        "id": "6hYvsaMeH97Y",
        "outputId": "970c21a8-e049-4f2a-e8ab-28f458bcd514"
      },
      "execution_count": 90,
      "outputs": [
        {
          "output_type": "execute_result",
          "data": {
            "text/plain": [
              "<matplotlib.axes._subplots.AxesSubplot at 0x7fe10af8a0d0>"
            ]
          },
          "metadata": {},
          "execution_count": 90
        },
        {
          "output_type": "display_data",
          "data": {
            "image/png": "[encoded data removed]",
            "text/plain": [
              "<Figure size 432x288 with 1 Axes>"
            ]
          },
          "metadata": {
            "needs_background": "light"
          }
        }
      ]
    },
    {
      "cell_type": "markdown",
      "source": [
        "# (d) (10 points) Create a box-plot of the height in Feet"
      ],
      "metadata": {
        "id": "IVRvJEjzVAb2"
      }
    },
    {
      "cell_type": "code",
      "source": [
        "df.Feet.plot(kind='box')"
      ],
      "metadata": {
        "colab": {
          "base_uri": "https://localhost:8080/",
          "height": 282
        },
        "id": "4MRuxVOGRw0j",
        "outputId": "5cbe1a06-c53d-459b-b046-bffde9b16162"
      },
      "execution_count": 94,
      "outputs": [
        {
          "output_type": "execute_result",
          "data": {
            "text/plain": [
              "<matplotlib.axes._subplots.AxesSubplot at 0x7fe10adec7d0>"
            ]
          },
          "metadata": {},
          "execution_count": 94
        },
        {
          "output_type": "display_data",
          "data": {
            "image/png": "[encoded data removed]",
            "text/plain": [
              "<Figure size 432x288 with 1 Axes>"
            ]
          },
          "metadata": {
            "needs_background": "light"
          }
        }
      ]
    },
    {
      "cell_type": "markdown",
      "source": [
        "# (e) (10 points) Report the mean, standard deviation and five number summary of the height in Feet\n"
      ],
      "metadata": {
        "id": "20FWVOrecx4q"
      }
    },
    {
      "cell_type": "code",
      "source": [
        "df.Feet.describe()"
      ],
      "metadata": {
        "colab": {
          "base_uri": "https://localhost:8080/"
        },
        "id": "Zf1E_Ia7c2C2",
        "outputId": "1996aa83-2d67-4809-d6c1-30930a769f75"
      },
      "execution_count": 96,
      "outputs": [
        {
          "output_type": "execute_result",
          "data": {
            "text/plain": [
              "count       14.000000\n",
              "mean     27178.000000\n",
              "std        879.489537\n",
              "min      26335.000000\n",
              "25%      26518.000000\n",
              "50%      26788.000000\n",
              "75%      27914.500000\n",
              "max      29029.000000\n",
              "Name: Feet, dtype: float64"
            ]
          },
          "metadata": {},
          "execution_count": 96
        }
      ]
    },
    {
      "cell_type": "markdown",
      "source": [
        "# (f) (10 points) Report the mean and median of mountains when grouped by their Range."
      ],
      "metadata": {
        "id": "GL4jjp2nc0DR"
      }
    },
    {
      "cell_type": "code",
      "source": [
        "mean = df.groupby('Range').mean()\n",
        "median = df.groupby('Range').median()"
      ],
      "metadata": {
        "id": "pd0uvOeSbadH"
      },
      "execution_count": 105,
      "outputs": []
    },
    {
      "cell_type": "code",
      "source": [
        "print(tabulate(mean, headers=[\"Range\", \"Metres (mean)\", \"Feet (mean)\"], tablefmt=\"pretty\"))\n",
        "print(tabulate(median, headers=[\"Range\", \"Metres (median)\", \"Feet (median)\"], tablefmt=\"pretty\"))\n",
        "\n"
      ],
      "metadata": {
        "colab": {
          "base_uri": "https://localhost:8080/"
        },
        "id": "pjfTLddNeuIv",
        "outputId": "48576a31-4f24-4c1c-bdf6-8f35bbc93e8c"
      },
      "execution_count": 136,
      "outputs": [
        {
          "output_type": "stream",
          "name": "stdout",
          "text": [
            "+-----------+---------------+-------------+\n",
            "|   Range   | Metres (mean) | Feet (mean) |\n",
            "+-----------+---------------+-------------+\n",
            "| Himalayas |    8319.7     |   27295.6   |\n",
            "| Karakoram |    8194.25    |   26884.0   |\n",
            "+-----------+---------------+-------------+\n",
            "+-----------+-----------------+---------------+\n",
            "|   Range   | Metres (median) | Feet (median) |\n",
            "+-----------+-----------------+---------------+\n",
            "| Himalayas |     8177.5      |    26829.5    |\n",
            "| Karakoram |     8065.5      |    26461.5    |\n",
            "+-----------+-----------------+---------------+\n"
          ]
        }
      ]
    },
    {
      "cell_type": "code",
      "source": [
        ""
      ],
      "metadata": {
        "id": "C-EiGXHhlvwo"
      },
      "execution_count": null,
      "outputs": []
    },
    {
      "cell_type": "code",
      "source": [
        ""
      ],
      "metadata": {
        "id": "fEtk3GK7gh-N"
      },
      "execution_count": null,
      "outputs": []
    }
  ]
}