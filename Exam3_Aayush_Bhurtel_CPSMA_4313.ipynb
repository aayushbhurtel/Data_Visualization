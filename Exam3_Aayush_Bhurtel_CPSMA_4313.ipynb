{
  "nbformat": 4,
  "nbformat_minor": 0,
  "metadata": {
    "colab": {
      "name": "Exam3_Aayush_Bhurtel_CPSMA_4313.ipynb",
      "provenance": [],
      "collapsed_sections": [],
      "authorship_tag": "ABX9TyMFssCbsfpobhYTvHnPDZBH",
      "include_colab_link": true
    },
    "kernelspec": {
      "name": "python3",
      "display_name": "Python 3"
    },
    "language_info": {
      "name": "python"
    }
  },
  "cells": [
    {
      "cell_type": "markdown",
      "metadata": {
        "id": "view-in-github",
        "colab_type": "text"
      },
      "source": [
        "<a href=\"https://colab.research.google.com/github/aayushbhurtel/Data_Visualization/blob/main/Exam3_Aayush_Bhurtel_CPSMA_4313.ipynb\" target=\"_parent\"><img src=\"https://colab.research.google.com/assets/colab-badge.svg\" alt=\"Open In Colab\"/></a>"
      ]
    },
    {
      "cell_type": "markdown",
      "source": [
        "# Data Visualization\n",
        "# Exam 3\n",
        "## Aayush Bhurtel"
      ],
      "metadata": {
        "id": "Tc0o_vWxN9ba"
      }
    },
    {
      "cell_type": "code",
      "execution_count": 1,
      "metadata": {
        "id": "1pItAcjxN3F1"
      },
      "outputs": [],
      "source": [
        "# loading libraries\n",
        "import pandas as pa\n",
        "import matplotlib.pyplot as plt\n",
        "import seaborn as sns\n"
      ]
    },
    {
      "cell_type": "markdown",
      "source": [
        "References\n",
        "\n",
        "> https://github.com/nurfnick/Data_Viz/\n",
        "\n",
        "> https://github.com/aayushbhurtel/Data_Visualization/\n",
        "\n",
        "> https://www.delftstack.com/howto/seaborn/size-of-seaborn-plot/\n",
        "\n",
        "> https://seaborn.pydata.org/\n",
        "\n",
        "\n",
        "I attest that the resources above were the only ones utilized in completing\n",
        "the exam and the work included is my own and no one else from the course\n",
        "\n"
      ],
      "metadata": {
        "id": "FaEGDdS27lil"
      }
    },
    {
      "cell_type": "markdown",
      "source": [
        "Every visualization should include, title, labels, appropriate coloring, and comments\n",
        "about the visualization and what it says about the data."
      ],
      "metadata": {
        "id": "lkBkmwSNRG9T"
      }
    },
    {
      "cell_type": "markdown",
      "source": [
        "## a) Store the data as a pandas dataframe. Find your favorite ‘club’ or ‘nationality’ (that is present in the data!), include a picture that represents them and include it in your notebook. (If no favorite, just pick one!)"
      ],
      "metadata": {
        "id": "xpxUC1BWRH0j"
      }
    },
    {
      "cell_type": "code",
      "source": [
        "# store dataset in pandas dataframe\n",
        "df = pa.read_csv('https://raw.githubusercontent.com/nurfnick/Data_Viz/main/worldCupPlayer.csv')"
      ],
      "metadata": {
        "id": "eUSDjLoJP9-H"
      },
      "execution_count": 81,
      "outputs": []
    },
    {
      "cell_type": "markdown",
      "source": [
        "let me use a str.contain() function to find if there is my favorite club Manchester United in the data. let me pull a picture from the website.\n",
        "![link text](data:image/png;base64,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)"
      ],
      "metadata": {
        "id": "0JIx4V5QfA55"
      }
    },
    {
      "cell_type": "code",
      "source": [
        "df['club'].str.contains('Manchester United').any()"
      ],
      "metadata": {
        "colab": {
          "base_uri": "https://localhost:8080/"
        },
        "id": "XMGuggKkdlqg",
        "outputId": "f281e90e-65af-4475-cea8-4ff9ddfff450"
      },
      "execution_count": 3,
      "outputs": [
        {
          "output_type": "execute_result",
          "data": {
            "text/plain": [
              "True"
            ]
          },
          "metadata": {},
          "execution_count": 3
        }
      ]
    },
    {
      "cell_type": "markdown",
      "source": [
        "## b) Show a table with all the data about your favorite club or nationality. Include some description about an interesting fact in the data"
      ],
      "metadata": {
        "id": "Y7OUs1aLhxdg"
      }
    },
    {
      "cell_type": "code",
      "source": [
        "# filtering the rows with string \"Manchester United\"\n",
        "df1 = df[df['club'].str.contains('Manchester United')]\n",
        "df1"
      ],
      "metadata": {
        "colab": {
          "base_uri": "https://localhost:8080/",
          "height": 489
        },
        "id": "mmLOVlpFevl3",
        "outputId": "bc4082d5-1971-4392-b5a7-602ee5b9ab43"
      },
      "execution_count": 4,
      "outputs": [
        {
          "output_type": "execute_result",
          "data": {
            "text/plain": [
              "     Unnamed: 0  Rank           player               club  age    Apps  Mins  \\\n",
              "420         803     9       Paul Pogba  Manchester United   25   25(2)  2151   \n",
              "421         804   187       Paul Pogba  Manchester United   25    3(2)   279   \n",
              "426         813    17    Romelu Lukaku  Manchester United   25   33(1)  2869   \n",
              "427         815    16    Romelu Lukaku  Manchester United   25       8   704   \n",
              "434         828    27       Phil Jones  Manchester United   26      23  1975   \n",
              "435         830    28    Nemanja Matic  Manchester United   29   35(1)  3119   \n",
              "436         832    45    Nemanja Matic  Manchester United   29    6(1)   564   \n",
              "444         848    38     Ashley Young  Manchester United   32   28(2)  2448   \n",
              "445         850    51     Ashley Young  Manchester United   32       4   337   \n",
              "483         926   127    Jesse Lingard  Manchester United   25  20(13)  1823   \n",
              "484         928   426    Jesse Lingard  Manchester United   25    3(3)   246   \n",
              "493         946   164  Marcus Rashford  Manchester United   20  17(18)  1810   \n",
              "494         948   153  Marcus Rashford  Manchester United   20    3(5)   345   \n",
              "559        1074   138  Victor Lindelof  Manchester United   23       5   450   \n",
              "\n",
              "     Goals  Assists  Yel  Red  SpG    PS AerialsWon  MotM  Rating nationality  \n",
              "420      6       10    5    1  2.8  85.3        1.9     4    7.48      France  \n",
              "421      0        1    0    0    1  86.0        0.6     0    6.83      France  \n",
              "426     16        7    4    0  2.5  68.4        3.2     2    7.29     Belgium  \n",
              "427      5        0    0    0  3.3  70.3        4.5     2    7.70     Belgium  \n",
              "434      0        0    2    0  0.1  91.2        2.5     2    7.21     England  \n",
              "435      1        1    6    0  0.5  87.7        1.6     0    7.20      Serbia  \n",
              "436      0        0    0    0  0.4  89.2        1.4     1    7.29      Serbia  \n",
              "444      2        4    7    0  0.6  79.5        0.6     4    7.12     England  \n",
              "445      0        1    1    0  0.5  83.9        0.5     0    7.27     England  \n",
              "483      8        5    2    0  1.7  87.8        0.2     1    6.82     England  \n",
              "484      0        0    2    0  0.7  91.6        0.3     0    6.23     England  \n",
              "493      7        5    3    0  1.7  78.3        0.5     1    6.76     England  \n",
              "494      3        1    1    0  2.4  75.4        0.4     1    6.94     England  \n",
              "559      0        0    0    0    -  90.3        1.2     0    6.98      Sweden  "
            ],
            "text/html": [
              "\n",
              "  <div id=\"df-535cc426-fc02-47f9-922f-7db813be12d0\">\n",
              "    <div class=\"colab-df-container\">\n",
              "      <div>\n",
              "<style scoped>\n",
              "    .dataframe tbody tr th:only-of-type {\n",
              "        vertical-align: middle;\n",
              "    }\n",
              "\n",
              "    .dataframe tbody tr th {\n",
              "        vertical-align: top;\n",
              "    }\n",
              "\n",
              "    .dataframe thead th {\n",
              "        text-align: right;\n",
              "    }\n",
              "</style>\n",
              "<table border=\"1\" class=\"dataframe\">\n",
              "  <thead>\n",
              "    <tr style=\"text-align: right;\">\n",
              "      <th></th>\n",
              "      <th>Unnamed: 0</th>\n",
              "      <th>Rank</th>\n",
              "      <th>player</th>\n",
              "      <th>club</th>\n",
              "      <th>age</th>\n",
              "      <th>Apps</th>\n",
              "      <th>Mins</th>\n",
              "      <th>Goals</th>\n",
              "      <th>Assists</th>\n",
              "      <th>Yel</th>\n",
              "      <th>Red</th>\n",
              "      <th>SpG</th>\n",
              "      <th>PS</th>\n",
              "      <th>AerialsWon</th>\n",
              "      <th>MotM</th>\n",
              "      <th>Rating</th>\n",
              "      <th>nationality</th>\n",
              "    </tr>\n",
              "  </thead>\n",
              "  <tbody>\n",
              "    <tr>\n",
              "      <th>420</th>\n",
              "      <td>803</td>\n",
              "      <td>9</td>\n",
              "      <td>Paul Pogba</td>\n",
              "      <td>Manchester United</td>\n",
              "      <td>25</td>\n",
              "      <td>25(2)</td>\n",
              "      <td>2151</td>\n",
              "      <td>6</td>\n",
              "      <td>10</td>\n",
              "      <td>5</td>\n",
              "      <td>1</td>\n",
              "      <td>2.8</td>\n",
              "      <td>85.3</td>\n",
              "      <td>1.9</td>\n",
              "      <td>4</td>\n",
              "      <td>7.48</td>\n",
              "      <td>France</td>\n",
              "    </tr>\n",
              "    <tr>\n",
              "      <th>421</th>\n",
              "      <td>804</td>\n",
              "      <td>187</td>\n",
              "      <td>Paul Pogba</td>\n",
              "      <td>Manchester United</td>\n",
              "      <td>25</td>\n",
              "      <td>3(2)</td>\n",
              "      <td>279</td>\n",
              "      <td>0</td>\n",
              "      <td>1</td>\n",
              "      <td>0</td>\n",
              "      <td>0</td>\n",
              "      <td>1</td>\n",
              "      <td>86.0</td>\n",
              "      <td>0.6</td>\n",
              "      <td>0</td>\n",
              "      <td>6.83</td>\n",
              "      <td>France</td>\n",
              "    </tr>\n",
              "    <tr>\n",
              "      <th>426</th>\n",
              "      <td>813</td>\n",
              "      <td>17</td>\n",
              "      <td>Romelu Lukaku</td>\n",
              "      <td>Manchester United</td>\n",
              "      <td>25</td>\n",
              "      <td>33(1)</td>\n",
              "      <td>2869</td>\n",
              "      <td>16</td>\n",
              "      <td>7</td>\n",
              "      <td>4</td>\n",
              "      <td>0</td>\n",
              "      <td>2.5</td>\n",
              "      <td>68.4</td>\n",
              "      <td>3.2</td>\n",
              "      <td>2</td>\n",
              "      <td>7.29</td>\n",
              "      <td>Belgium</td>\n",
              "    </tr>\n",
              "    <tr>\n",
              "      <th>427</th>\n",
              "      <td>815</td>\n",
              "      <td>16</td>\n",
              "      <td>Romelu Lukaku</td>\n",
              "      <td>Manchester United</td>\n",
              "      <td>25</td>\n",
              "      <td>8</td>\n",
              "      <td>704</td>\n",
              "      <td>5</td>\n",
              "      <td>0</td>\n",
              "      <td>0</td>\n",
              "      <td>0</td>\n",
              "      <td>3.3</td>\n",
              "      <td>70.3</td>\n",
              "      <td>4.5</td>\n",
              "      <td>2</td>\n",
              "      <td>7.70</td>\n",
              "      <td>Belgium</td>\n",
              "    </tr>\n",
              "    <tr>\n",
              "      <th>434</th>\n",
              "      <td>828</td>\n",
              "      <td>27</td>\n",
              "      <td>Phil Jones</td>\n",
              "      <td>Manchester United</td>\n",
              "      <td>26</td>\n",
              "      <td>23</td>\n",
              "      <td>1975</td>\n",
              "      <td>0</td>\n",
              "      <td>0</td>\n",
              "      <td>2</td>\n",
              "      <td>0</td>\n",
              "      <td>0.1</td>\n",
              "      <td>91.2</td>\n",
              "      <td>2.5</td>\n",
              "      <td>2</td>\n",
              "      <td>7.21</td>\n",
              "      <td>England</td>\n",
              "    </tr>\n",
              "    <tr>\n",
              "      <th>435</th>\n",
              "      <td>830</td>\n",
              "      <td>28</td>\n",
              "      <td>Nemanja Matic</td>\n",
              "      <td>Manchester United</td>\n",
              "      <td>29</td>\n",
              "      <td>35(1)</td>\n",
              "      <td>3119</td>\n",
              "      <td>1</td>\n",
              "      <td>1</td>\n",
              "      <td>6</td>\n",
              "      <td>0</td>\n",
              "      <td>0.5</td>\n",
              "      <td>87.7</td>\n",
              "      <td>1.6</td>\n",
              "      <td>0</td>\n",
              "      <td>7.20</td>\n",
              "      <td>Serbia</td>\n",
              "    </tr>\n",
              "    <tr>\n",
              "      <th>436</th>\n",
              "      <td>832</td>\n",
              "      <td>45</td>\n",
              "      <td>Nemanja Matic</td>\n",
              "      <td>Manchester United</td>\n",
              "      <td>29</td>\n",
              "      <td>6(1)</td>\n",
              "      <td>564</td>\n",
              "      <td>0</td>\n",
              "      <td>0</td>\n",
              "      <td>0</td>\n",
              "      <td>0</td>\n",
              "      <td>0.4</td>\n",
              "      <td>89.2</td>\n",
              "      <td>1.4</td>\n",
              "      <td>1</td>\n",
              "      <td>7.29</td>\n",
              "      <td>Serbia</td>\n",
              "    </tr>\n",
              "    <tr>\n",
              "      <th>444</th>\n",
              "      <td>848</td>\n",
              "      <td>38</td>\n",
              "      <td>Ashley Young</td>\n",
              "      <td>Manchester United</td>\n",
              "      <td>32</td>\n",
              "      <td>28(2)</td>\n",
              "      <td>2448</td>\n",
              "      <td>2</td>\n",
              "      <td>4</td>\n",
              "      <td>7</td>\n",
              "      <td>0</td>\n",
              "      <td>0.6</td>\n",
              "      <td>79.5</td>\n",
              "      <td>0.6</td>\n",
              "      <td>4</td>\n",
              "      <td>7.12</td>\n",
              "      <td>England</td>\n",
              "    </tr>\n",
              "    <tr>\n",
              "      <th>445</th>\n",
              "      <td>850</td>\n",
              "      <td>51</td>\n",
              "      <td>Ashley Young</td>\n",
              "      <td>Manchester United</td>\n",
              "      <td>32</td>\n",
              "      <td>4</td>\n",
              "      <td>337</td>\n",
              "      <td>0</td>\n",
              "      <td>1</td>\n",
              "      <td>1</td>\n",
              "      <td>0</td>\n",
              "      <td>0.5</td>\n",
              "      <td>83.9</td>\n",
              "      <td>0.5</td>\n",
              "      <td>0</td>\n",
              "      <td>7.27</td>\n",
              "      <td>England</td>\n",
              "    </tr>\n",
              "    <tr>\n",
              "      <th>483</th>\n",
              "      <td>926</td>\n",
              "      <td>127</td>\n",
              "      <td>Jesse Lingard</td>\n",
              "      <td>Manchester United</td>\n",
              "      <td>25</td>\n",
              "      <td>20(13)</td>\n",
              "      <td>1823</td>\n",
              "      <td>8</td>\n",
              "      <td>5</td>\n",
              "      <td>2</td>\n",
              "      <td>0</td>\n",
              "      <td>1.7</td>\n",
              "      <td>87.8</td>\n",
              "      <td>0.2</td>\n",
              "      <td>1</td>\n",
              "      <td>6.82</td>\n",
              "      <td>England</td>\n",
              "    </tr>\n",
              "    <tr>\n",
              "      <th>484</th>\n",
              "      <td>928</td>\n",
              "      <td>426</td>\n",
              "      <td>Jesse Lingard</td>\n",
              "      <td>Manchester United</td>\n",
              "      <td>25</td>\n",
              "      <td>3(3)</td>\n",
              "      <td>246</td>\n",
              "      <td>0</td>\n",
              "      <td>0</td>\n",
              "      <td>2</td>\n",
              "      <td>0</td>\n",
              "      <td>0.7</td>\n",
              "      <td>91.6</td>\n",
              "      <td>0.3</td>\n",
              "      <td>0</td>\n",
              "      <td>6.23</td>\n",
              "      <td>England</td>\n",
              "    </tr>\n",
              "    <tr>\n",
              "      <th>493</th>\n",
              "      <td>946</td>\n",
              "      <td>164</td>\n",
              "      <td>Marcus Rashford</td>\n",
              "      <td>Manchester United</td>\n",
              "      <td>20</td>\n",
              "      <td>17(18)</td>\n",
              "      <td>1810</td>\n",
              "      <td>7</td>\n",
              "      <td>5</td>\n",
              "      <td>3</td>\n",
              "      <td>0</td>\n",
              "      <td>1.7</td>\n",
              "      <td>78.3</td>\n",
              "      <td>0.5</td>\n",
              "      <td>1</td>\n",
              "      <td>6.76</td>\n",
              "      <td>England</td>\n",
              "    </tr>\n",
              "    <tr>\n",
              "      <th>494</th>\n",
              "      <td>948</td>\n",
              "      <td>153</td>\n",
              "      <td>Marcus Rashford</td>\n",
              "      <td>Manchester United</td>\n",
              "      <td>20</td>\n",
              "      <td>3(5)</td>\n",
              "      <td>345</td>\n",
              "      <td>3</td>\n",
              "      <td>1</td>\n",
              "      <td>1</td>\n",
              "      <td>0</td>\n",
              "      <td>2.4</td>\n",
              "      <td>75.4</td>\n",
              "      <td>0.4</td>\n",
              "      <td>1</td>\n",
              "      <td>6.94</td>\n",
              "      <td>England</td>\n",
              "    </tr>\n",
              "    <tr>\n",
              "      <th>559</th>\n",
              "      <td>1074</td>\n",
              "      <td>138</td>\n",
              "      <td>Victor Lindelof</td>\n",
              "      <td>Manchester United</td>\n",
              "      <td>23</td>\n",
              "      <td>5</td>\n",
              "      <td>450</td>\n",
              "      <td>0</td>\n",
              "      <td>0</td>\n",
              "      <td>0</td>\n",
              "      <td>0</td>\n",
              "      <td>-</td>\n",
              "      <td>90.3</td>\n",
              "      <td>1.2</td>\n",
              "      <td>0</td>\n",
              "      <td>6.98</td>\n",
              "      <td>Sweden</td>\n",
              "    </tr>\n",
              "  </tbody>\n",
              "</table>\n",
              "</div>\n",
              "      <button class=\"colab-df-convert\" onclick=\"convertToInteractive('df-535cc426-fc02-47f9-922f-7db813be12d0')\"\n",
              "              title=\"Convert this dataframe to an interactive table.\"\n",
              "              style=\"display:none;\">\n",
              "        \n",
              "  <svg xmlns=\"http://www.w3.org/2000/svg\" height=\"24px\"viewBox=\"0 0 24 24\"\n",
              "       width=\"24px\">\n",
              "    <path d=\"M0 0h24v24H0V0z\" fill=\"none\"/>\n",
              "    <path d=\"M18.56 5.44l.94 2.06.94-2.06 2.06-.94-2.06-.94-.94-2.06-.94 2.06-2.06.94zm-11 1L8.5 8.5l.94-2.06 2.06-.94-2.06-.94L8.5 2.5l-.94 2.06-2.06.94zm10 10l.94 2.06.94-2.06 2.06-.94-2.06-.94-.94-2.06-.94 2.06-2.06.94z\"/><path d=\"M17.41 7.96l-1.37-1.37c-.4-.4-.92-.59-1.43-.59-.52 0-1.04.2-1.43.59L10.3 9.45l-7.72 7.72c-.78.78-.78 2.05 0 2.83L4 21.41c.39.39.9.59 1.41.59.51 0 1.02-.2 1.41-.59l7.78-7.78 2.81-2.81c.8-.78.8-2.07 0-2.86zM5.41 20L4 18.59l7.72-7.72 1.47 1.35L5.41 20z\"/>\n",
              "  </svg>\n",
              "      </button>\n",
              "      \n",
              "  <style>\n",
              "    .colab-df-container {\n",
              "      display:flex;\n",
              "      flex-wrap:wrap;\n",
              "      gap: 12px;\n",
              "    }\n",
              "\n",
              "    .colab-df-convert {\n",
              "      background-color: #E8F0FE;\n",
              "      border: none;\n",
              "      border-radius: 50%;\n",
              "      cursor: pointer;\n",
              "      display: none;\n",
              "      fill: #1967D2;\n",
              "      height: 32px;\n",
              "      padding: 0 0 0 0;\n",
              "      width: 32px;\n",
              "    }\n",
              "\n",
              "    .colab-df-convert:hover {\n",
              "      background-color: #E2EBFA;\n",
              "      box-shadow: 0px 1px 2px rgba(60, 64, 67, 0.3), 0px 1px 3px 1px rgba(60, 64, 67, 0.15);\n",
              "      fill: #174EA6;\n",
              "    }\n",
              "\n",
              "    [theme=dark] .colab-df-convert {\n",
              "      background-color: #3B4455;\n",
              "      fill: #D2E3FC;\n",
              "    }\n",
              "\n",
              "    [theme=dark] .colab-df-convert:hover {\n",
              "      background-color: #434B5C;\n",
              "      box-shadow: 0px 1px 3px 1px rgba(0, 0, 0, 0.15);\n",
              "      filter: drop-shadow(0px 1px 2px rgba(0, 0, 0, 0.3));\n",
              "      fill: #FFFFFF;\n",
              "    }\n",
              "  </style>\n",
              "\n",
              "      <script>\n",
              "        const buttonEl =\n",
              "          document.querySelector('#df-535cc426-fc02-47f9-922f-7db813be12d0 button.colab-df-convert');\n",
              "        buttonEl.style.display =\n",
              "          google.colab.kernel.accessAllowed ? 'block' : 'none';\n",
              "\n",
              "        async function convertToInteractive(key) {\n",
              "          const element = document.querySelector('#df-535cc426-fc02-47f9-922f-7db813be12d0');\n",
              "          const dataTable =\n",
              "            await google.colab.kernel.invokeFunction('convertToInteractive',\n",
              "                                                     [key], {});\n",
              "          if (!dataTable) return;\n",
              "\n",
              "          const docLinkHtml = 'Like what you see? Visit the ' +\n",
              "            '<a target=\"_blank\" href=https://colab.research.google.com/notebooks/data_table.ipynb>data table notebook</a>'\n",
              "            + ' to learn more about interactive tables.';\n",
              "          element.innerHTML = '';\n",
              "          dataTable['output_type'] = 'display_data';\n",
              "          await google.colab.output.renderOutput(dataTable, element);\n",
              "          const docLink = document.createElement('div');\n",
              "          docLink.innerHTML = docLinkHtml;\n",
              "          element.appendChild(docLink);\n",
              "        }\n",
              "      </script>\n",
              "    </div>\n",
              "  </div>\n",
              "  "
            ]
          },
          "metadata": {},
          "execution_count": 4
        }
      ]
    },
    {
      "cell_type": "markdown",
      "source": [
        "First of all let me point our, this dataset is 4 years old because Marcus Rashford is 24 years old right now but data says he is 20 years old.\n",
        "\n",
        "An interesting fact is that, Nemanja Matic from Serbia has played most (3119) minutes in the mid-field for Manchester United and only scored 1 goal in those entire 35 games."
      ],
      "metadata": {
        "id": "RVeRjSUft7Ws"
      }
    },
    {
      "cell_type": "markdown",
      "source": [
        "## c) Create a histogram of the ‘Goals’."
      ],
      "metadata": {
        "id": "gvt1BH25vDsf"
      }
    },
    {
      "cell_type": "code",
      "source": [
        "ax = df.Goals.hist(bins = 25)\n",
        "ax.set(title = \"Histogram of Goals\")\n",
        "ax.set_xlabel(\"Number of Goals\", labelpad=20, size=12)\n",
        "ax.set_ylabel(\"Number of Players\", labelpad=20, size=12)\n",
        "plt.show()"
      ],
      "metadata": {
        "colab": {
          "base_uri": "https://localhost:8080/",
          "height": 314
        },
        "id": "KuAHIl-lrtT2",
        "outputId": "92ee0d53-6aba-4ee2-a847-bbd3f319a9c4"
      },
      "execution_count": 5,
      "outputs": [
        {
          "output_type": "display_data",
          "data": {
            "text/plain": [
              "<Figure size 432x288 with 1 Axes>"
            ],
            "image/png": "[encoded data removed]"
          },
          "metadata": {
            "needs_background": "light"
          }
        }
      ]
    },
    {
      "cell_type": "markdown",
      "source": [
        "As we can see from histogram above, small number of players have scored more goals. this is because strikers are responsible for goal scoring then other players."
      ],
      "metadata": {
        "id": "oIMBioSN9iBs"
      }
    },
    {
      "cell_type": "markdown",
      "source": [
        "## d) Create a histogram of the ‘Goals’ and ‘Assists’ on the same axis."
      ],
      "metadata": {
        "id": "WKdMsUTo4l5L"
      }
    },
    {
      "cell_type": "code",
      "source": [
        "df[['Goals','Assists']].plot.hist(alpha = 0.5, bins = 20)"
      ],
      "metadata": {
        "colab": {
          "base_uri": "https://localhost:8080/",
          "height": 283
        },
        "id": "IygswyxMvOmg",
        "outputId": "b22f6b5b-3c53-4640-d8d3-e8333f6053a8"
      },
      "execution_count": 6,
      "outputs": [
        {
          "output_type": "execute_result",
          "data": {
            "text/plain": [
              "<matplotlib.axes._subplots.AxesSubplot at 0x7f22d6e558d0>"
            ]
          },
          "metadata": {},
          "execution_count": 6
        },
        {
          "output_type": "display_data",
          "data": {
            "text/plain": [
              "<Figure size 432x288 with 1 Axes>"
            ],
            "image/png": "[encoded data removed]"
          },
          "metadata": {
            "needs_background": "light"
          }
        }
      ]
    },
    {
      "cell_type": "markdown",
      "source": [
        ""
      ],
      "metadata": {
        "id": "0E7G1JkH-7qH"
      }
    },
    {
      "cell_type": "code",
      "source": [
        ""
      ],
      "metadata": {
        "id": "_7GV4YlY7DiW"
      },
      "execution_count": null,
      "outputs": []
    },
    {
      "cell_type": "markdown",
      "source": [
        "## e) Create a barchart for most goals scored by nationality."
      ],
      "metadata": {
        "id": "jbGuySY8S2ay"
      }
    },
    {
      "cell_type": "code",
      "source": [
        "ax = df.groupby('nationality').Goals.agg('mean').plot(kind = 'bar')\n",
        "ax.set(title = \"Most goals scored by nationality\")\n",
        "ax.set(ylabel = 'Number of goals')\n",
        "plt.show()"
      ],
      "metadata": {
        "colab": {
          "base_uri": "https://localhost:8080/",
          "height": 344
        },
        "id": "dahEQf-0S5Eb",
        "outputId": "3710c218-9338-4bca-af55-1f508ebac5dd"
      },
      "execution_count": 7,
      "outputs": [
        {
          "output_type": "display_data",
          "data": {
            "text/plain": [
              "<Figure size 432x288 with 1 Axes>"
            ],
            "image/png": "[encoded data removed]"
          },
          "metadata": {
            "needs_background": "light"
          }
        }
      ]
    },
    {
      "cell_type": "markdown",
      "source": [
        "Surprisingly, Egypt has most goals in a world cup followed by Iran and Argentina."
      ],
      "metadata": {
        "id": "emzkP6bi_a74"
      }
    },
    {
      "cell_type": "markdown",
      "source": [
        "## f) Create a boxplot of ‘Yel’ (yellow cards) by nationality."
      ],
      "metadata": {
        "id": "3-e-9VjaYwKY"
      }
    },
    {
      "cell_type": "code",
      "source": [
        "bp = df.boxplot(column=['Yel'], by = 'nationality', rot = 90)\n",
        "bp.plot()\n",
        "plt.xlabel('nationality')\n",
        "plt.ylabel('yellow cards')"
      ],
      "metadata": {
        "colab": {
          "base_uri": "https://localhost:8080/",
          "height": 423
        },
        "id": "pRyhz6bdUsTT",
        "outputId": "8d18b7e0-a44c-41c9-e605-512d447a8243"
      },
      "execution_count": 8,
      "outputs": [
        {
          "output_type": "stream",
          "name": "stderr",
          "text": [
            "/usr/local/lib/python3.7/dist-packages/matplotlib/cbook/__init__.py:1376: VisibleDeprecationWarning: Creating an ndarray from ragged nested sequences (which is a list-or-tuple of lists-or-tuples-or ndarrays with different lengths or shapes) is deprecated. If you meant to do this, you must specify 'dtype=object' when creating the ndarray.\n",
            "  X = np.atleast_1d(X.T if isinstance(X, np.ndarray) else np.asarray(X))\n"
          ]
        },
        {
          "output_type": "execute_result",
          "data": {
            "text/plain": [
              "Text(0, 0.5, 'yellow cards')"
            ]
          },
          "metadata": {},
          "execution_count": 8
        },
        {
          "output_type": "display_data",
          "data": {
            "text/plain": [
              "<Figure size 432x288 with 1 Axes>"
            ],
            "image/png": "[encoded data removed]"
          },
          "metadata": {
            "needs_background": "light"
          }
        }
      ]
    },
    {
      "cell_type": "markdown",
      "source": [
        "As we can see, Columbia got the most yellow card followed by Sweden."
      ],
      "metadata": {
        "id": "YgUj737P_rel"
      }
    },
    {
      "cell_type": "markdown",
      "source": [
        "## g) Create ‘Goals’ and ‘Assists’ as scatter. Signify your favorite club or nationality in some way on the scatterplot. You may need to add a new column to the dataset to do so"
      ],
      "metadata": {
        "id": "U_dZ8HZGerU6"
      }
    },
    {
      "cell_type": "code",
      "source": [
        "sns.relplot(data=df, x = 'Goals', y= 'Assists' )\n",
        "plt.title('A scatterplot of goals and assists')"
      ],
      "metadata": {
        "colab": {
          "base_uri": "https://localhost:8080/",
          "height": 403
        },
        "id": "XH6i1c4NaHGp",
        "outputId": "f9e72d88-f6d2-4a3c-ae4a-bd4b12e707d1"
      },
      "execution_count": 56,
      "outputs": [
        {
          "output_type": "execute_result",
          "data": {
            "text/plain": [
              "Text(0.5, 1.0, 'A scatterplot of goals and assists')"
            ]
          },
          "metadata": {},
          "execution_count": 56
        },
        {
          "output_type": "display_data",
          "data": {
            "text/plain": [
              "<Figure size 360x360 with 1 Axes>"
            ],
            "image/png": "[encoded data removed]"
          },
          "metadata": {
            "needs_background": "light"
          }
        }
      ]
    },
    {
      "cell_type": "markdown",
      "source": [
        "this scatterplot shows the data for all the goals and assist in the dataset.\n",
        "\n",
        "Let me create a new column in the dataset where I will store the sum of goals and assist of all the manchester united players from each row.\n",
        "\n",
        "First, I will create a function that will take in a row of data and return the sum of goals and assist from that row. Then I will use `str.contains` function to get only rows that contains Manchester United from Club Column. Finally, I will use `Lambda` to pass those rows into our function which return the sum and put it into a new column called Manchester_United."
      ],
      "metadata": {
        "id": "Mj9gGi4uOMnO"
      }
    },
    {
      "cell_type": "code",
      "source": [
        "def ManchesterUnitedGoals(row):\n",
        "  return row.Goals\n",
        "\n",
        "def ManchesterUnitedAssists(row):\n",
        "  return row.Assists"
      ],
      "metadata": {
        "id": "egZ-TF4DagRh"
      },
      "execution_count": 82,
      "outputs": []
    },
    {
      "cell_type": "code",
      "source": [
        "df2 = df[df['club'].str.contains('Manchester United')]\n",
        "\n",
        "df['MUFC_goals'] = df2.apply(lambda row: ManchesterUnitedGoals(row), axis=1)\n",
        "\n",
        "df['MUFC_assists'] = df2.apply(lambda row: ManchesterUnitedAssists(row), axis=1)"
      ],
      "metadata": {
        "id": "GEMTuzt3kohK"
      },
      "execution_count": 84,
      "outputs": []
    },
    {
      "cell_type": "markdown",
      "source": [
        "Now Manchester United players have their tally but other players that does not play for manchester United will have NULL values. I want to fill NULL will 0s using fillna function from pandas library. Also, convert the column into integer which would get rid of decimal point."
      ],
      "metadata": {
        "id": "b-_fe3kzS9jb"
      }
    },
    {
      "cell_type": "code",
      "source": [
        "df['MUFC_goals'] = df['MUFC_goals'].fillna(0).astype(int)\n",
        "df['MUFC_goals'] = df['MUFC_goals'].astype('int')\n",
        "df['MUFC_assists'] = df['MUFC_assists'].fillna(0).astype(int)\n",
        "df['MUFC_assists'] = df['MUFC_assists'].astype('int')"
      ],
      "metadata": {
        "id": "TwtPpS5_Rz5x"
      },
      "execution_count": 87,
      "outputs": []
    },
    {
      "cell_type": "code",
      "source": [
        "df[df['club'].str.contains('Manchester United')]"
      ],
      "metadata": {
        "colab": {
          "base_uri": "https://localhost:8080/",
          "height": 489
        },
        "id": "uVneqBl2QI6R",
        "outputId": "86ef73fa-7c07-46ea-bec3-24dc0844e650"
      },
      "execution_count": 88,
      "outputs": [
        {
          "output_type": "execute_result",
          "data": {
            "text/plain": [
              "     Unnamed: 0  Rank           player               club  age    Apps  Mins  \\\n",
              "420         803     9       Paul Pogba  Manchester United   25   25(2)  2151   \n",
              "421         804   187       Paul Pogba  Manchester United   25    3(2)   279   \n",
              "426         813    17    Romelu Lukaku  Manchester United   25   33(1)  2869   \n",
              "427         815    16    Romelu Lukaku  Manchester United   25       8   704   \n",
              "434         828    27       Phil Jones  Manchester United   26      23  1975   \n",
              "435         830    28    Nemanja Matic  Manchester United   29   35(1)  3119   \n",
              "436         832    45    Nemanja Matic  Manchester United   29    6(1)   564   \n",
              "444         848    38     Ashley Young  Manchester United   32   28(2)  2448   \n",
              "445         850    51     Ashley Young  Manchester United   32       4   337   \n",
              "483         926   127    Jesse Lingard  Manchester United   25  20(13)  1823   \n",
              "484         928   426    Jesse Lingard  Manchester United   25    3(3)   246   \n",
              "493         946   164  Marcus Rashford  Manchester United   20  17(18)  1810   \n",
              "494         948   153  Marcus Rashford  Manchester United   20    3(5)   345   \n",
              "559        1074   138  Victor Lindelof  Manchester United   23       5   450   \n",
              "\n",
              "     Goals  Assists  Yel  Red  SpG    PS AerialsWon  MotM  Rating nationality  \\\n",
              "420      6       10    5    1  2.8  85.3        1.9     4    7.48      France   \n",
              "421      0        1    0    0    1  86.0        0.6     0    6.83      France   \n",
              "426     16        7    4    0  2.5  68.4        3.2     2    7.29     Belgium   \n",
              "427      5        0    0    0  3.3  70.3        4.5     2    7.70     Belgium   \n",
              "434      0        0    2    0  0.1  91.2        2.5     2    7.21     England   \n",
              "435      1        1    6    0  0.5  87.7        1.6     0    7.20      Serbia   \n",
              "436      0        0    0    0  0.4  89.2        1.4     1    7.29      Serbia   \n",
              "444      2        4    7    0  0.6  79.5        0.6     4    7.12     England   \n",
              "445      0        1    1    0  0.5  83.9        0.5     0    7.27     England   \n",
              "483      8        5    2    0  1.7  87.8        0.2     1    6.82     England   \n",
              "484      0        0    2    0  0.7  91.6        0.3     0    6.23     England   \n",
              "493      7        5    3    0  1.7  78.3        0.5     1    6.76     England   \n",
              "494      3        1    1    0  2.4  75.4        0.4     1    6.94     England   \n",
              "559      0        0    0    0    -  90.3        1.2     0    6.98      Sweden   \n",
              "\n",
              "     MUFC_goals  MUFC_assists  \n",
              "420           6            10  \n",
              "421           0             1  \n",
              "426          16             7  \n",
              "427           5             0  \n",
              "434           0             0  \n",
              "435           1             1  \n",
              "436           0             0  \n",
              "444           2             4  \n",
              "445           0             1  \n",
              "483           8             5  \n",
              "484           0             0  \n",
              "493           7             5  \n",
              "494           3             1  \n",
              "559           0             0  "
            ],
            "text/html": [
              "\n",
              "  <div id=\"df-f8a3cb24-e293-4286-b061-94b0cb1d3536\">\n",
              "    <div class=\"colab-df-container\">\n",
              "      <div>\n",
              "<style scoped>\n",
              "    .dataframe tbody tr th:only-of-type {\n",
              "        vertical-align: middle;\n",
              "    }\n",
              "\n",
              "    .dataframe tbody tr th {\n",
              "        vertical-align: top;\n",
              "    }\n",
              "\n",
              "    .dataframe thead th {\n",
              "        text-align: right;\n",
              "    }\n",
              "</style>\n",
              "<table border=\"1\" class=\"dataframe\">\n",
              "  <thead>\n",
              "    <tr style=\"text-align: right;\">\n",
              "      <th></th>\n",
              "      <th>Unnamed: 0</th>\n",
              "      <th>Rank</th>\n",
              "      <th>player</th>\n",
              "      <th>club</th>\n",
              "      <th>age</th>\n",
              "      <th>Apps</th>\n",
              "      <th>Mins</th>\n",
              "      <th>Goals</th>\n",
              "      <th>Assists</th>\n",
              "      <th>Yel</th>\n",
              "      <th>Red</th>\n",
              "      <th>SpG</th>\n",
              "      <th>PS</th>\n",
              "      <th>AerialsWon</th>\n",
              "      <th>MotM</th>\n",
              "      <th>Rating</th>\n",
              "      <th>nationality</th>\n",
              "      <th>MUFC_goals</th>\n",
              "      <th>MUFC_assists</th>\n",
              "    </tr>\n",
              "  </thead>\n",
              "  <tbody>\n",
              "    <tr>\n",
              "      <th>420</th>\n",
              "      <td>803</td>\n",
              "      <td>9</td>\n",
              "      <td>Paul Pogba</td>\n",
              "      <td>Manchester United</td>\n",
              "      <td>25</td>\n",
              "      <td>25(2)</td>\n",
              "      <td>2151</td>\n",
              "      <td>6</td>\n",
              "      <td>10</td>\n",
              "      <td>5</td>\n",
              "      <td>1</td>\n",
              "      <td>2.8</td>\n",
              "      <td>85.3</td>\n",
              "      <td>1.9</td>\n",
              "      <td>4</td>\n",
              "      <td>7.48</td>\n",
              "      <td>France</td>\n",
              "      <td>6</td>\n",
              "      <td>10</td>\n",
              "    </tr>\n",
              "    <tr>\n",
              "      <th>421</th>\n",
              "      <td>804</td>\n",
              "      <td>187</td>\n",
              "      <td>Paul Pogba</td>\n",
              "      <td>Manchester United</td>\n",
              "      <td>25</td>\n",
              "      <td>3(2)</td>\n",
              "      <td>279</td>\n",
              "      <td>0</td>\n",
              "      <td>1</td>\n",
              "      <td>0</td>\n",
              "      <td>0</td>\n",
              "      <td>1</td>\n",
              "      <td>86.0</td>\n",
              "      <td>0.6</td>\n",
              "      <td>0</td>\n",
              "      <td>6.83</td>\n",
              "      <td>France</td>\n",
              "      <td>0</td>\n",
              "      <td>1</td>\n",
              "    </tr>\n",
              "    <tr>\n",
              "      <th>426</th>\n",
              "      <td>813</td>\n",
              "      <td>17</td>\n",
              "      <td>Romelu Lukaku</td>\n",
              "      <td>Manchester United</td>\n",
              "      <td>25</td>\n",
              "      <td>33(1)</td>\n",
              "      <td>2869</td>\n",
              "      <td>16</td>\n",
              "      <td>7</td>\n",
              "      <td>4</td>\n",
              "      <td>0</td>\n",
              "      <td>2.5</td>\n",
              "      <td>68.4</td>\n",
              "      <td>3.2</td>\n",
              "      <td>2</td>\n",
              "      <td>7.29</td>\n",
              "      <td>Belgium</td>\n",
              "      <td>16</td>\n",
              "      <td>7</td>\n",
              "    </tr>\n",
              "    <tr>\n",
              "      <th>427</th>\n",
              "      <td>815</td>\n",
              "      <td>16</td>\n",
              "      <td>Romelu Lukaku</td>\n",
              "      <td>Manchester United</td>\n",
              "      <td>25</td>\n",
              "      <td>8</td>\n",
              "      <td>704</td>\n",
              "      <td>5</td>\n",
              "      <td>0</td>\n",
              "      <td>0</td>\n",
              "      <td>0</td>\n",
              "      <td>3.3</td>\n",
              "      <td>70.3</td>\n",
              "      <td>4.5</td>\n",
              "      <td>2</td>\n",
              "      <td>7.70</td>\n",
              "      <td>Belgium</td>\n",
              "      <td>5</td>\n",
              "      <td>0</td>\n",
              "    </tr>\n",
              "    <tr>\n",
              "      <th>434</th>\n",
              "      <td>828</td>\n",
              "      <td>27</td>\n",
              "      <td>Phil Jones</td>\n",
              "      <td>Manchester United</td>\n",
              "      <td>26</td>\n",
              "      <td>23</td>\n",
              "      <td>1975</td>\n",
              "      <td>0</td>\n",
              "      <td>0</td>\n",
              "      <td>2</td>\n",
              "      <td>0</td>\n",
              "      <td>0.1</td>\n",
              "      <td>91.2</td>\n",
              "      <td>2.5</td>\n",
              "      <td>2</td>\n",
              "      <td>7.21</td>\n",
              "      <td>England</td>\n",
              "      <td>0</td>\n",
              "      <td>0</td>\n",
              "    </tr>\n",
              "    <tr>\n",
              "      <th>435</th>\n",
              "      <td>830</td>\n",
              "      <td>28</td>\n",
              "      <td>Nemanja Matic</td>\n",
              "      <td>Manchester United</td>\n",
              "      <td>29</td>\n",
              "      <td>35(1)</td>\n",
              "      <td>3119</td>\n",
              "      <td>1</td>\n",
              "      <td>1</td>\n",
              "      <td>6</td>\n",
              "      <td>0</td>\n",
              "      <td>0.5</td>\n",
              "      <td>87.7</td>\n",
              "      <td>1.6</td>\n",
              "      <td>0</td>\n",
              "      <td>7.20</td>\n",
              "      <td>Serbia</td>\n",
              "      <td>1</td>\n",
              "      <td>1</td>\n",
              "    </tr>\n",
              "    <tr>\n",
              "      <th>436</th>\n",
              "      <td>832</td>\n",
              "      <td>45</td>\n",
              "      <td>Nemanja Matic</td>\n",
              "      <td>Manchester United</td>\n",
              "      <td>29</td>\n",
              "      <td>6(1)</td>\n",
              "      <td>564</td>\n",
              "      <td>0</td>\n",
              "      <td>0</td>\n",
              "      <td>0</td>\n",
              "      <td>0</td>\n",
              "      <td>0.4</td>\n",
              "      <td>89.2</td>\n",
              "      <td>1.4</td>\n",
              "      <td>1</td>\n",
              "      <td>7.29</td>\n",
              "      <td>Serbia</td>\n",
              "      <td>0</td>\n",
              "      <td>0</td>\n",
              "    </tr>\n",
              "    <tr>\n",
              "      <th>444</th>\n",
              "      <td>848</td>\n",
              "      <td>38</td>\n",
              "      <td>Ashley Young</td>\n",
              "      <td>Manchester United</td>\n",
              "      <td>32</td>\n",
              "      <td>28(2)</td>\n",
              "      <td>2448</td>\n",
              "      <td>2</td>\n",
              "      <td>4</td>\n",
              "      <td>7</td>\n",
              "      <td>0</td>\n",
              "      <td>0.6</td>\n",
              "      <td>79.5</td>\n",
              "      <td>0.6</td>\n",
              "      <td>4</td>\n",
              "      <td>7.12</td>\n",
              "      <td>England</td>\n",
              "      <td>2</td>\n",
              "      <td>4</td>\n",
              "    </tr>\n",
              "    <tr>\n",
              "      <th>445</th>\n",
              "      <td>850</td>\n",
              "      <td>51</td>\n",
              "      <td>Ashley Young</td>\n",
              "      <td>Manchester United</td>\n",
              "      <td>32</td>\n",
              "      <td>4</td>\n",
              "      <td>337</td>\n",
              "      <td>0</td>\n",
              "      <td>1</td>\n",
              "      <td>1</td>\n",
              "      <td>0</td>\n",
              "      <td>0.5</td>\n",
              "      <td>83.9</td>\n",
              "      <td>0.5</td>\n",
              "      <td>0</td>\n",
              "      <td>7.27</td>\n",
              "      <td>England</td>\n",
              "      <td>0</td>\n",
              "      <td>1</td>\n",
              "    </tr>\n",
              "    <tr>\n",
              "      <th>483</th>\n",
              "      <td>926</td>\n",
              "      <td>127</td>\n",
              "      <td>Jesse Lingard</td>\n",
              "      <td>Manchester United</td>\n",
              "      <td>25</td>\n",
              "      <td>20(13)</td>\n",
              "      <td>1823</td>\n",
              "      <td>8</td>\n",
              "      <td>5</td>\n",
              "      <td>2</td>\n",
              "      <td>0</td>\n",
              "      <td>1.7</td>\n",
              "      <td>87.8</td>\n",
              "      <td>0.2</td>\n",
              "      <td>1</td>\n",
              "      <td>6.82</td>\n",
              "      <td>England</td>\n",
              "      <td>8</td>\n",
              "      <td>5</td>\n",
              "    </tr>\n",
              "    <tr>\n",
              "      <th>484</th>\n",
              "      <td>928</td>\n",
              "      <td>426</td>\n",
              "      <td>Jesse Lingard</td>\n",
              "      <td>Manchester United</td>\n",
              "      <td>25</td>\n",
              "      <td>3(3)</td>\n",
              "      <td>246</td>\n",
              "      <td>0</td>\n",
              "      <td>0</td>\n",
              "      <td>2</td>\n",
              "      <td>0</td>\n",
              "      <td>0.7</td>\n",
              "      <td>91.6</td>\n",
              "      <td>0.3</td>\n",
              "      <td>0</td>\n",
              "      <td>6.23</td>\n",
              "      <td>England</td>\n",
              "      <td>0</td>\n",
              "      <td>0</td>\n",
              "    </tr>\n",
              "    <tr>\n",
              "      <th>493</th>\n",
              "      <td>946</td>\n",
              "      <td>164</td>\n",
              "      <td>Marcus Rashford</td>\n",
              "      <td>Manchester United</td>\n",
              "      <td>20</td>\n",
              "      <td>17(18)</td>\n",
              "      <td>1810</td>\n",
              "      <td>7</td>\n",
              "      <td>5</td>\n",
              "      <td>3</td>\n",
              "      <td>0</td>\n",
              "      <td>1.7</td>\n",
              "      <td>78.3</td>\n",
              "      <td>0.5</td>\n",
              "      <td>1</td>\n",
              "      <td>6.76</td>\n",
              "      <td>England</td>\n",
              "      <td>7</td>\n",
              "      <td>5</td>\n",
              "    </tr>\n",
              "    <tr>\n",
              "      <th>494</th>\n",
              "      <td>948</td>\n",
              "      <td>153</td>\n",
              "      <td>Marcus Rashford</td>\n",
              "      <td>Manchester United</td>\n",
              "      <td>20</td>\n",
              "      <td>3(5)</td>\n",
              "      <td>345</td>\n",
              "      <td>3</td>\n",
              "      <td>1</td>\n",
              "      <td>1</td>\n",
              "      <td>0</td>\n",
              "      <td>2.4</td>\n",
              "      <td>75.4</td>\n",
              "      <td>0.4</td>\n",
              "      <td>1</td>\n",
              "      <td>6.94</td>\n",
              "      <td>England</td>\n",
              "      <td>3</td>\n",
              "      <td>1</td>\n",
              "    </tr>\n",
              "    <tr>\n",
              "      <th>559</th>\n",
              "      <td>1074</td>\n",
              "      <td>138</td>\n",
              "      <td>Victor Lindelof</td>\n",
              "      <td>Manchester United</td>\n",
              "      <td>23</td>\n",
              "      <td>5</td>\n",
              "      <td>450</td>\n",
              "      <td>0</td>\n",
              "      <td>0</td>\n",
              "      <td>0</td>\n",
              "      <td>0</td>\n",
              "      <td>-</td>\n",
              "      <td>90.3</td>\n",
              "      <td>1.2</td>\n",
              "      <td>0</td>\n",
              "      <td>6.98</td>\n",
              "      <td>Sweden</td>\n",
              "      <td>0</td>\n",
              "      <td>0</td>\n",
              "    </tr>\n",
              "  </tbody>\n",
              "</table>\n",
              "</div>\n",
              "      <button class=\"colab-df-convert\" onclick=\"convertToInteractive('df-f8a3cb24-e293-4286-b061-94b0cb1d3536')\"\n",
              "              title=\"Convert this dataframe to an interactive table.\"\n",
              "              style=\"display:none;\">\n",
              "        \n",
              "  <svg xmlns=\"http://www.w3.org/2000/svg\" height=\"24px\"viewBox=\"0 0 24 24\"\n",
              "       width=\"24px\">\n",
              "    <path d=\"M0 0h24v24H0V0z\" fill=\"none\"/>\n",
              "    <path d=\"M18.56 5.44l.94 2.06.94-2.06 2.06-.94-2.06-.94-.94-2.06-.94 2.06-2.06.94zm-11 1L8.5 8.5l.94-2.06 2.06-.94-2.06-.94L8.5 2.5l-.94 2.06-2.06.94zm10 10l.94 2.06.94-2.06 2.06-.94-2.06-.94-.94-2.06-.94 2.06-2.06.94z\"/><path d=\"M17.41 7.96l-1.37-1.37c-.4-.4-.92-.59-1.43-.59-.52 0-1.04.2-1.43.59L10.3 9.45l-7.72 7.72c-.78.78-.78 2.05 0 2.83L4 21.41c.39.39.9.59 1.41.59.51 0 1.02-.2 1.41-.59l7.78-7.78 2.81-2.81c.8-.78.8-2.07 0-2.86zM5.41 20L4 18.59l7.72-7.72 1.47 1.35L5.41 20z\"/>\n",
              "  </svg>\n",
              "      </button>\n",
              "      \n",
              "  <style>\n",
              "    .colab-df-container {\n",
              "      display:flex;\n",
              "      flex-wrap:wrap;\n",
              "      gap: 12px;\n",
              "    }\n",
              "\n",
              "    .colab-df-convert {\n",
              "      background-color: #E8F0FE;\n",
              "      border: none;\n",
              "      border-radius: 50%;\n",
              "      cursor: pointer;\n",
              "      display: none;\n",
              "      fill: #1967D2;\n",
              "      height: 32px;\n",
              "      padding: 0 0 0 0;\n",
              "      width: 32px;\n",
              "    }\n",
              "\n",
              "    .colab-df-convert:hover {\n",
              "      background-color: #E2EBFA;\n",
              "      box-shadow: 0px 1px 2px rgba(60, 64, 67, 0.3), 0px 1px 3px 1px rgba(60, 64, 67, 0.15);\n",
              "      fill: #174EA6;\n",
              "    }\n",
              "\n",
              "    [theme=dark] .colab-df-convert {\n",
              "      background-color: #3B4455;\n",
              "      fill: #D2E3FC;\n",
              "    }\n",
              "\n",
              "    [theme=dark] .colab-df-convert:hover {\n",
              "      background-color: #434B5C;\n",
              "      box-shadow: 0px 1px 3px 1px rgba(0, 0, 0, 0.15);\n",
              "      filter: drop-shadow(0px 1px 2px rgba(0, 0, 0, 0.3));\n",
              "      fill: #FFFFFF;\n",
              "    }\n",
              "  </style>\n",
              "\n",
              "      <script>\n",
              "        const buttonEl =\n",
              "          document.querySelector('#df-f8a3cb24-e293-4286-b061-94b0cb1d3536 button.colab-df-convert');\n",
              "        buttonEl.style.display =\n",
              "          google.colab.kernel.accessAllowed ? 'block' : 'none';\n",
              "\n",
              "        async function convertToInteractive(key) {\n",
              "          const element = document.querySelector('#df-f8a3cb24-e293-4286-b061-94b0cb1d3536');\n",
              "          const dataTable =\n",
              "            await google.colab.kernel.invokeFunction('convertToInteractive',\n",
              "                                                     [key], {});\n",
              "          if (!dataTable) return;\n",
              "\n",
              "          const docLinkHtml = 'Like what you see? Visit the ' +\n",
              "            '<a target=\"_blank\" href=https://colab.research.google.com/notebooks/data_table.ipynb>data table notebook</a>'\n",
              "            + ' to learn more about interactive tables.';\n",
              "          element.innerHTML = '';\n",
              "          dataTable['output_type'] = 'display_data';\n",
              "          await google.colab.output.renderOutput(dataTable, element);\n",
              "          const docLink = document.createElement('div');\n",
              "          docLink.innerHTML = docLinkHtml;\n",
              "          element.appendChild(docLink);\n",
              "        }\n",
              "      </script>\n",
              "    </div>\n",
              "  </div>\n",
              "  "
            ]
          },
          "metadata": {},
          "execution_count": 88
        }
      ]
    },
    {
      "cell_type": "markdown",
      "source": [
        "Finally I am ready to plot this data into scatter plot with different style and size."
      ],
      "metadata": {
        "id": "xqRWJTxST5pO"
      }
    },
    {
      "cell_type": "code",
      "source": [
        "sns.relplot(data = df, x = 'Goals', y = 'Assists', color = 'green', style = 'MUFC_goals', size = 'MUFC_assists')\n",
        "\n",
        "plt.title('A scatterplot of goals vs assist')"
      ],
      "metadata": {
        "colab": {
          "base_uri": "https://localhost:8080/",
          "height": 403
        },
        "id": "lYM9M62mSLJZ",
        "outputId": "1a34a522-4dc3-40a8-fdcd-45e89662b567"
      },
      "execution_count": 110,
      "outputs": [
        {
          "output_type": "execute_result",
          "data": {
            "text/plain": [
              "Text(0.5, 1.0, 'A scatterplot of goals vs assist')"
            ]
          },
          "metadata": {},
          "execution_count": 110
        },
        {
          "output_type": "display_data",
          "data": {
            "text/plain": [
              "<Figure size 443.5x360 with 1 Axes>"
            ],
            "image/png": "[encoded data removed]"
          },
          "metadata": {
            "needs_background": "light"
          }
        }
      ]
    },
    {
      "cell_type": "markdown",
      "source": [
        "## h) Create stacked barplot of goals and assists of French National Team. (they won this tourney!) Be sure to comment on why it is appropriate to stack goals and assists."
      ],
      "metadata": {
        "id": "MwIGqOu0iNKd"
      }
    },
    {
      "cell_type": "markdown",
      "source": [
        "I created a new dataframe by filtering France from nationalilty column. Used that dataset to create a stacked barplot "
      ],
      "metadata": {
        "id": "cAEJD31oz-97"
      }
    },
    {
      "cell_type": "code",
      "source": [
        "df3 = df[df['nationality'].str.contains('France')]\n"
      ],
      "metadata": {
        "id": "w-6Ot5ulUESD"
      },
      "execution_count": 123,
      "outputs": []
    },
    {
      "cell_type": "code",
      "source": [
        "ax = df3[['Goals', 'Assists']].plot(kind = 'bar', stacked = True,figsize=(15, 10) , title = 'Stacked barplot of golas and assist of French National Team')\n",
        "ax.set_xlabel('Goals')\n",
        "ax.set_ylabel('Assists')\n"
      ],
      "metadata": {
        "colab": {
          "base_uri": "https://localhost:8080/",
          "height": 656
        },
        "id": "5RfnWgDwjb3M",
        "outputId": "55ff335b-4244-4e73-f50c-51774d5e926c"
      },
      "execution_count": 156,
      "outputs": [
        {
          "output_type": "execute_result",
          "data": {
            "text/plain": [
              "Text(0, 0.5, 'Assists')"
            ]
          },
          "metadata": {},
          "execution_count": 156
        },
        {
          "output_type": "display_data",
          "data": {
            "text/plain": [
              "<Figure size 1080x720 with 1 Axes>"
            ],
            "image/png": "[encoded data removed]"
          },
          "metadata": {}
        }
      ]
    },
    {
      "cell_type": "markdown",
      "source": [
        "Main purpose of stacked bar charts is to look at the big picture of data as a total item and also see individual items that infuence the total item. Here, we can see that goals and assists individually as well as total tally of both items. We can relate to goals and assists because from above chart we can analyze that player score same amount of goals as they assist."
      ],
      "metadata": {
        "id": "aqe95CWq4kga"
      }
    },
    {
      "cell_type": "markdown",
      "source": [
        "## i) Create a correlation heatmap of the entire dataset."
      ],
      "metadata": {
        "id": "HNmloUGMuuT1"
      }
    },
    {
      "cell_type": "code",
      "source": [
        "sns.set(rc = {'figure.figsize':(15,10)})\n",
        "ax = sns.heatmap(df.corr(),vmin = -1, annot=False)\n",
        "ax.set(title = 'Heatmap of World Cup Player Dataset')\n",
        "plt.show()"
      ],
      "metadata": {
        "colab": {
          "base_uri": "https://localhost:8080/",
          "height": 674
        },
        "id": "64tz2dR_jzaE",
        "outputId": "ffd782bc-a177-479f-9de9-a8cde80d89d5"
      },
      "execution_count": 155,
      "outputs": [
        {
          "output_type": "display_data",
          "data": {
            "text/plain": [
              "<Figure size 1080x720 with 2 Axes>"
            ],
            "image/png": "[encoded data removed]"
          },
          "metadata": {}
        }
      ]
    },
    {
      "cell_type": "markdown",
      "source": [
        "Here I created the correlation heatmap of entire dataset using heatmap function of seaborn library. Goals and Assists have some correlation, Man of the match and goals also have some correlations."
      ],
      "metadata": {
        "id": "gT0wO_Cbz7yy"
      }
    },
    {
      "cell_type": "markdown",
      "source": [
        "(a) Approximately how long did you work on this exam?\n",
        "\n",
        "=> This took me around 2 hours to complete with few food breaks.\n",
        "\n",
        "(b) Which was the hardest and easiest topic from this section?\n",
        "\n",
        "=> number (g) of (1) was the most difficult part for me. histogram and correlation of entire dataset was much easier.\n",
        "\n",
        "(c) Which method of visualization are you still unclear what it might show?\n",
        "\n",
        "=> Raincloud in Seaborn."
      ],
      "metadata": {
        "id": "KGT-2UL90ulO"
      }
    },
    {
      "cell_type": "code",
      "source": [
        ""
      ],
      "metadata": {
        "id": "PnE6hwLR0yxg"
      },
      "execution_count": null,
      "outputs": []
    }
  ]
}