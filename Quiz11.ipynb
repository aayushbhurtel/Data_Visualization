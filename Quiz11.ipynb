{
  "nbformat": 4,
  "nbformat_minor": 0,
  "metadata": {
    "colab": {
      "name": "Quiz11.ipynb",
      "provenance": [],
      "authorship_tag": "ABX9TyOXO1pRGyvjD6gIMAAwLLC1",
      "include_colab_link": true
    },
    "kernelspec": {
      "name": "python3",
      "display_name": "Python 3"
    },
    "language_info": {
      "name": "python"
    }
  },
  "cells": [
    {
      "cell_type": "markdown",
      "metadata": {
        "id": "view-in-github",
        "colab_type": "text"
      },
      "source": [
        "<a href=\"https://colab.research.google.com/github/aayushbhurtel/Data_Visualization/blob/main/Quiz11.ipynb\" target=\"_parent\"><img src=\"https://colab.research.google.com/assets/colab-badge.svg\" alt=\"Open In Colab\"/></a>"
      ]
    },
    {
      "cell_type": "markdown",
      "source": [
        "# Data Visualization\n",
        "\n",
        "## Aayush Bhurtel\n",
        "\n",
        "Twitter data scraping"
      ],
      "metadata": {
        "id": "UlI_mzYggAbs"
      }
    },
    {
      "cell_type": "markdown",
      "source": [
        "I am going to use a different library then twitter's own library. Tweepy is a python library which access twitter API to get all the data from twitter itself. pip install tweepy will install library in our system."
      ],
      "metadata": {
        "id": "vZe7A0_-gJD-"
      }
    },
    {
      "cell_type": "code",
      "execution_count": 1,
      "metadata": {
        "colab": {
          "base_uri": "https://localhost:8080/"
        },
        "id": "JPqxqDLgf-H-",
        "outputId": "6c257eee-04c9-42c0-9f49-2bff2dd6105e"
      },
      "outputs": [
        {
          "output_type": "stream",
          "name": "stdout",
          "text": [
            "Requirement already satisfied: tweepy in /usr/local/lib/python3.7/dist-packages (3.10.0)\n",
            "Requirement already satisfied: six>=1.10.0 in /usr/local/lib/python3.7/dist-packages (from tweepy) (1.15.0)\n",
            "Requirement already satisfied: requests-oauthlib>=0.7.0 in /usr/local/lib/python3.7/dist-packages (from tweepy) (1.3.1)\n",
            "Requirement already satisfied: requests[socks]>=2.11.1 in /usr/local/lib/python3.7/dist-packages (from tweepy) (2.23.0)\n",
            "Requirement already satisfied: oauthlib>=3.0.0 in /usr/local/lib/python3.7/dist-packages (from requests-oauthlib>=0.7.0->tweepy) (3.2.0)\n",
            "Requirement already satisfied: idna<3,>=2.5 in /usr/local/lib/python3.7/dist-packages (from requests[socks]>=2.11.1->tweepy) (2.10)\n",
            "Requirement already satisfied: certifi>=2017.4.17 in /usr/local/lib/python3.7/dist-packages (from requests[socks]>=2.11.1->tweepy) (2021.10.8)\n",
            "Requirement already satisfied: chardet<4,>=3.0.2 in /usr/local/lib/python3.7/dist-packages (from requests[socks]>=2.11.1->tweepy) (3.0.4)\n",
            "Requirement already satisfied: urllib3!=1.25.0,!=1.25.1,<1.26,>=1.21.1 in /usr/local/lib/python3.7/dist-packages (from requests[socks]>=2.11.1->tweepy) (1.24.3)\n",
            "Requirement already satisfied: PySocks!=1.5.7,>=1.5.6 in /usr/local/lib/python3.7/dist-packages (from requests[socks]>=2.11.1->tweepy) (1.7.1)\n"
          ]
        }
      ],
      "source": [
        "!pip install tweepy"
      ]
    },
    {
      "cell_type": "markdown",
      "source": [
        "To use a twitter to scrape data, we need to authenticate twitter account with api keys which means we need to have a twitter developer account. you can create a new one or use an existing account. I have created and used my own api keys here."
      ],
      "metadata": {
        "id": "gulEncPYgX4w"
      }
    },
    {
      "cell_type": "code",
      "source": [
        "import tweepy\n",
        "\n",
        "# these are the variables required to authenticate tweepy with twitter account\n",
        "# I cheated here and copied these keys from professor config file cause my twitter developer account could not be verified.\n",
        "CONSUMER_KEY = 'B7llSAknxySGR2ixSRv1QdytP'\n",
        "CONSUMER_SECRET ='PIstmJHyMF77RdNXgdlrBKBKy0uEtIojPU0bUiEZc8ztNPluV2'\n",
        "OAUTH_TOKEN = '1037047347405045760-Jk0gP8YewJ2XgSujHjnh4eB4oC48A7'\n",
        "OAUTH_TOKEN_SECRET = 'gX8pMXKUjH0501XSHs8BUrFUWJ070aSmLsfF800E5x5sW'\n",
        "\n",
        "# get authenticated with twitter\n",
        "auth = tweepy.OAuthHandler(CONSUMER_KEY, CONSUMER_SECRET)\n",
        "auth.set_access_token(OAUTH_TOKEN, OAUTH_TOKEN_SECRET)\n",
        "tweepy_api = tweepy.API(auth)"
      ],
      "metadata": {
        "id": "LkPOVydSgTam"
      },
      "execution_count": 2,
      "outputs": []
    },
    {
      "cell_type": "markdown",
      "source": [
        "above code authenticated our library with twitter api, now let us test our tweepy library by printing out some random tweets."
      ],
      "metadata": {
        "id": "bakaTaPPwuCw"
      }
    },
    {
      "cell_type": "code",
      "source": [
        "public_tweets = tweepy_api.home_timeline()\n",
        "for tweet in public_tweets:\n",
        "  print(tweet.text)"
      ],
      "metadata": {
        "id": "f6Ww62vboZaK"
      },
      "execution_count": null,
      "outputs": []
    },
    {
      "cell_type": "markdown",
      "source": [
        "It actually does work, now let us dig into actual stuff to analyze twitterspace. Let us get a user tweet from username. I am using `elonmusk` twitter to get all his tweets."
      ],
      "metadata": {
        "id": "4MGIkMEOzDc0"
      }
    },
    {
      "cell_type": "code",
      "source": [
        "# tweet from a user by their username\n",
        "user_tweet = tweepy_api.user_timeline('elonmusk')\n",
        "for tweet in user_tweet:\n",
        "  print(tweet.text)"
      ],
      "metadata": {
        "id": "WmnYqkcfpzc9",
        "colab": {
          "base_uri": "https://localhost:8080/"
        },
        "outputId": "6b831c8c-9d55-4309-9641-46dd0932b0a7"
      },
      "execution_count": 7,
      "outputs": [
        {
          "output_type": "stream",
          "name": "stdout",
          "text": [
            "@waitbutwhy !\n",
            "@engineers_feed All these different standards for electricity are a tax on humanity\n",
            "@farty_mcpoops @Olivier_Lambert @TheRealKeean Gavin is kinda badass in this vid\n",
            "@Ali_Tesla585 @teslaownersSV @TheRealKeean Only very high resolution radar is relevant\n",
            "@teslaownersSV @TheRealKeean We have to solve a huge part of AI just to make cars drive themselves. \n",
            "\n",
            "In retrospect… https://t.co/EIcCCPA1RO\n",
            "@TheRealKeean Double-standard?\n",
            "@TheRealKeean https://t.co/ok0BmaoapC\n",
            "@TheRealKeean It’s not my money https://t.co/IKRxhGo8wS\n",
            "@Tesmanian_com A bigger win than it may seem\n",
            "@co_tesla 💯\n",
            "@WholeMarsBlog 😢\n",
            "@RGVaerialphotos Yes\n",
            "@SirineAti Thursday next week at 8pm Texas time\n",
            "@SirineAti Starship aspires to be the first fully reusable orbital launch vehicle, the holy grail of rocketry. \n",
            "\n",
            "Th… https://t.co/P0kOoOblrb\n",
            "@GregWAutry And all the forms of life on Earth\n",
            "@GregWAutry Becoming multiplanetary is essential to extending dramatically the probable lifespan of civilization\n",
            "@SirineAti Starship is in a different league. Orders of magnitude more mass to orbit than Falcon. Necessary for cre… https://t.co/daFDB65FNf\n",
            "If things go well, Falcon will launch about once a week on average in 2022, delivering ~2/3 of all Earth payload to orbit\n",
            "@GailAlfarATX @Tesla Tesla is working hard to provide more Megapacks for grid stabilization\n",
            "Congrats SpaceX Falcon team! https://t.co/ZplhTv0QcH\n"
          ]
        }
      ]
    },
    {
      "cell_type": "markdown",
      "source": [
        "Now let me use some of professor code to print top 10 world trends right now.\n",
        "for this, I am using `trends_palce()` method which takes WOEID and exlcude as a parameters."
      ],
      "metadata": {
        "id": "R7Y3l-wkZfy-"
      }
    },
    {
      "cell_type": "code",
      "source": [
        "# The Yahoo! Where On Earth ID for the entire world is 1.\n",
        "# See https://dev.twitter.com/docs/api/1.1/get/trends/place and\n",
        "# http://developer.yahoo.com/geo/geoplanet/\n",
        "\n",
        "WORLD_WOE_ID = 1\n",
        "\n",
        "# Prefix ID with the underscore for query string parameterization.\n",
        "# Without the underscore, the twitter package appends the ID value\n",
        "# to the URL itself as a special case keyword argument.\n",
        "\n",
        "world_trends = tweepy_api.trends_place(WORLD_WOE_ID, exclude= \"hashtags\")\n",
        "trends_list = []\n",
        "print(\"****** Top 10 trends from the world. ********\")\n",
        "for value in world_trends:\n",
        "    for trend in value['trends']:\n",
        "      trends_list.append(trend['name'])\n",
        "\n",
        "top_ten = trends_list[:10]\n",
        "print(*top_ten, sep = \"\\n\")"
      ],
      "metadata": {
        "colab": {
          "base_uri": "https://localhost:8080/"
        },
        "id": "QpJSGy97z30R",
        "outputId": "a32fa924-e3b6-444a-91aa-0bb37d1fb263"
      },
      "execution_count": 30,
      "outputs": [
        {
          "output_type": "stream",
          "name": "stdout",
          "text": [
            "****** Top 10 trends from the world. ********\n",
            "طيور الجنه\n",
            "Cruzeiro\n",
            "نور الجنه\n",
            "Heitor\n",
            "Allah y Rahmo\n",
            "Ypiranga\n",
            "Giroud\n",
            "Paradis\n",
            "علي قلب\n",
            "Mpho\n"
          ]
        }
      ]
    },
    {
      "cell_type": "markdown",
      "source": [
        "let me explain what is going on in above code. Firstly, I used `trends_place` method to get the latest trends. I actualled passed world as a Where On Earth ID which is 1 and I exluded `hashtag` cause we don't want hashtag as a trend. \n",
        "\n",
        "Then, I simply used for loops to print first 10 of them.\n"
      ],
      "metadata": {
        "id": "7UcDnYnc5pcT"
      }
    },
    {
      "cell_type": "markdown",
      "source": [
        "Q. Search for your favorite show, actor, sports team or player and see what twitter is saying about them.\n",
        "\n",
        "I am doing `Manchester United` as my favorite sports team."
      ],
      "metadata": {
        "id": "q03t4m1gAZWa"
      }
    },
    {
      "cell_type": "code",
      "source": [
        "import pandas as pd\n",
        "\n",
        "df = pd.DataFrame(columns=['text', 'source', 'url'])\n",
        "msgs = []\n",
        "msg =[]\n",
        "q = \"ManchesterUnited\"\n",
        "\n",
        "for tweet in tweepy.Cursor(tweepy_api.search, q , rpp=100).items(100):\n",
        "    msg = [tweet.text] \n",
        "    msg = tuple(msg)                    \n",
        "    msgs.append(msg)\n",
        "\n",
        "df = pd.DataFrame(msgs)\n",
        "df"
      ],
      "metadata": {
        "colab": {
          "base_uri": "https://localhost:8080/",
          "height": 654
        },
        "id": "oqn3TlKxq3M-",
        "outputId": "8394294d-0dbb-4cb2-f7d3-de7a8fdd11eb"
      },
      "execution_count": 41,
      "outputs": [
        {
          "output_type": "execute_result",
          "data": {
            "text/html": [
              "\n",
              "  <div id=\"df-e81ce269-5257-4d22-9e1c-d3f4aae6177c\">\n",
              "    <div class=\"colab-df-container\">\n",
              "      <div>\n",
              "<style scoped>\n",
              "    .dataframe tbody tr th:only-of-type {\n",
              "        vertical-align: middle;\n",
              "    }\n",
              "\n",
              "    .dataframe tbody tr th {\n",
              "        vertical-align: top;\n",
              "    }\n",
              "\n",
              "    .dataframe thead th {\n",
              "        text-align: right;\n",
              "    }\n",
              "</style>\n",
              "<table border=\"1\" class=\"dataframe\">\n",
              "  <thead>\n",
              "    <tr style=\"text-align: right;\">\n",
              "      <th></th>\n",
              "      <th>0</th>\n",
              "    </tr>\n",
              "  </thead>\n",
              "  <tbody>\n",
              "    <tr>\n",
              "      <th>0</th>\n",
              "      <td>Manchester United vs Middlesbrough was on beIN...</td>\n",
              "    </tr>\n",
              "    <tr>\n",
              "      <th>1</th>\n",
              "      <td>RT @GOAL_ID: Semua klub yang pernah dibobol ol...</td>\n",
              "    </tr>\n",
              "    <tr>\n",
              "      <th>2</th>\n",
              "      <td>RT @paulenglish1961: 5th February 1958, the Bu...</td>\n",
              "    </tr>\n",
              "    <tr>\n",
              "      <th>3</th>\n",
              "      <td>Nitawaaminishaje wajukuu zangu kuwa hapa Rashf...</td>\n",
              "    </tr>\n",
              "    <tr>\n",
              "      <th>4</th>\n",
              "      <td>Tickets available for Manchester United Vs Sou...</td>\n",
              "    </tr>\n",
              "    <tr>\n",
              "      <th>...</th>\n",
              "      <td>...</td>\n",
              "    </tr>\n",
              "    <tr>\n",
              "      <th>95</th>\n",
              "      <td>RT @paulenglish1961: 5th February 1958, the Bu...</td>\n",
              "    </tr>\n",
              "    <tr>\n",
              "      <th>96</th>\n",
              "      <td>RT @GOAL_ID: Semua klub yang pernah dibobol ol...</td>\n",
              "    </tr>\n",
              "    <tr>\n",
              "      <th>97</th>\n",
              "      <td>🥳 Cuando te presentan a una persona que cumple...</td>\n",
              "    </tr>\n",
              "    <tr>\n",
              "      <th>98</th>\n",
              "      <td>RT @ashleestweeting: @BleacherReport @brfootba...</td>\n",
              "    </tr>\n",
              "    <tr>\n",
              "      <th>99</th>\n",
              "      <td>RT @SquadsNFT: ✨ MINT ME ✨\\n\\nYour chance to m...</td>\n",
              "    </tr>\n",
              "  </tbody>\n",
              "</table>\n",
              "<p>100 rows × 1 columns</p>\n",
              "</div>\n",
              "      <button class=\"colab-df-convert\" onclick=\"convertToInteractive('df-e81ce269-5257-4d22-9e1c-d3f4aae6177c')\"\n",
              "              title=\"Convert this dataframe to an interactive table.\"\n",
              "              style=\"display:none;\">\n",
              "        \n",
              "  <svg xmlns=\"http://www.w3.org/2000/svg\" height=\"24px\"viewBox=\"0 0 24 24\"\n",
              "       width=\"24px\">\n",
              "    <path d=\"M0 0h24v24H0V0z\" fill=\"none\"/>\n",
              "    <path d=\"M18.56 5.44l.94 2.06.94-2.06 2.06-.94-2.06-.94-.94-2.06-.94 2.06-2.06.94zm-11 1L8.5 8.5l.94-2.06 2.06-.94-2.06-.94L8.5 2.5l-.94 2.06-2.06.94zm10 10l.94 2.06.94-2.06 2.06-.94-2.06-.94-.94-2.06-.94 2.06-2.06.94z\"/><path d=\"M17.41 7.96l-1.37-1.37c-.4-.4-.92-.59-1.43-.59-.52 0-1.04.2-1.43.59L10.3 9.45l-7.72 7.72c-.78.78-.78 2.05 0 2.83L4 21.41c.39.39.9.59 1.41.59.51 0 1.02-.2 1.41-.59l7.78-7.78 2.81-2.81c.8-.78.8-2.07 0-2.86zM5.41 20L4 18.59l7.72-7.72 1.47 1.35L5.41 20z\"/>\n",
              "  </svg>\n",
              "      </button>\n",
              "      \n",
              "  <style>\n",
              "    .colab-df-container {\n",
              "      display:flex;\n",
              "      flex-wrap:wrap;\n",
              "      gap: 12px;\n",
              "    }\n",
              "\n",
              "    .colab-df-convert {\n",
              "      background-color: #E8F0FE;\n",
              "      border: none;\n",
              "      border-radius: 50%;\n",
              "      cursor: pointer;\n",
              "      display: none;\n",
              "      fill: #1967D2;\n",
              "      height: 32px;\n",
              "      padding: 0 0 0 0;\n",
              "      width: 32px;\n",
              "    }\n",
              "\n",
              "    .colab-df-convert:hover {\n",
              "      background-color: #E2EBFA;\n",
              "      box-shadow: 0px 1px 2px rgba(60, 64, 67, 0.3), 0px 1px 3px 1px rgba(60, 64, 67, 0.15);\n",
              "      fill: #174EA6;\n",
              "    }\n",
              "\n",
              "    [theme=dark] .colab-df-convert {\n",
              "      background-color: #3B4455;\n",
              "      fill: #D2E3FC;\n",
              "    }\n",
              "\n",
              "    [theme=dark] .colab-df-convert:hover {\n",
              "      background-color: #434B5C;\n",
              "      box-shadow: 0px 1px 3px 1px rgba(0, 0, 0, 0.15);\n",
              "      filter: drop-shadow(0px 1px 2px rgba(0, 0, 0, 0.3));\n",
              "      fill: #FFFFFF;\n",
              "    }\n",
              "  </style>\n",
              "\n",
              "      <script>\n",
              "        const buttonEl =\n",
              "          document.querySelector('#df-e81ce269-5257-4d22-9e1c-d3f4aae6177c button.colab-df-convert');\n",
              "        buttonEl.style.display =\n",
              "          google.colab.kernel.accessAllowed ? 'block' : 'none';\n",
              "\n",
              "        async function convertToInteractive(key) {\n",
              "          const element = document.querySelector('#df-e81ce269-5257-4d22-9e1c-d3f4aae6177c');\n",
              "          const dataTable =\n",
              "            await google.colab.kernel.invokeFunction('convertToInteractive',\n",
              "                                                     [key], {});\n",
              "          if (!dataTable) return;\n",
              "\n",
              "          const docLinkHtml = 'Like what you see? Visit the ' +\n",
              "            '<a target=\"_blank\" href=https://colab.research.google.com/notebooks/data_table.ipynb>data table notebook</a>'\n",
              "            + ' to learn more about interactive tables.';\n",
              "          element.innerHTML = '';\n",
              "          dataTable['output_type'] = 'display_data';\n",
              "          await google.colab.output.renderOutput(dataTable, element);\n",
              "          const docLink = document.createElement('div');\n",
              "          docLink.innerHTML = docLinkHtml;\n",
              "          element.appendChild(docLink);\n",
              "        }\n",
              "      </script>\n",
              "    </div>\n",
              "  </div>\n",
              "  "
            ],
            "text/plain": [
              "                                                    0\n",
              "0   Manchester United vs Middlesbrough was on beIN...\n",
              "1   RT @GOAL_ID: Semua klub yang pernah dibobol ol...\n",
              "2   RT @paulenglish1961: 5th February 1958, the Bu...\n",
              "3   Nitawaaminishaje wajukuu zangu kuwa hapa Rashf...\n",
              "4   Tickets available for Manchester United Vs Sou...\n",
              "..                                                ...\n",
              "95  RT @paulenglish1961: 5th February 1958, the Bu...\n",
              "96  RT @GOAL_ID: Semua klub yang pernah dibobol ol...\n",
              "97  🥳 Cuando te presentan a una persona que cumple...\n",
              "98  RT @ashleestweeting: @BleacherReport @brfootba...\n",
              "99  RT @SquadsNFT: ✨ MINT ME ✨\\n\\nYour chance to m...\n",
              "\n",
              "[100 rows x 1 columns]"
            ]
          },
          "metadata": {},
          "execution_count": 41
        }
      ]
    },
    {
      "cell_type": "code",
      "source": [
        ""
      ],
      "metadata": {
        "id": "r9dbcIEzCJJl"
      },
      "execution_count": null,
      "outputs": []
    }
  ]
}