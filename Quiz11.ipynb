{
  "nbformat": 4,
  "nbformat_minor": 0,
  "metadata": {
    "colab": {
      "name": "Quiz11.ipynb",
      "provenance": [],
      "authorship_tag": "ABX9TyNlC/39y400zq8ixcaVYbf2",
      "include_colab_link": true
    },
    "kernelspec": {
      "name": "python3",
      "display_name": "Python 3"
    },
    "language_info": {
      "name": "python"
    }
  },
  "cells": [
    {
      "cell_type": "markdown",
      "metadata": {
        "id": "view-in-github",
        "colab_type": "text"
      },
      "source": [
        "<a href=\"https://colab.research.google.com/github/aayushbhurtel/Data_Visualization/blob/main/Quiz11.ipynb\" target=\"_parent\"><img src=\"https://colab.research.google.com/assets/colab-badge.svg\" alt=\"Open In Colab\"/></a>"
      ]
    },
    {
      "cell_type": "markdown",
      "source": [
        "# Data Visualization\n",
        "\n",
        "## Aayush Bhurtel\n",
        "\n",
        "Twitter data scraping"
      ],
      "metadata": {
        "id": "UlI_mzYggAbs"
      }
    },
    {
      "cell_type": "markdown",
      "source": [
        "I am going to use a different library then twitter's own library. Tweepy is a python library which access twitter API to get all the data from twitter itself. pip install tweepy will install library in our system."
      ],
      "metadata": {
        "id": "vZe7A0_-gJD-"
      }
    },
    {
      "cell_type": "code",
      "execution_count": 1,
      "metadata": {
        "colab": {
          "base_uri": "https://localhost:8080/"
        },
        "id": "JPqxqDLgf-H-",
        "outputId": "d7dfd4f2-843b-46b2-a629-91cf8c39e959"
      },
      "outputs": [
        {
          "output_type": "stream",
          "name": "stdout",
          "text": [
            "Requirement already satisfied: tweepy in /usr/local/lib/python3.7/dist-packages (3.10.0)\n",
            "Requirement already satisfied: requests-oauthlib>=0.7.0 in /usr/local/lib/python3.7/dist-packages (from tweepy) (1.3.1)\n",
            "Requirement already satisfied: six>=1.10.0 in /usr/local/lib/python3.7/dist-packages (from tweepy) (1.15.0)\n",
            "Requirement already satisfied: requests[socks]>=2.11.1 in /usr/local/lib/python3.7/dist-packages (from tweepy) (2.23.0)\n",
            "Requirement already satisfied: oauthlib>=3.0.0 in /usr/local/lib/python3.7/dist-packages (from requests-oauthlib>=0.7.0->tweepy) (3.2.0)\n",
            "Requirement already satisfied: urllib3!=1.25.0,!=1.25.1,<1.26,>=1.21.1 in /usr/local/lib/python3.7/dist-packages (from requests[socks]>=2.11.1->tweepy) (1.24.3)\n",
            "Requirement already satisfied: chardet<4,>=3.0.2 in /usr/local/lib/python3.7/dist-packages (from requests[socks]>=2.11.1->tweepy) (3.0.4)\n",
            "Requirement already satisfied: certifi>=2017.4.17 in /usr/local/lib/python3.7/dist-packages (from requests[socks]>=2.11.1->tweepy) (2021.10.8)\n",
            "Requirement already satisfied: idna<3,>=2.5 in /usr/local/lib/python3.7/dist-packages (from requests[socks]>=2.11.1->tweepy) (2.10)\n",
            "Requirement already satisfied: PySocks!=1.5.7,>=1.5.6 in /usr/local/lib/python3.7/dist-packages (from requests[socks]>=2.11.1->tweepy) (1.7.1)\n"
          ]
        }
      ],
      "source": [
        "!pip install tweepy"
      ]
    },
    {
      "cell_type": "markdown",
      "source": [
        "To use a twitter to scrape data, we need to authenticate twitter account with api keys which means we need to have a twitter developer account. you can create a new one or use an existing account. I have created and used my own api keys here."
      ],
      "metadata": {
        "id": "gulEncPYgX4w"
      }
    },
    {
      "cell_type": "code",
      "source": [
        "import tweepy\n",
        "\n",
        "# these are the variables required to authenticate tweepy with twitter account\n",
        "# I cheated here and copied these keys from professor config file cause my twitter developer account could not be verified.\n",
        "CONSUMER_KEY = 'B7llSAknxySGR2ixSRv1QdytP'\n",
        "CONSUMER_SECRET ='PIstmJHyMF77RdNXgdlrBKBKy0uEtIojPU0bUiEZc8ztNPluV2'\n",
        "OAUTH_TOKEN = '1037047347405045760-Jk0gP8YewJ2XgSujHjnh4eB4oC48A7'\n",
        "OAUTH_TOKEN_SECRET = 'gX8pMXKUjH0501XSHs8BUrFUWJ070aSmLsfF800E5x5sW'\n",
        "\n",
        "# get authenticated with twitter\n",
        "auth = tweepy.OAuthHandler(CONSUMER_KEY, CONSUMER_SECRET)\n",
        "auth.set_access_token(OAUTH_TOKEN, OAUTH_TOKEN_SECRET)\n",
        "tweepy_api = tweepy.API(auth)"
      ],
      "metadata": {
        "id": "LkPOVydSgTam"
      },
      "execution_count": 6,
      "outputs": []
    },
    {
      "cell_type": "markdown",
      "source": [
        "above code authenticated our library with twitter api, now let us test our tweepy library by printing out some random tweets."
      ],
      "metadata": {
        "id": "bakaTaPPwuCw"
      }
    },
    {
      "cell_type": "code",
      "source": [
        "public_tweets = tweepy_api.home_timeline()\n",
        "for tweet in public_tweets:\n",
        "  print(tweet.text)"
      ],
      "metadata": {
        "colab": {
          "base_uri": "https://localhost:8080/"
        },
        "id": "f6Ww62vboZaK",
        "outputId": "c15aa326-45a5-4490-cbb0-988d21e9b67a"
      },
      "execution_count": 7,
      "outputs": [
        {
          "output_type": "stream",
          "name": "stdout",
          "text": [
            "The upcoming vote on Proposition 1 is not a sales tax increase. If it passes, Ada sales tax rate will remain the sa… https://t.co/q49aQLXgM6\n",
            "RT @Coach_AlJohnson: What level, what school, what zip code = 🚫! Its about the work your willing to put in. @_TheTB keep out working everyo…\n",
            "#HBD to our cool #️⃣0️⃣🥳\n",
            "\n",
            "We hope you have a great day, @Hannahladd12!\n",
            "\n",
            "#HappyBirthday x #GoTigers https://t.co/CTSzORx5IX\n",
            ".@ECUTigers : UPDATED - Winter Storm Forces Rescheduling of Weekend Games https://t.co/xXcKItG0jx\n",
            "RT @kentaajadamson: 📸🏀// @ECUTigersMBB // https://t.co/oVgGmnYDd2\n",
            "On this cold &amp; snowy day, we are thinking about our upcoming opportunity starting this spring. Stay tuned.… https://t.co/wvCF2Zn4Cg\n",
            "RT @Coach_AlJohnson: Success comes at the finish line. A lot of successful days in your future! #FAMILY\n",
            "National Girls and Women in Sports Day means a lot in the Cole house. https://t.co/glfwfXoQqh\n",
            "Happy National Girls and Women in Sports Day! Follow our IG  https://t.co/tEa23iInSD https://t.co/FXnmXloBfQ\n",
            "Winter Storm Forces Rescheduling of @ECUTigers Weekend Games\n",
            "\n",
            "@ECUTigerUpdates https://t.co/xXcKItG0jx\n",
            "February is Financial Aid Awareness Month.  #FinAidFeb\n",
            "Learn more about Financial Aid at https://t.co/w92aB5Eq66. https://t.co/DIX3iQUkSp\n",
            "Opening today at 4:00 pm. https://t.co/9oJUkeB1f7\n",
            "Signed, Sealed, Delivered. 📝\n",
            "\n",
            "Welcome to the Tiger #FAMILY 🐅 @CadenPickens https://t.co/jfpWQcYaWj\n",
            "Signed, Sealed, Delivered. 📝\n",
            "\n",
            "Welcome to the Tiger #FAMILY 🐅 @ZacoreionH https://t.co/5u4UvDgi1S\n",
            "Signed, Sealed, Delivered. 📝\n",
            "\n",
            "Welcome to the Tiger #FAMILY 🐅 @WooleyCam https://t.co/eMIyQbYWql\n",
            "Signed, Sealed, Delivered. 📝\n",
            "\n",
            "Welcome to the Tiger #FAMILY 🐅 @BoltonHawkins5 https://t.co/7liN2dEhyi\n",
            "Signed, Sealed, Delivered. 📝\n",
            "\n",
            "Welcome to the Tiger #FAMILY 🐅 @TerryLewisll1 https://t.co/NQwcKkuDSt\n",
            "Signed, Sealed, Delivered. 📝\n",
            "\n",
            "Welcome to the Tiger #FAMILY 🐅 @ShiftyT1_ https://t.co/F9iGXAyhXE\n",
            "Signed, Sealed, Delivered. 📝\n",
            "\n",
            "Welcome to the Tiger #FAMILY 🐅 @david96291486 https://t.co/BuIoQCsMv2\n",
            "Signed, Sealed, Delivered. 📝\n",
            "\n",
            "Welcome to the Tiger #FAMILY 🐅 @LucasRoberson14 https://t.co/YFBVSg3WKq\n"
          ]
        }
      ]
    },
    {
      "cell_type": "markdown",
      "source": [
        "It actually does work, now let us dig into actual stuff to analyze twitterspace. Let us get a user tweet from username. I am using `elonmusk` twitter to get all his tweets."
      ],
      "metadata": {
        "id": "4MGIkMEOzDc0"
      }
    },
    {
      "cell_type": "code",
      "source": [
        "# tweet from a user by their username\n",
        "user_tweet = tweepy_api.user_timeline('elonmusk')\n",
        "for tweet in user_tweet:\n",
        "  print(tweet.text)"
      ],
      "metadata": {
        "id": "WmnYqkcfpzc9",
        "colab": {
          "base_uri": "https://localhost:8080/"
        },
        "outputId": "d4f12f98-d52f-4911-b88a-4e798ecd1b67"
      },
      "execution_count": 13,
      "outputs": [
        {
          "output_type": "stream",
          "name": "stdout",
          "text": [
            "@engineers_feed All these different standards for electricity are a tax on humanity\n",
            "@farty_mcpoops @Olivier_Lambert @TheRealKeean Gavin is kinda badass in this vid\n",
            "@Ali_Tesla585 @teslaownersSV @TheRealKeean Only very high resolution radar is relevant\n",
            "@teslaownersSV @TheRealKeean We have to solve a huge part of AI just to make cars drive themselves. \n",
            "\n",
            "In retrospect… https://t.co/EIcCCPA1RO\n",
            "@TheRealKeean Double-standard?\n",
            "@TheRealKeean https://t.co/ok0BmaoapC\n",
            "@TheRealKeean It’s not my money https://t.co/IKRxhGo8wS\n",
            "@Tesmanian_com A bigger win than it may seem\n",
            "@co_tesla 💯\n",
            "@WholeMarsBlog 😢\n",
            "@RGVaerialphotos Yes\n",
            "@SirineAti Thursday next week at 8pm Texas time\n",
            "@SirineAti Starship aspires to be the first fully reusable orbital launch vehicle, the holy grail of rocketry. \n",
            "\n",
            "Th… https://t.co/P0kOoOblrb\n",
            "@GregWAutry And all the forms of life on Earth\n",
            "@GregWAutry Becoming multiplanetary is essential to extending dramatically the probable lifespan of civilization\n",
            "@SirineAti Starship is in a different league. Orders of magnitude more mass to orbit than Falcon. Necessary for cre… https://t.co/daFDB65FNf\n",
            "If things go well, Falcon will launch about once a week on average in 2022, delivering ~2/3 of all Earth payload to orbit\n",
            "@GailAlfarATX @Tesla Tesla is working hard to provide more Megapacks for grid stabilization\n",
            "Congrats SpaceX Falcon team! https://t.co/ZplhTv0QcH\n",
            "@teslaownersSV Exactly. The terminology is anachronistic.\n"
          ]
        }
      ]
    },
    {
      "cell_type": "code",
      "source": [
        "import pandas as pd\n",
        "\n",
        "trends = tweepy_api.trends_available()\n",
        "\n",
        "# The Yahoo! Where On Earth ID for the entire world is 1.\n",
        "# See https://dev.twitter.com/docs/api/1.1/get/trends/place and\n",
        "# http://developer.yahoo.com/geo/geoplanet/\n",
        "\n",
        "WORLD_WOE_ID = 1\n",
        "US_WOE_ID = 23424977\n",
        "\n",
        "# Prefix ID with the underscore for query string parameterization.\n",
        "# Without the underscore, the twitter package appends the ID value\n",
        "# to the URL itself as a special case keyword argument.\n",
        "\n",
        "world_trends = tweepy_api.trends_place(WORLD_WOE_ID)\n",
        "us_trends = tweepy_api.trends_place(US_WOE_ID)\n",
        "\n",
        "world_trends\n"
      ],
      "metadata": {
        "colab": {
          "base_uri": "https://localhost:8080/"
        },
        "id": "QpJSGy97z30R",
        "outputId": "d21dca82-522e-4c78-c745-a21eb13a5f1a"
      },
      "execution_count": 41,
      "outputs": [
        {
          "output_type": "execute_result",
          "data": {
            "text/plain": [
              "[{'as_of': '2022-02-05T08:34:25Z',\n",
              "  'created_at': '2022-02-04T02:11:41Z',\n",
              "  'locations': [{'name': 'Worldwide', 'woeid': 1}],\n",
              "  'trends': [{'name': '#KashmirSolidarityDay',\n",
              "    'promoted_content': None,\n",
              "    'query': '%23KashmirSolidarityDay',\n",
              "    'tweet_volume': 125681,\n",
              "    'url': 'http://twitter.com/search?q=%23KashmirSolidarityDay'},\n",
              "   {'name': '西村賢太さん',\n",
              "    'promoted_content': None,\n",
              "    'query': '%E8%A5%BF%E6%9D%91%E8%B3%A2%E5%A4%AA%E3%81%95%E3%82%93',\n",
              "    'tweet_volume': 21349,\n",
              "    'url': 'http://twitter.com/search?q=%E8%A5%BF%E6%9D%91%E8%B3%A2%E5%A4%AA%E3%81%95%E3%82%93'},\n",
              "   {'name': '#BasantPanchami',\n",
              "    'promoted_content': None,\n",
              "    'query': '%23BasantPanchami',\n",
              "    'tweet_volume': 46475,\n",
              "    'url': 'http://twitter.com/search?q=%23BasantPanchami'},\n",
              "   {'name': '#StayAlive_CHAKHO',\n",
              "    'promoted_content': None,\n",
              "    'query': '%23StayAlive_CHAKHO',\n",
              "    'tweet_volume': 429115,\n",
              "    'url': 'http://twitter.com/search?q=%23StayAlive_CHAKHO'},\n",
              "   {'name': '#เออเข้าใจมั้ย',\n",
              "    'promoted_content': None,\n",
              "    'query': '%23%E0%B9%80%E0%B8%AD%E0%B8%AD%E0%B9%80%E0%B8%82%E0%B9%89%E0%B8%B2%E0%B9%83%E0%B8%88%E0%B8%A1%E0%B8%B1%E0%B9%89%E0%B8%A2',\n",
              "    'tweet_volume': 33685,\n",
              "    'url': 'http://twitter.com/search?q=%23%E0%B9%80%E0%B8%AD%E0%B8%AD%E0%B9%80%E0%B8%82%E0%B9%89%E0%B8%B2%E0%B9%83%E0%B8%88%E0%B8%A1%E0%B8%B1%E0%B9%89%E0%B8%A2'},\n",
              "   {'name': '#cumartesi',\n",
              "    'promoted_content': None,\n",
              "    'query': '%23cumartesi',\n",
              "    'tweet_volume': None,\n",
              "    'url': 'http://twitter.com/search?q=%23cumartesi'},\n",
              "   {'name': 'बसंत पंचमी',\n",
              "    'promoted_content': None,\n",
              "    'query': '%22%E0%A4%AC%E0%A4%B8%E0%A4%82%E0%A4%A4+%E0%A4%AA%E0%A4%82%E0%A4%9A%E0%A4%AE%E0%A5%80%22',\n",
              "    'tweet_volume': 185637,\n",
              "    'url': 'http://twitter.com/search?q=%22%E0%A4%AC%E0%A4%B8%E0%A4%82%E0%A4%A4+%E0%A4%AA%E0%A4%82%E0%A4%9A%E0%A4%AE%E0%A5%80%22'},\n",
              "   {'name': '苦役列車',\n",
              "    'promoted_content': None,\n",
              "    'query': '%E8%8B%A6%E5%BD%B9%E5%88%97%E8%BB%8A',\n",
              "    'tweet_volume': 10143,\n",
              "    'url': 'http://twitter.com/search?q=%E8%8B%A6%E5%BD%B9%E5%88%97%E8%BB%8A'},\n",
              "   {'name': 'Luka',\n",
              "    'promoted_content': None,\n",
              "    'query': 'Luka',\n",
              "    'tweet_volume': 43902,\n",
              "    'url': 'http://twitter.com/search?q=Luka'},\n",
              "   {'name': '菅直人さん',\n",
              "    'promoted_content': None,\n",
              "    'query': '%E8%8F%85%E7%9B%B4%E4%BA%BA%E3%81%95%E3%82%93',\n",
              "    'tweet_volume': None,\n",
              "    'url': 'http://twitter.com/search?q=%E8%8F%85%E7%9B%B4%E4%BA%BA%E3%81%95%E3%82%93'},\n",
              "   {'name': 'Johaug',\n",
              "    'promoted_content': None,\n",
              "    'query': 'Johaug',\n",
              "    'tweet_volume': None,\n",
              "    'url': 'http://twitter.com/search?q=Johaug'},\n",
              "   {'name': '両プラ1位',\n",
              "    'promoted_content': None,\n",
              "    'query': '%E4%B8%A1%E3%83%97%E3%83%A91%E4%BD%8D',\n",
              "    'tweet_volume': None,\n",
              "    'url': 'http://twitter.com/search?q=%E4%B8%A1%E3%83%97%E3%83%A91%E4%BD%8D'},\n",
              "   {'name': '34 X',\n",
              "    'promoted_content': None,\n",
              "    'query': '%2234+X%22',\n",
              "    'tweet_volume': None,\n",
              "    'url': 'http://twitter.com/search?q=%2234+X%22'},\n",
              "   {'name': '暴走老人',\n",
              "    'promoted_content': None,\n",
              "    'query': '%E6%9A%B4%E8%B5%B0%E8%80%81%E4%BA%BA',\n",
              "    'tweet_volume': None,\n",
              "    'url': 'http://twitter.com/search?q=%E6%9A%B4%E8%B5%B0%E8%80%81%E4%BA%BA'},\n",
              "   {'name': 'Wordle 231 X',\n",
              "    'promoted_content': None,\n",
              "    'query': '%22Wordle+231+X%22',\n",
              "    'tweet_volume': None,\n",
              "    'url': 'http://twitter.com/search?q=%22Wordle+231+X%22'},\n",
              "   {'name': \"LET'S PLAY WITH GOLCHA\",\n",
              "    'promoted_content': None,\n",
              "    'query': '%22LET%27S+PLAY+WITH+GOLCHA%22',\n",
              "    'tweet_volume': None,\n",
              "    'url': 'http://twitter.com/search?q=%22LET%27S+PLAY+WITH+GOLCHA%22'},\n",
              "   {'name': '沖縄独立',\n",
              "    'promoted_content': None,\n",
              "    'query': '%E6%B2%96%E7%B8%84%E7%8B%AC%E7%AB%8B',\n",
              "    'tweet_volume': 10841,\n",
              "    'url': 'http://twitter.com/search?q=%E6%B2%96%E7%B8%84%E7%8B%AC%E7%AB%8B'},\n",
              "   {'name': '暗渠の宿',\n",
              "    'promoted_content': None,\n",
              "    'query': '%E6%9A%97%E6%B8%A0%E3%81%AE%E5%AE%BF',\n",
              "    'tweet_volume': None,\n",
              "    'url': 'http://twitter.com/search?q=%E6%9A%97%E6%B8%A0%E3%81%AE%E5%AE%BF'},\n",
              "   {'name': '共産・連合',\n",
              "    'promoted_content': None,\n",
              "    'query': '%E5%85%B1%E7%94%A3%E3%83%BB%E9%80%A3%E5%90%88',\n",
              "    'tweet_volume': None,\n",
              "    'url': 'http://twitter.com/search?q=%E5%85%B1%E7%94%A3%E3%83%BB%E9%80%A3%E5%90%88'},\n",
              "   {'name': '双子の日',\n",
              "    'promoted_content': None,\n",
              "    'query': '%E5%8F%8C%E5%AD%90%E3%81%AE%E6%97%A5',\n",
              "    'tweet_volume': 12572,\n",
              "    'url': 'http://twitter.com/search?q=%E5%8F%8C%E5%AD%90%E3%81%AE%E6%97%A5'},\n",
              "   {'name': '苦悩の立憲民主党',\n",
              "    'promoted_content': None,\n",
              "    'query': '%E8%8B%A6%E6%82%A9%E3%81%AE%E7%AB%8B%E6%86%B2%E6%B0%91%E4%B8%BB%E5%85%9A',\n",
              "    'tweet_volume': None,\n",
              "    'url': 'http://twitter.com/search?q=%E8%8B%A6%E6%82%A9%E3%81%AE%E7%AB%8B%E6%86%B2%E6%B0%91%E4%B8%BB%E5%85%9A'},\n",
              "   {'name': '弊社所属タレント田中樹',\n",
              "    'promoted_content': None,\n",
              "    'query': '%E5%BC%8A%E7%A4%BE%E6%89%80%E5%B1%9E%E3%82%BF%E3%83%AC%E3%83%B3%E3%83%88%E7%94%B0%E4%B8%AD%E6%A8%B9',\n",
              "    'tweet_volume': None,\n",
              "    'url': 'http://twitter.com/search?q=%E5%BC%8A%E7%A4%BE%E6%89%80%E5%B1%9E%E3%82%BF%E3%83%AC%E3%83%B3%E3%83%88%E7%94%B0%E4%B8%AD%E6%A8%B9'},\n",
              "   {'name': '연애할 나이',\n",
              "    'promoted_content': None,\n",
              "    'query': '%22%EC%97%B0%EC%95%A0%ED%95%A0+%EB%82%98%EC%9D%B4%22',\n",
              "    'tweet_volume': None,\n",
              "    'url': 'http://twitter.com/search?q=%22%EC%97%B0%EC%95%A0%ED%95%A0+%EB%82%98%EC%9D%B4%22'},\n",
              "   {'name': 'GoFundMe',\n",
              "    'promoted_content': None,\n",
              "    'query': 'GoFundMe',\n",
              "    'tweet_volume': 37520,\n",
              "    'url': 'http://twitter.com/search?q=GoFundMe'},\n",
              "   {'name': 'Centurion',\n",
              "    'promoted_content': None,\n",
              "    'query': 'Centurion',\n",
              "    'tweet_volume': None,\n",
              "    'url': 'http://twitter.com/search?q=Centurion'},\n",
              "   {'name': '君色マリンスノウ',\n",
              "    'promoted_content': None,\n",
              "    'query': '%E5%90%9B%E8%89%B2%E3%83%9E%E3%83%AA%E3%83%B3%E3%82%B9%E3%83%8E%E3%82%A6',\n",
              "    'tweet_volume': None,\n",
              "    'url': 'http://twitter.com/search?q=%E5%90%9B%E8%89%B2%E3%83%9E%E3%83%AA%E3%83%B3%E3%82%B9%E3%83%8E%E3%82%A6'},\n",
              "   {'name': 'イラストの絵柄',\n",
              "    'promoted_content': None,\n",
              "    'query': '%E3%82%A4%E3%83%A9%E3%82%B9%E3%83%88%E3%81%AE%E7%B5%B5%E6%9F%84',\n",
              "    'tweet_volume': None,\n",
              "    'url': 'http://twitter.com/search?q=%E3%82%A4%E3%83%A9%E3%82%B9%E3%83%88%E3%81%AE%E7%B5%B5%E6%9F%84'},\n",
              "   {'name': 'Motorine 90',\n",
              "    'promoted_content': None,\n",
              "    'query': '%22Motorine+90%22',\n",
              "    'tweet_volume': None,\n",
              "    'url': 'http://twitter.com/search?q=%22Motorine+90%22'},\n",
              "   {'name': '立憲民主の元衆院議員',\n",
              "    'promoted_content': None,\n",
              "    'query': '%E7%AB%8B%E6%86%B2%E6%B0%91%E4%B8%BB%E3%81%AE%E5%85%83%E8%A1%86%E9%99%A2%E8%AD%B0%E5%93%A1',\n",
              "    'tweet_volume': None,\n",
              "    'url': 'http://twitter.com/search?q=%E7%AB%8B%E6%86%B2%E6%B0%91%E4%B8%BB%E3%81%AE%E5%85%83%E8%A1%86%E9%99%A2%E8%AD%B0%E5%93%A1'},\n",
              "   {'name': '正式発表',\n",
              "    'promoted_content': None,\n",
              "    'query': '%E6%AD%A3%E5%BC%8F%E7%99%BA%E8%A1%A8',\n",
              "    'tweet_volume': None,\n",
              "    'url': 'http://twitter.com/search?q=%E6%AD%A3%E5%BC%8F%E7%99%BA%E8%A1%A8'},\n",
              "   {'name': 'ANJI IS A LIMITED EDITION',\n",
              "    'promoted_content': None,\n",
              "    'query': '%22ANJI+IS+A+LIMITED+EDITION%22',\n",
              "    'tweet_volume': 15606,\n",
              "    'url': 'http://twitter.com/search?q=%22ANJI+IS+A+LIMITED+EDITION%22'},\n",
              "   {'name': 'Mavs',\n",
              "    'promoted_content': None,\n",
              "    'query': 'Mavs',\n",
              "    'tweet_volume': 10969,\n",
              "    'url': 'http://twitter.com/search?q=Mavs'},\n",
              "   {'name': 'Charlie Stayt',\n",
              "    'promoted_content': None,\n",
              "    'query': '%22Charlie+Stayt%22',\n",
              "    'tweet_volume': None,\n",
              "    'url': 'http://twitter.com/search?q=%22Charlie+Stayt%22'},\n",
              "   {'name': 'デパプリ',\n",
              "    'promoted_content': None,\n",
              "    'query': '%E3%83%87%E3%83%91%E3%83%97%E3%83%AA',\n",
              "    'tweet_volume': None,\n",
              "    'url': 'http://twitter.com/search?q=%E3%83%87%E3%83%91%E3%83%97%E3%83%AA'},\n",
              "   {'name': 'ドンさん',\n",
              "    'promoted_content': None,\n",
              "    'query': '%E3%83%89%E3%83%B3%E3%81%95%E3%82%93',\n",
              "    'tweet_volume': None,\n",
              "    'url': 'http://twitter.com/search?q=%E3%83%89%E3%83%B3%E3%81%95%E3%82%93'},\n",
              "   {'name': 'BTTM',\n",
              "    'promoted_content': None,\n",
              "    'query': 'BTTM',\n",
              "    'tweet_volume': None,\n",
              "    'url': 'http://twitter.com/search?q=BTTM'},\n",
              "   {'name': '立憲苦悩',\n",
              "    'promoted_content': None,\n",
              "    'query': '%E7%AB%8B%E6%86%B2%E8%8B%A6%E6%82%A9',\n",
              "    'tweet_volume': None,\n",
              "    'url': 'http://twitter.com/search?q=%E7%AB%8B%E6%86%B2%E8%8B%A6%E6%82%A9'},\n",
              "   {'name': '#ปากําลังใจให้ต้าววิน',\n",
              "    'promoted_content': None,\n",
              "    'query': '%23%E0%B8%9B%E0%B8%B2%E0%B8%81%E0%B9%8D%E0%B8%B2%E0%B8%A5%E0%B8%B1%E0%B8%87%E0%B9%83%E0%B8%88%E0%B9%83%E0%B8%AB%E0%B9%89%E0%B8%95%E0%B9%89%E0%B8%B2%E0%B8%A7%E0%B8%A7%E0%B8%B4%E0%B8%99',\n",
              "    'tweet_volume': 62798,\n",
              "    'url': 'http://twitter.com/search?q=%23%E0%B8%9B%E0%B8%B2%E0%B8%81%E0%B9%8D%E0%B8%B2%E0%B8%A5%E0%B8%B1%E0%B8%87%E0%B9%83%E0%B8%88%E0%B9%83%E0%B8%AB%E0%B9%89%E0%B8%95%E0%B9%89%E0%B8%B2%E0%B8%A7%E0%B8%A7%E0%B8%B4%E0%B8%99'},\n",
              "   {'name': '#tanoc',\n",
              "    'promoted_content': None,\n",
              "    'query': '%23tanoc',\n",
              "    'tweet_volume': 11153,\n",
              "    'url': 'http://twitter.com/search?q=%23tanoc'},\n",
              "   {'name': '#saraswatipuja',\n",
              "    'promoted_content': None,\n",
              "    'query': '%23saraswatipuja',\n",
              "    'tweet_volume': 37858,\n",
              "    'url': 'http://twitter.com/search?q=%23saraswatipuja'},\n",
              "   {'name': '#Airmenresult',\n",
              "    'promoted_content': None,\n",
              "    'query': '%23Airmenresult',\n",
              "    'tweet_volume': 2263155,\n",
              "    'url': 'http://twitter.com/search?q=%23Airmenresult'},\n",
              "   {'name': '#최애_세명의_성격은_나와_닮았다',\n",
              "    'promoted_content': None,\n",
              "    'query': '%23%EC%B5%9C%EC%95%A0_%EC%84%B8%EB%AA%85%EC%9D%98_%EC%84%B1%EA%B2%A9%EC%9D%80_%EB%82%98%EC%99%80_%EB%8B%AE%EC%95%98%EB%8B%A4',\n",
              "    'tweet_volume': None,\n",
              "    'url': 'http://twitter.com/search?q=%23%EC%B5%9C%EC%95%A0_%EC%84%B8%EB%AA%85%EC%9D%98_%EC%84%B1%EA%B2%A9%EC%9D%80_%EB%82%98%EC%99%80_%EB%8B%AE%EC%95%98%EB%8B%A4'},\n",
              "   {'name': '#JohnsonOut12',\n",
              "    'promoted_content': None,\n",
              "    'query': '%23JohnsonOut12',\n",
              "    'tweet_volume': 15038,\n",
              "    'url': 'http://twitter.com/search?q=%23JohnsonOut12'},\n",
              "   {'name': '#모녀살인범_뻑가_감빵가자',\n",
              "    'promoted_content': None,\n",
              "    'query': '%23%EB%AA%A8%EB%85%80%EC%82%B4%EC%9D%B8%EB%B2%94_%EB%BB%91%EA%B0%80_%EA%B0%90%EB%B9%B5%EA%B0%80%EC%9E%90',\n",
              "    'tweet_volume': 25662,\n",
              "    'url': 'http://twitter.com/search?q=%23%EB%AA%A8%EB%85%80%EC%82%B4%EC%9D%B8%EB%B2%94_%EB%BB%91%EA%B0%80_%EA%B0%90%EB%B9%B5%EA%B0%80%EC%9E%90'},\n",
              "   {'name': '#まきまつり',\n",
              "    'promoted_content': None,\n",
              "    'query': '%23%E3%81%BE%E3%81%8D%E3%81%BE%E3%81%A4%E3%82%8A',\n",
              "    'tweet_volume': None,\n",
              "    'url': 'http://twitter.com/search?q=%23%E3%81%BE%E3%81%8D%E3%81%BE%E3%81%A4%E3%82%8A'},\n",
              "   {'name': '#GNCDPLAY_DAY1',\n",
              "    'promoted_content': None,\n",
              "    'query': '%23GNCDPLAY_DAY1',\n",
              "    'tweet_volume': None,\n",
              "    'url': 'http://twitter.com/search?q=%23GNCDPLAY_DAY1'},\n",
              "   {'name': '#タガタメ6周年祭',\n",
              "    'promoted_content': None,\n",
              "    'query': '%23%E3%82%BF%E3%82%AC%E3%82%BF%E3%83%A16%E5%91%A8%E5%B9%B4%E7%A5%AD',\n",
              "    'tweet_volume': None,\n",
              "    'url': 'http://twitter.com/search?q=%23%E3%82%BF%E3%82%AC%E3%82%BF%E3%83%A16%E5%91%A8%E5%B9%B4%E7%A5%AD'},\n",
              "   {'name': '#知念のち',\n",
              "    'promoted_content': None,\n",
              "    'query': '%23%E7%9F%A5%E5%BF%B5%E3%81%AE%E3%81%A1',\n",
              "    'tweet_volume': None,\n",
              "    'url': 'http://twitter.com/search?q=%23%E7%9F%A5%E5%BF%B5%E3%81%AE%E3%81%A1'},\n",
              "   {'name': '#Regl',\n",
              "    'promoted_content': None,\n",
              "    'query': '%23Regl',\n",
              "    'tweet_volume': None,\n",
              "    'url': 'http://twitter.com/search?q=%23Regl'},\n",
              "   {'name': '#SebastianTeaser',\n",
              "    'promoted_content': None,\n",
              "    'query': '%23SebastianTeaser',\n",
              "    'tweet_volume': None,\n",
              "    'url': 'http://twitter.com/search?q=%23SebastianTeaser'}]}]"
            ]
          },
          "metadata": {},
          "execution_count": 41
        }
      ]
    },
    {
      "cell_type": "code",
      "source": [
        "tweets = []\n",
        "\n"
      ],
      "metadata": {
        "id": "Sjwalszl1Nqs"
      },
      "execution_count": null,
      "outputs": []
    }
  ]
}