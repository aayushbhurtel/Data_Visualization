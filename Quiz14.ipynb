{
  "nbformat": 4,
  "nbformat_minor": 0,
  "metadata": {
    "colab": {
      "name": "Quiz14.ipynb",
      "provenance": [],
      "authorship_tag": "ABX9TyPRkcXbg5NhGz3iKr6CwBv6",
      "include_colab_link": true
    },
    "kernelspec": {
      "name": "python3",
      "display_name": "Python 3"
    },
    "language_info": {
      "name": "python"
    }
  },
  "cells": [
    {
      "cell_type": "markdown",
      "metadata": {
        "id": "view-in-github",
        "colab_type": "text"
      },
      "source": [
        "<a href=\"https://colab.research.google.com/github/aayushbhurtel/Data_Visualization/blob/main/Quiz14.ipynb\" target=\"_parent\"><img src=\"https://colab.research.google.com/assets/colab-badge.svg\" alt=\"Open In Colab\"/></a>"
      ]
    },
    {
      "cell_type": "markdown",
      "source": [
        "# Data Visualization\n",
        "\n",
        "## Aayush Bhurtel\n",
        "\n",
        "Strings "
      ],
      "metadata": {
        "id": "D5thUveK-COd"
      }
    },
    {
      "cell_type": "markdown",
      "source": [
        "# Q. Write a program to print the 'Happy Birthday' song including your name. Try to do it with as few strings as possible."
      ],
      "metadata": {
        "id": "E5qk5hix-HZc"
      }
    },
    {
      "cell_type": "code",
      "execution_count": 11,
      "metadata": {
        "id": "S1F4rhVs94ea"
      },
      "outputs": [],
      "source": [
        "# happy birthday song\n",
        "song = \"\"\" Happy Birthday to You\n",
        "Happy Birthday to You\n",
        "Happy Birthday Dear %a\n",
        "Happy Birthday to You.\n",
        "From good friends and true\n",
        "From old friends and new\n",
        "May good luck go with you\n",
        "And happiness too.\"\"\" %('Aayush')"
      ]
    },
    {
      "cell_type": "code",
      "source": [
        "song\n"
      ],
      "metadata": {
        "colab": {
          "base_uri": "https://localhost:8080/",
          "height": 53
        },
        "id": "hLC59zxYAUyG",
        "outputId": "2a3996b8-99ce-4d1e-9441-6301add76736"
      },
      "execution_count": 2,
      "outputs": [
        {
          "output_type": "execute_result",
          "data": {
            "application/vnd.google.colaboratory.intrinsic+json": {
              "type": "string"
            },
            "text/plain": [
              "' Happy Birthday to You\\nHappy Birthday to You\\nHappy Birthday Dear (name)\\nHappy Birthday to You.\\n\\nFrom good friends and true,\\nFrom old friends and new,\\nMay good luck go with you,\\nAnd happiness too.'"
            ]
          },
          "metadata": {},
          "execution_count": 2
        }
      ]
    },
    {
      "cell_type": "code",
      "source": [
        "song.split('\\n')"
      ],
      "metadata": {
        "colab": {
          "base_uri": "https://localhost:8080/"
        },
        "id": "4dOsfCGbAfN7",
        "outputId": "acfe2e32-b6f4-4c19-a163-4a45f62a16ac"
      },
      "execution_count": 13,
      "outputs": [
        {
          "output_type": "execute_result",
          "data": {
            "text/plain": [
              "[' Happy Birthday to You',\n",
              " 'Happy Birthday to You',\n",
              " \"Happy Birthday Dear 'Aayush'\",\n",
              " 'Happy Birthday to You.',\n",
              " 'From good friends and true',\n",
              " 'From old friends and new',\n",
              " 'May good luck go with you',\n",
              " 'And happiness too.']"
            ]
          },
          "metadata": {},
          "execution_count": 13
        }
      ]
    },
    {
      "cell_type": "code",
      "source": [
        ""
      ],
      "metadata": {
        "id": "OIAhEYfhAz6Z"
      },
      "execution_count": null,
      "outputs": []
    }
  ]
}