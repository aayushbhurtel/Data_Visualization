{
  "nbformat": 4,
  "nbformat_minor": 0,
  "metadata": {
    "colab": {
      "name": "Quiz15.ipynb",
      "provenance": [],
      "authorship_tag": "ABX9TyPILrIZ/SmdmxO/Gsz99qhu",
      "include_colab_link": true
    },
    "kernelspec": {
      "name": "python3",
      "display_name": "Python 3"
    },
    "language_info": {
      "name": "python"
    }
  },
  "cells": [
    {
      "cell_type": "markdown",
      "metadata": {
        "id": "view-in-github",
        "colab_type": "text"
      },
      "source": [
        "<a href=\"https://colab.research.google.com/github/aayushbhurtel/Data_Visualization/blob/main/Quiz15.ipynb\" target=\"_parent\"><img src=\"https://colab.research.google.com/assets/colab-badge.svg\" alt=\"Open In Colab\"/></a>"
      ]
    },
    {
      "cell_type": "code",
      "execution_count": 117,
      "metadata": {
        "id": "kxy8WoL11pmT"
      },
      "outputs": [],
      "source": [
        "import requests\n",
        "import pandas as pd\n",
        "from bs4 import BeautifulSoup\n",
        "import re"
      ]
    },
    {
      "cell_type": "code",
      "source": [
        "r = requests.get('https://en.wikipedia.org/wiki/List_of_highest_mountains_on_Earth')\n",
        "html_contents = r.text\n",
        "html_soup = BeautifulSoup(html_contents,\"lxml\")\n",
        "tables = html_soup.find_all('table',class_=\"wikitable\")\n",
        "\n",
        "df1 = pa.read_html(str(tables))[0]\n",
        "df1.columns = df1.columns.droplevel(0).droplevel(0)\n",
        "df1.head()"
      ],
      "metadata": {
        "colab": {
          "base_uri": "https://localhost:8080/",
          "height": 354
        },
        "id": "-BtTyEnx2IEc",
        "outputId": "eb83fdc8-b210-4081-a0fe-4de2db00f168"
      },
      "execution_count": 118,
      "outputs": [
        {
          "output_type": "execute_result",
          "data": {
            "text/html": [
              "\n",
              "  <div id=\"df-e5eb63af-08eb-4b65-8614-d5fbf5edd49b\">\n",
              "    <div class=\"colab-df-container\">\n",
              "      <div>\n",
              "<style scoped>\n",
              "    .dataframe tbody tr th:only-of-type {\n",
              "        vertical-align: middle;\n",
              "    }\n",
              "\n",
              "    .dataframe tbody tr th {\n",
              "        vertical-align: top;\n",
              "    }\n",
              "\n",
              "    .dataframe thead th {\n",
              "        text-align: right;\n",
              "    }\n",
              "</style>\n",
              "<table border=\"1\" class=\"dataframe\">\n",
              "  <thead>\n",
              "    <tr style=\"text-align: right;\">\n",
              "      <th></th>\n",
              "      <th>Rank[dp 1]</th>\n",
              "      <th>Mountain name(s)</th>\n",
              "      <th>m</th>\n",
              "      <th>ft</th>\n",
              "      <th>m</th>\n",
              "      <th>ft</th>\n",
              "      <th>Range</th>\n",
              "      <th>Coordinates[dp 4]</th>\n",
              "      <th>Parent mountain[dp 5]</th>\n",
              "      <th>1st</th>\n",
              "      <th>y</th>\n",
              "      <th>n</th>\n",
              "      <th>Country (disputed claims in italics)</th>\n",
              "    </tr>\n",
              "  </thead>\n",
              "  <tbody>\n",
              "    <tr>\n",
              "      <th>0</th>\n",
              "      <td>1</td>\n",
              "      <td>.mw-parser-output ul.cslist,.mw-parser-output ...</td>\n",
              "      <td>8848</td>\n",
              "      <td>29,029[dp 7]</td>\n",
              "      <td>8848</td>\n",
              "      <td>29029</td>\n",
              "      <td>Mahalangur Himalaya</td>\n",
              "      <td>.mw-parser-output .geo-default,.mw-parser-outp...</td>\n",
              "      <td>—</td>\n",
              "      <td>1953</td>\n",
              "      <td>145</td>\n",
              "      <td>121</td>\n",
              "      <td>NepalChina</td>\n",
              "    </tr>\n",
              "    <tr>\n",
              "      <th>1</th>\n",
              "      <td>2</td>\n",
              "      <td>K2</td>\n",
              "      <td>8611</td>\n",
              "      <td>28251</td>\n",
              "      <td>4020</td>\n",
              "      <td>13190</td>\n",
              "      <td>Baltoro Karakoram</td>\n",
              "      <td>35°52′53″N 76°30′48″E﻿ / ﻿35.88139°N 76.51333°E</td>\n",
              "      <td>Mount Everest</td>\n",
              "      <td>1954</td>\n",
              "      <td>45</td>\n",
              "      <td>44</td>\n",
              "      <td>Pakistan[dp 8]China[12]</td>\n",
              "    </tr>\n",
              "    <tr>\n",
              "      <th>2</th>\n",
              "      <td>3</td>\n",
              "      <td>Kangchenjunga</td>\n",
              "      <td>8586</td>\n",
              "      <td>28169</td>\n",
              "      <td>3922</td>\n",
              "      <td>12867</td>\n",
              "      <td>Kangchenjunga Himalaya</td>\n",
              "      <td>27°42′12″N 88°08′51″E﻿ / ﻿27.70333°N 88.14750°E *</td>\n",
              "      <td>Mount Everest</td>\n",
              "      <td>1955</td>\n",
              "      <td>38</td>\n",
              "      <td>24</td>\n",
              "      <td>NepalIndia</td>\n",
              "    </tr>\n",
              "    <tr>\n",
              "      <th>3</th>\n",
              "      <td>4</td>\n",
              "      <td>Lhotse</td>\n",
              "      <td>8516</td>\n",
              "      <td>27940</td>\n",
              "      <td>610</td>\n",
              "      <td>2000</td>\n",
              "      <td>Mahalangur Himalaya</td>\n",
              "      <td>27°57′42″N 86°55′59″E﻿ / ﻿27.96167°N 86.93306°E</td>\n",
              "      <td>Mount Everest</td>\n",
              "      <td>1956</td>\n",
              "      <td>26</td>\n",
              "      <td>26</td>\n",
              "      <td>NepalChina</td>\n",
              "    </tr>\n",
              "    <tr>\n",
              "      <th>4</th>\n",
              "      <td>5</td>\n",
              "      <td>Makalu</td>\n",
              "      <td>8485</td>\n",
              "      <td>27838</td>\n",
              "      <td>2378</td>\n",
              "      <td>7802</td>\n",
              "      <td>Mahalangur Himalaya</td>\n",
              "      <td>27°53′23″N 87°05′20″E﻿ / ﻿27.88972°N 87.08889°E</td>\n",
              "      <td>Mount Everest</td>\n",
              "      <td>1955</td>\n",
              "      <td>45</td>\n",
              "      <td>—</td>\n",
              "      <td>NepalChina</td>\n",
              "    </tr>\n",
              "  </tbody>\n",
              "</table>\n",
              "</div>\n",
              "      <button class=\"colab-df-convert\" onclick=\"convertToInteractive('df-e5eb63af-08eb-4b65-8614-d5fbf5edd49b')\"\n",
              "              title=\"Convert this dataframe to an interactive table.\"\n",
              "              style=\"display:none;\">\n",
              "        \n",
              "  <svg xmlns=\"http://www.w3.org/2000/svg\" height=\"24px\"viewBox=\"0 0 24 24\"\n",
              "       width=\"24px\">\n",
              "    <path d=\"M0 0h24v24H0V0z\" fill=\"none\"/>\n",
              "    <path d=\"M18.56 5.44l.94 2.06.94-2.06 2.06-.94-2.06-.94-.94-2.06-.94 2.06-2.06.94zm-11 1L8.5 8.5l.94-2.06 2.06-.94-2.06-.94L8.5 2.5l-.94 2.06-2.06.94zm10 10l.94 2.06.94-2.06 2.06-.94-2.06-.94-.94-2.06-.94 2.06-2.06.94z\"/><path d=\"M17.41 7.96l-1.37-1.37c-.4-.4-.92-.59-1.43-.59-.52 0-1.04.2-1.43.59L10.3 9.45l-7.72 7.72c-.78.78-.78 2.05 0 2.83L4 21.41c.39.39.9.59 1.41.59.51 0 1.02-.2 1.41-.59l7.78-7.78 2.81-2.81c.8-.78.8-2.07 0-2.86zM5.41 20L4 18.59l7.72-7.72 1.47 1.35L5.41 20z\"/>\n",
              "  </svg>\n",
              "      </button>\n",
              "      \n",
              "  <style>\n",
              "    .colab-df-container {\n",
              "      display:flex;\n",
              "      flex-wrap:wrap;\n",
              "      gap: 12px;\n",
              "    }\n",
              "\n",
              "    .colab-df-convert {\n",
              "      background-color: #E8F0FE;\n",
              "      border: none;\n",
              "      border-radius: 50%;\n",
              "      cursor: pointer;\n",
              "      display: none;\n",
              "      fill: #1967D2;\n",
              "      height: 32px;\n",
              "      padding: 0 0 0 0;\n",
              "      width: 32px;\n",
              "    }\n",
              "\n",
              "    .colab-df-convert:hover {\n",
              "      background-color: #E2EBFA;\n",
              "      box-shadow: 0px 1px 2px rgba(60, 64, 67, 0.3), 0px 1px 3px 1px rgba(60, 64, 67, 0.15);\n",
              "      fill: #174EA6;\n",
              "    }\n",
              "\n",
              "    [theme=dark] .colab-df-convert {\n",
              "      background-color: #3B4455;\n",
              "      fill: #D2E3FC;\n",
              "    }\n",
              "\n",
              "    [theme=dark] .colab-df-convert:hover {\n",
              "      background-color: #434B5C;\n",
              "      box-shadow: 0px 1px 3px 1px rgba(0, 0, 0, 0.15);\n",
              "      filter: drop-shadow(0px 1px 2px rgba(0, 0, 0, 0.3));\n",
              "      fill: #FFFFFF;\n",
              "    }\n",
              "  </style>\n",
              "\n",
              "      <script>\n",
              "        const buttonEl =\n",
              "          document.querySelector('#df-e5eb63af-08eb-4b65-8614-d5fbf5edd49b button.colab-df-convert');\n",
              "        buttonEl.style.display =\n",
              "          google.colab.kernel.accessAllowed ? 'block' : 'none';\n",
              "\n",
              "        async function convertToInteractive(key) {\n",
              "          const element = document.querySelector('#df-e5eb63af-08eb-4b65-8614-d5fbf5edd49b');\n",
              "          const dataTable =\n",
              "            await google.colab.kernel.invokeFunction('convertToInteractive',\n",
              "                                                     [key], {});\n",
              "          if (!dataTable) return;\n",
              "\n",
              "          const docLinkHtml = 'Like what you see? Visit the ' +\n",
              "            '<a target=\"_blank\" href=https://colab.research.google.com/notebooks/data_table.ipynb>data table notebook</a>'\n",
              "            + ' to learn more about interactive tables.';\n",
              "          element.innerHTML = '';\n",
              "          dataTable['output_type'] = 'display_data';\n",
              "          await google.colab.output.renderOutput(dataTable, element);\n",
              "          const docLink = document.createElement('div');\n",
              "          docLink.innerHTML = docLinkHtml;\n",
              "          element.appendChild(docLink);\n",
              "        }\n",
              "      </script>\n",
              "    </div>\n",
              "  </div>\n",
              "  "
            ],
            "text/plain": [
              "  Rank[dp 1]  ... Country (disputed claims in italics)\n",
              "0          1  ...                           NepalChina\n",
              "1          2  ...              Pakistan[dp 8]China[12]\n",
              "2          3  ...                           NepalIndia\n",
              "3          4  ...                           NepalChina\n",
              "4          5  ...                           NepalChina\n",
              "\n",
              "[5 rows x 13 columns]"
            ]
          },
          "metadata": {},
          "execution_count": 118
        }
      ]
    },
    {
      "cell_type": "markdown",
      "source": [
        "as mentioned in the professor github, we can see issues in ft of first row. Here I am getting first row ft column."
      ],
      "metadata": {
        "id": "de1c1BAk3t12"
      }
    },
    {
      "cell_type": "code",
      "source": [
        "df1.iloc[0,3]"
      ],
      "metadata": {
        "colab": {
          "base_uri": "https://localhost:8080/",
          "height": 35
        },
        "id": "S1gkykmG2Kch",
        "outputId": "c6d5a00e-0dd4-4f1f-ebc3-7112f11104a4"
      },
      "execution_count": 119,
      "outputs": [
        {
          "output_type": "execute_result",
          "data": {
            "application/vnd.google.colaboratory.intrinsic+json": {
              "type": "string"
            },
            "text/plain": [
              "'29,029[dp 7]'"
            ]
          },
          "metadata": {},
          "execution_count": 119
        }
      ]
    },
    {
      "cell_type": "code",
      "source": [
        "\n",
        "\n",
        "\n",
        "\n",
        "re.sub(r\"\\D\",\"\",df1.iloc[0,3])\n",
        "\n"
      ],
      "metadata": {
        "colab": {
          "base_uri": "https://localhost:8080/",
          "height": 35
        },
        "id": "m5YctoSh34_l",
        "outputId": "b4eda0fb-2726-4416-eb35-17e89b639275"
      },
      "execution_count": 120,
      "outputs": [
        {
          "output_type": "execute_result",
          "data": {
            "application/vnd.google.colaboratory.intrinsic+json": {
              "type": "string"
            },
            "text/plain": [
              "'290297'"
            ]
          },
          "metadata": {},
          "execution_count": 120
        }
      ]
    },
    {
      "cell_type": "markdown",
      "source": [
        "here I am going to clean the headers of all the columns in the dataset"
      ],
      "metadata": {
        "id": "lvg6btdaEblU"
      }
    },
    {
      "cell_type": "code",
      "source": [
        "df1.columns"
      ],
      "metadata": {
        "colab": {
          "base_uri": "https://localhost:8080/"
        },
        "id": "6AR14ZJn7Eyu",
        "outputId": "39ec0c90-c3e7-4006-adb1-9a658ddce178"
      },
      "execution_count": 121,
      "outputs": [
        {
          "output_type": "execute_result",
          "data": {
            "text/plain": [
              "Index(['Rank[dp 1]', 'Mountain name(s)', 'm', 'ft', 'm', 'ft', 'Range',\n",
              "       'Coordinates[dp 4]', 'Parent mountain[dp 5]', '1st', 'y', 'n',\n",
              "       'Country (disputed claims in italics)'],\n",
              "      dtype='object')"
            ]
          },
          "metadata": {},
          "execution_count": 121
        }
      ]
    },
    {
      "cell_type": "markdown",
      "source": [
        "first, I am going to remove all the characters after the name like [dp 1] in Rank and more. I am using a lambda function to apply sub to all the headers."
      ],
      "metadata": {
        "id": "PbRUersSITM_"
      }
    },
    {
      "cell_type": "code",
      "source": [
        "header = df1.columns.map(lambda s: re.sub(r\"\\[(.+)\\]\",\"\",s))\n",
        "header"
      ],
      "metadata": {
        "colab": {
          "base_uri": "https://localhost:8080/"
        },
        "id": "tL_oSBRIC9Km",
        "outputId": "04c0d24d-c5b7-4b9f-a7fd-95aed5c6bb51"
      },
      "execution_count": 122,
      "outputs": [
        {
          "output_type": "execute_result",
          "data": {
            "text/plain": [
              "Index(['Rank', 'Mountain name(s)', 'm', 'ft', 'm', 'ft', 'Range',\n",
              "       'Coordinates', 'Parent mountain', '1st', 'y', 'n',\n",
              "       'Country (disputed claims in italics)'],\n",
              "      dtype='object')"
            ]
          },
          "metadata": {},
          "execution_count": 122
        }
      ]
    },
    {
      "cell_type": "markdown",
      "source": [
        "now, I am going to remove extra parenthesis from a second column header."
      ],
      "metadata": {
        "id": "c1Njbs8mJa_6"
      }
    },
    {
      "cell_type": "code",
      "source": [
        "re.sub(r\"\\((.+)\\)\",\"\",header[1])"
      ],
      "metadata": {
        "colab": {
          "base_uri": "https://localhost:8080/",
          "height": 35
        },
        "id": "nWjxv6eEIkTJ",
        "outputId": "b30293a4-e471-4217-fea0-db2f1911032e"
      },
      "execution_count": 123,
      "outputs": [
        {
          "output_type": "execute_result",
          "data": {
            "application/vnd.google.colaboratory.intrinsic+json": {
              "type": "string"
            },
            "text/plain": [
              "'Mountain name'"
            ]
          },
          "metadata": {},
          "execution_count": 123
        }
      ]
    },
    {
      "cell_type": "markdown",
      "source": [
        "here I am going to apply above removal to all of the header using lambda function."
      ],
      "metadata": {
        "id": "m6aWEynELlwJ"
      }
    },
    {
      "cell_type": "code",
      "source": [
        "header = header.map(lambda s: re.sub(r\"\\((.+)\\)\",\"\",s))\n",
        "header\n"
      ],
      "metadata": {
        "colab": {
          "base_uri": "https://localhost:8080/"
        },
        "id": "MqrKybNHJ4ov",
        "outputId": "d035260b-13be-4815-c2d3-4229a97411a0"
      },
      "execution_count": 124,
      "outputs": [
        {
          "output_type": "execute_result",
          "data": {
            "text/plain": [
              "Index(['Rank', 'Mountain name', 'm', 'ft', 'm', 'ft', 'Range', 'Coordinates',\n",
              "       'Parent mountain', '1st', 'y', 'n', 'Country '],\n",
              "      dtype='object')"
            ]
          },
          "metadata": {},
          "execution_count": 124
        }
      ]
    },
    {
      "cell_type": "markdown",
      "source": [
        "using strip"
      ],
      "metadata": {
        "id": "WqLDUcZRM9GZ"
      }
    },
    {
      "cell_type": "code",
      "source": [
        "header = header.map(lambda s: s.strip())\n",
        "header"
      ],
      "metadata": {
        "colab": {
          "base_uri": "https://localhost:8080/"
        },
        "id": "wiQyf2zPM-zL",
        "outputId": "2f3c568d-665f-4c77-c654-c5ed785eb05c"
      },
      "execution_count": 125,
      "outputs": [
        {
          "output_type": "execute_result",
          "data": {
            "text/plain": [
              "Index(['Rank', 'Mountain name', 'm', 'ft', 'm', 'ft', 'Range', 'Coordinates',\n",
              "       'Parent mountain', '1st', 'y', 'n', 'Country'],\n",
              "      dtype='object')"
            ]
          },
          "metadata": {},
          "execution_count": 125
        }
      ]
    },
    {
      "cell_type": "markdown",
      "source": [
        "there should be no spaces in the header name so I am going to replace space with underscore on second header"
      ],
      "metadata": {
        "id": "ciDZzoFzL675"
      }
    },
    {
      "cell_type": "code",
      "source": [
        "re.sub(r\" \",\"_\", header[1])"
      ],
      "metadata": {
        "colab": {
          "base_uri": "https://localhost:8080/",
          "height": 35
        },
        "id": "iQxfYcXdL4Pw",
        "outputId": "4da67929-f31e-49b2-f9f8-2d85f0db354f"
      },
      "execution_count": 126,
      "outputs": [
        {
          "output_type": "execute_result",
          "data": {
            "application/vnd.google.colaboratory.intrinsic+json": {
              "type": "string"
            },
            "text/plain": [
              "'Mountain_name'"
            ]
          },
          "metadata": {},
          "execution_count": 126
        }
      ]
    },
    {
      "cell_type": "markdown",
      "source": [
        "try and apply above code to all of the headers using lambda function"
      ],
      "metadata": {
        "id": "svge6daSMZDX"
      }
    },
    {
      "cell_type": "code",
      "source": [
        "header = header.map(lambda s: re.sub(r\" \",\"_\",s))\n",
        "header"
      ],
      "metadata": {
        "colab": {
          "base_uri": "https://localhost:8080/"
        },
        "id": "LOtrdwcUMXnj",
        "outputId": "cacd1c0b-b3df-4130-f310-d5cae0592fc7"
      },
      "execution_count": 127,
      "outputs": [
        {
          "output_type": "execute_result",
          "data": {
            "text/plain": [
              "Index(['Rank', 'Mountain_name', 'm', 'ft', 'm', 'ft', 'Range', 'Coordinates',\n",
              "       'Parent_mountain', '1st', 'y', 'n', 'Country'],\n",
              "      dtype='object')"
            ]
          },
          "metadata": {},
          "execution_count": 127
        }
      ]
    },
    {
      "cell_type": "markdown",
      "source": [
        "now displaying all database"
      ],
      "metadata": {
        "id": "PIiiiDEHNZzJ"
      }
    },
    {
      "cell_type": "code",
      "source": [
        "df1.columns = header"
      ],
      "metadata": {
        "id": "2_ZDANUQNhHK"
      },
      "execution_count": 128,
      "outputs": []
    },
    {
      "cell_type": "code",
      "source": [
        "df1.head()"
      ],
      "metadata": {
        "colab": {
          "base_uri": "https://localhost:8080/",
          "height": 250
        },
        "id": "NkUfHnKmMkFE",
        "outputId": "9f25156f-43ba-4683-981c-d7125542720f"
      },
      "execution_count": 129,
      "outputs": [
        {
          "output_type": "execute_result",
          "data": {
            "text/html": [
              "\n",
              "  <div id=\"df-14792419-14b3-4f10-996a-321771ef316a\">\n",
              "    <div class=\"colab-df-container\">\n",
              "      <div>\n",
              "<style scoped>\n",
              "    .dataframe tbody tr th:only-of-type {\n",
              "        vertical-align: middle;\n",
              "    }\n",
              "\n",
              "    .dataframe tbody tr th {\n",
              "        vertical-align: top;\n",
              "    }\n",
              "\n",
              "    .dataframe thead th {\n",
              "        text-align: right;\n",
              "    }\n",
              "</style>\n",
              "<table border=\"1\" class=\"dataframe\">\n",
              "  <thead>\n",
              "    <tr style=\"text-align: right;\">\n",
              "      <th></th>\n",
              "      <th>Rank</th>\n",
              "      <th>Mountain_name</th>\n",
              "      <th>m</th>\n",
              "      <th>ft</th>\n",
              "      <th>m</th>\n",
              "      <th>ft</th>\n",
              "      <th>Range</th>\n",
              "      <th>Coordinates</th>\n",
              "      <th>Parent_mountain</th>\n",
              "      <th>1st</th>\n",
              "      <th>y</th>\n",
              "      <th>n</th>\n",
              "      <th>Country</th>\n",
              "    </tr>\n",
              "  </thead>\n",
              "  <tbody>\n",
              "    <tr>\n",
              "      <th>0</th>\n",
              "      <td>1</td>\n",
              "      <td>.mw-parser-output ul.cslist,.mw-parser-output ...</td>\n",
              "      <td>8848</td>\n",
              "      <td>29,029[dp 7]</td>\n",
              "      <td>8848</td>\n",
              "      <td>29029</td>\n",
              "      <td>Mahalangur Himalaya</td>\n",
              "      <td>.mw-parser-output .geo-default,.mw-parser-outp...</td>\n",
              "      <td>—</td>\n",
              "      <td>1953</td>\n",
              "      <td>145</td>\n",
              "      <td>121</td>\n",
              "      <td>NepalChina</td>\n",
              "    </tr>\n",
              "    <tr>\n",
              "      <th>1</th>\n",
              "      <td>2</td>\n",
              "      <td>K2</td>\n",
              "      <td>8611</td>\n",
              "      <td>28251</td>\n",
              "      <td>4020</td>\n",
              "      <td>13190</td>\n",
              "      <td>Baltoro Karakoram</td>\n",
              "      <td>35°52′53″N 76°30′48″E﻿ / ﻿35.88139°N 76.51333°E</td>\n",
              "      <td>Mount Everest</td>\n",
              "      <td>1954</td>\n",
              "      <td>45</td>\n",
              "      <td>44</td>\n",
              "      <td>Pakistan[dp 8]China[12]</td>\n",
              "    </tr>\n",
              "    <tr>\n",
              "      <th>2</th>\n",
              "      <td>3</td>\n",
              "      <td>Kangchenjunga</td>\n",
              "      <td>8586</td>\n",
              "      <td>28169</td>\n",
              "      <td>3922</td>\n",
              "      <td>12867</td>\n",
              "      <td>Kangchenjunga Himalaya</td>\n",
              "      <td>27°42′12″N 88°08′51″E﻿ / ﻿27.70333°N 88.14750°E *</td>\n",
              "      <td>Mount Everest</td>\n",
              "      <td>1955</td>\n",
              "      <td>38</td>\n",
              "      <td>24</td>\n",
              "      <td>NepalIndia</td>\n",
              "    </tr>\n",
              "    <tr>\n",
              "      <th>3</th>\n",
              "      <td>4</td>\n",
              "      <td>Lhotse</td>\n",
              "      <td>8516</td>\n",
              "      <td>27940</td>\n",
              "      <td>610</td>\n",
              "      <td>2000</td>\n",
              "      <td>Mahalangur Himalaya</td>\n",
              "      <td>27°57′42″N 86°55′59″E﻿ / ﻿27.96167°N 86.93306°E</td>\n",
              "      <td>Mount Everest</td>\n",
              "      <td>1956</td>\n",
              "      <td>26</td>\n",
              "      <td>26</td>\n",
              "      <td>NepalChina</td>\n",
              "    </tr>\n",
              "    <tr>\n",
              "      <th>4</th>\n",
              "      <td>5</td>\n",
              "      <td>Makalu</td>\n",
              "      <td>8485</td>\n",
              "      <td>27838</td>\n",
              "      <td>2378</td>\n",
              "      <td>7802</td>\n",
              "      <td>Mahalangur Himalaya</td>\n",
              "      <td>27°53′23″N 87°05′20″E﻿ / ﻿27.88972°N 87.08889°E</td>\n",
              "      <td>Mount Everest</td>\n",
              "      <td>1955</td>\n",
              "      <td>45</td>\n",
              "      <td>—</td>\n",
              "      <td>NepalChina</td>\n",
              "    </tr>\n",
              "  </tbody>\n",
              "</table>\n",
              "</div>\n",
              "      <button class=\"colab-df-convert\" onclick=\"convertToInteractive('df-14792419-14b3-4f10-996a-321771ef316a')\"\n",
              "              title=\"Convert this dataframe to an interactive table.\"\n",
              "              style=\"display:none;\">\n",
              "        \n",
              "  <svg xmlns=\"http://www.w3.org/2000/svg\" height=\"24px\"viewBox=\"0 0 24 24\"\n",
              "       width=\"24px\">\n",
              "    <path d=\"M0 0h24v24H0V0z\" fill=\"none\"/>\n",
              "    <path d=\"M18.56 5.44l.94 2.06.94-2.06 2.06-.94-2.06-.94-.94-2.06-.94 2.06-2.06.94zm-11 1L8.5 8.5l.94-2.06 2.06-.94-2.06-.94L8.5 2.5l-.94 2.06-2.06.94zm10 10l.94 2.06.94-2.06 2.06-.94-2.06-.94-.94-2.06-.94 2.06-2.06.94z\"/><path d=\"M17.41 7.96l-1.37-1.37c-.4-.4-.92-.59-1.43-.59-.52 0-1.04.2-1.43.59L10.3 9.45l-7.72 7.72c-.78.78-.78 2.05 0 2.83L4 21.41c.39.39.9.59 1.41.59.51 0 1.02-.2 1.41-.59l7.78-7.78 2.81-2.81c.8-.78.8-2.07 0-2.86zM5.41 20L4 18.59l7.72-7.72 1.47 1.35L5.41 20z\"/>\n",
              "  </svg>\n",
              "      </button>\n",
              "      \n",
              "  <style>\n",
              "    .colab-df-container {\n",
              "      display:flex;\n",
              "      flex-wrap:wrap;\n",
              "      gap: 12px;\n",
              "    }\n",
              "\n",
              "    .colab-df-convert {\n",
              "      background-color: #E8F0FE;\n",
              "      border: none;\n",
              "      border-radius: 50%;\n",
              "      cursor: pointer;\n",
              "      display: none;\n",
              "      fill: #1967D2;\n",
              "      height: 32px;\n",
              "      padding: 0 0 0 0;\n",
              "      width: 32px;\n",
              "    }\n",
              "\n",
              "    .colab-df-convert:hover {\n",
              "      background-color: #E2EBFA;\n",
              "      box-shadow: 0px 1px 2px rgba(60, 64, 67, 0.3), 0px 1px 3px 1px rgba(60, 64, 67, 0.15);\n",
              "      fill: #174EA6;\n",
              "    }\n",
              "\n",
              "    [theme=dark] .colab-df-convert {\n",
              "      background-color: #3B4455;\n",
              "      fill: #D2E3FC;\n",
              "    }\n",
              "\n",
              "    [theme=dark] .colab-df-convert:hover {\n",
              "      background-color: #434B5C;\n",
              "      box-shadow: 0px 1px 3px 1px rgba(0, 0, 0, 0.15);\n",
              "      filter: drop-shadow(0px 1px 2px rgba(0, 0, 0, 0.3));\n",
              "      fill: #FFFFFF;\n",
              "    }\n",
              "  </style>\n",
              "\n",
              "      <script>\n",
              "        const buttonEl =\n",
              "          document.querySelector('#df-14792419-14b3-4f10-996a-321771ef316a button.colab-df-convert');\n",
              "        buttonEl.style.display =\n",
              "          google.colab.kernel.accessAllowed ? 'block' : 'none';\n",
              "\n",
              "        async function convertToInteractive(key) {\n",
              "          const element = document.querySelector('#df-14792419-14b3-4f10-996a-321771ef316a');\n",
              "          const dataTable =\n",
              "            await google.colab.kernel.invokeFunction('convertToInteractive',\n",
              "                                                     [key], {});\n",
              "          if (!dataTable) return;\n",
              "\n",
              "          const docLinkHtml = 'Like what you see? Visit the ' +\n",
              "            '<a target=\"_blank\" href=https://colab.research.google.com/notebooks/data_table.ipynb>data table notebook</a>'\n",
              "            + ' to learn more about interactive tables.';\n",
              "          element.innerHTML = '';\n",
              "          dataTable['output_type'] = 'display_data';\n",
              "          await google.colab.output.renderOutput(dataTable, element);\n",
              "          const docLink = document.createElement('div');\n",
              "          docLink.innerHTML = docLinkHtml;\n",
              "          element.appendChild(docLink);\n",
              "        }\n",
              "      </script>\n",
              "    </div>\n",
              "  </div>\n",
              "  "
            ],
            "text/plain": [
              "  Rank  ...                  Country\n",
              "0    1  ...               NepalChina\n",
              "1    2  ...  Pakistan[dp 8]China[12]\n",
              "2    3  ...               NepalIndia\n",
              "3    4  ...               NepalChina\n",
              "4    5  ...               NepalChina\n",
              "\n",
              "[5 rows x 13 columns]"
            ]
          },
          "metadata": {},
          "execution_count": 129
        }
      ]
    },
    {
      "cell_type": "markdown",
      "source": [
        "Header looks goooooooooood. onto next one.\n",
        "\n",
        "# Describe last column and clean it"
      ],
      "metadata": {
        "id": "ffRKNqrmQCwN"
      }
    },
    {
      "cell_type": "code",
      "source": [
        "df2 = df1.iloc[:,-1]\n",
        "df2"
      ],
      "metadata": {
        "colab": {
          "base_uri": "https://localhost:8080/"
        },
        "id": "JbDyopUDNdWZ",
        "outputId": "f1f790cf-969e-48c6-8a72-72d85b3daaa9"
      },
      "execution_count": 130,
      "outputs": [
        {
          "output_type": "execute_result",
          "data": {
            "text/plain": [
              "0                            NepalChina\n",
              "1               Pakistan[dp 8]China[12]\n",
              "2                            NepalIndia\n",
              "3                            NepalChina\n",
              "4                            NepalChina\n",
              "                     ...               \n",
              "115                               China\n",
              "116                          NepalChina\n",
              "117                  BhutanChina[dp 18]\n",
              "118    IndiaChina[dp 10][dp 11]'[dp 12]\n",
              "119                      Pakistan[dp 8]\n",
              "Name: Country, Length: 120, dtype: object"
            ]
          },
          "metadata": {},
          "execution_count": 130
        }
      ]
    },
    {
      "cell_type": "markdown",
      "source": [
        "using the techniques used above, I am goint ot remove all the extra expression other then letters in the column."
      ],
      "metadata": {
        "id": "BrG11bFxQ2tK"
      }
    },
    {
      "cell_type": "code",
      "source": [
        "df2 = df2.apply(lambda x: re.sub(r\"\\[(.+)]\",\"\",x))\n",
        "df2"
      ],
      "metadata": {
        "colab": {
          "base_uri": "https://localhost:8080/"
        },
        "id": "BeSf707TQX-A",
        "outputId": "699136e6-a4ba-4bfb-8ece-6cad532c003d"
      },
      "execution_count": 131,
      "outputs": [
        {
          "output_type": "execute_result",
          "data": {
            "text/plain": [
              "0       NepalChina\n",
              "1         Pakistan\n",
              "2       NepalIndia\n",
              "3       NepalChina\n",
              "4       NepalChina\n",
              "          ...     \n",
              "115          China\n",
              "116     NepalChina\n",
              "117    BhutanChina\n",
              "118     IndiaChina\n",
              "119       Pakistan\n",
              "Name: Country, Length: 120, dtype: object"
            ]
          },
          "metadata": {},
          "execution_count": 131
        }
      ]
    },
    {
      "cell_type": "markdown",
      "source": [
        "here I am going to use a findall method of re library to separate the countries from camelCase word."
      ],
      "metadata": {
        "id": "CXcuJraUXSf3"
      }
    },
    {
      "cell_type": "code",
      "source": [
        "df2 = df2.apply(lambda x: re.findall(r\"[A-Z][a-z]*\",x))\n",
        "df2"
      ],
      "metadata": {
        "colab": {
          "base_uri": "https://localhost:8080/"
        },
        "id": "Ar1fuoYnRcRO",
        "outputId": "25794bf2-410d-4793-d2d6-f0f34ba362e4"
      },
      "execution_count": 132,
      "outputs": [
        {
          "output_type": "execute_result",
          "data": {
            "text/plain": [
              "0       [Nepal, China]\n",
              "1           [Pakistan]\n",
              "2       [Nepal, India]\n",
              "3       [Nepal, China]\n",
              "4       [Nepal, China]\n",
              "            ...       \n",
              "115            [China]\n",
              "116     [Nepal, China]\n",
              "117    [Bhutan, China]\n",
              "118     [India, China]\n",
              "119         [Pakistan]\n",
              "Name: Country, Length: 120, dtype: object"
            ]
          },
          "metadata": {},
          "execution_count": 132
        }
      ]
    },
    {
      "cell_type": "markdown",
      "source": [
        "let us figure out the length of a row to see how many columns we can separate countries into using length function."
      ],
      "metadata": {
        "id": "LWa66i4SX8K6"
      }
    },
    {
      "cell_type": "code",
      "source": [
        "len(df1.columns)"
      ],
      "metadata": {
        "colab": {
          "base_uri": "https://localhost:8080/"
        },
        "id": "3QZndPJXhKER",
        "outputId": "e9ddbfcb-dd81-48a5-8acf-05024367337b"
      },
      "execution_count": 134,
      "outputs": [
        {
          "output_type": "execute_result",
          "data": {
            "text/plain": [
              "13"
            ]
          },
          "metadata": {},
          "execution_count": 134
        }
      ]
    },
    {
      "cell_type": "code",
      "source": [
        "df1.drop(df1.columns[12], axis = 1)"
      ],
      "metadata": {
        "colab": {
          "base_uri": "https://localhost:8080/",
          "height": 424
        },
        "id": "XHjCSspJg0uL",
        "outputId": "03e564eb-6c0e-4f1e-d774-8a2b5506be9c"
      },
      "execution_count": 135,
      "outputs": [
        {
          "output_type": "execute_result",
          "data": {
            "text/html": [
              "\n",
              "  <div id=\"df-077462c4-b632-4827-86e5-6c75debd5790\">\n",
              "    <div class=\"colab-df-container\">\n",
              "      <div>\n",
              "<style scoped>\n",
              "    .dataframe tbody tr th:only-of-type {\n",
              "        vertical-align: middle;\n",
              "    }\n",
              "\n",
              "    .dataframe tbody tr th {\n",
              "        vertical-align: top;\n",
              "    }\n",
              "\n",
              "    .dataframe thead th {\n",
              "        text-align: right;\n",
              "    }\n",
              "</style>\n",
              "<table border=\"1\" class=\"dataframe\">\n",
              "  <thead>\n",
              "    <tr style=\"text-align: right;\">\n",
              "      <th></th>\n",
              "      <th>Rank</th>\n",
              "      <th>Mountain_name</th>\n",
              "      <th>m</th>\n",
              "      <th>ft</th>\n",
              "      <th>m</th>\n",
              "      <th>ft</th>\n",
              "      <th>Range</th>\n",
              "      <th>Coordinates</th>\n",
              "      <th>Parent_mountain</th>\n",
              "      <th>1st</th>\n",
              "      <th>y</th>\n",
              "      <th>n</th>\n",
              "    </tr>\n",
              "  </thead>\n",
              "  <tbody>\n",
              "    <tr>\n",
              "      <th>0</th>\n",
              "      <td>1</td>\n",
              "      <td>.mw-parser-output ul.cslist,.mw-parser-output ...</td>\n",
              "      <td>8848</td>\n",
              "      <td>29,029[dp 7]</td>\n",
              "      <td>8848</td>\n",
              "      <td>29029</td>\n",
              "      <td>Mahalangur Himalaya</td>\n",
              "      <td>.mw-parser-output .geo-default,.mw-parser-outp...</td>\n",
              "      <td>—</td>\n",
              "      <td>1953</td>\n",
              "      <td>145</td>\n",
              "      <td>121</td>\n",
              "    </tr>\n",
              "    <tr>\n",
              "      <th>1</th>\n",
              "      <td>2</td>\n",
              "      <td>K2</td>\n",
              "      <td>8611</td>\n",
              "      <td>28251</td>\n",
              "      <td>4020</td>\n",
              "      <td>13190</td>\n",
              "      <td>Baltoro Karakoram</td>\n",
              "      <td>35°52′53″N 76°30′48″E﻿ / ﻿35.88139°N 76.51333°E</td>\n",
              "      <td>Mount Everest</td>\n",
              "      <td>1954</td>\n",
              "      <td>45</td>\n",
              "      <td>44</td>\n",
              "    </tr>\n",
              "    <tr>\n",
              "      <th>2</th>\n",
              "      <td>3</td>\n",
              "      <td>Kangchenjunga</td>\n",
              "      <td>8586</td>\n",
              "      <td>28169</td>\n",
              "      <td>3922</td>\n",
              "      <td>12867</td>\n",
              "      <td>Kangchenjunga Himalaya</td>\n",
              "      <td>27°42′12″N 88°08′51″E﻿ / ﻿27.70333°N 88.14750°E *</td>\n",
              "      <td>Mount Everest</td>\n",
              "      <td>1955</td>\n",
              "      <td>38</td>\n",
              "      <td>24</td>\n",
              "    </tr>\n",
              "    <tr>\n",
              "      <th>3</th>\n",
              "      <td>4</td>\n",
              "      <td>Lhotse</td>\n",
              "      <td>8516</td>\n",
              "      <td>27940</td>\n",
              "      <td>610</td>\n",
              "      <td>2000</td>\n",
              "      <td>Mahalangur Himalaya</td>\n",
              "      <td>27°57′42″N 86°55′59″E﻿ / ﻿27.96167°N 86.93306°E</td>\n",
              "      <td>Mount Everest</td>\n",
              "      <td>1956</td>\n",
              "      <td>26</td>\n",
              "      <td>26</td>\n",
              "    </tr>\n",
              "    <tr>\n",
              "      <th>4</th>\n",
              "      <td>5</td>\n",
              "      <td>Makalu</td>\n",
              "      <td>8485</td>\n",
              "      <td>27838</td>\n",
              "      <td>2378</td>\n",
              "      <td>7802</td>\n",
              "      <td>Mahalangur Himalaya</td>\n",
              "      <td>27°53′23″N 87°05′20″E﻿ / ﻿27.88972°N 87.08889°E</td>\n",
              "      <td>Mount Everest</td>\n",
              "      <td>1955</td>\n",
              "      <td>45</td>\n",
              "      <td>—</td>\n",
              "    </tr>\n",
              "    <tr>\n",
              "      <th>...</th>\n",
              "      <td>...</td>\n",
              "      <td>...</td>\n",
              "      <td>...</td>\n",
              "      <td>...</td>\n",
              "      <td>...</td>\n",
              "      <td>...</td>\n",
              "      <td>...</td>\n",
              "      <td>...</td>\n",
              "      <td>...</td>\n",
              "      <td>...</td>\n",
              "      <td>...</td>\n",
              "      <td>...</td>\n",
              "    </tr>\n",
              "    <tr>\n",
              "      <th>115</th>\n",
              "      <td>104</td>\n",
              "      <td>Noijin KangsangNorin Kang</td>\n",
              "      <td>7206</td>\n",
              "      <td>23642</td>\n",
              "      <td>2160</td>\n",
              "      <td>7090</td>\n",
              "      <td>Nagarze Himalaya</td>\n",
              "      <td>28°56′48″N 90°10′42″E﻿ / ﻿28.94667°N 90.17833°E</td>\n",
              "      <td>Gangkhar Puensum</td>\n",
              "      <td>1986</td>\n",
              "      <td>4</td>\n",
              "      <td>1</td>\n",
              "    </tr>\n",
              "    <tr>\n",
              "      <th>116</th>\n",
              "      <td>105</td>\n",
              "      <td>Langtang Ri</td>\n",
              "      <td>7205</td>\n",
              "      <td>23638</td>\n",
              "      <td>665</td>\n",
              "      <td>2182</td>\n",
              "      <td>Langtang Himalaya</td>\n",
              "      <td>28°22′53″N 85°41′01″E﻿ / ﻿28.38139°N 85.68361°E</td>\n",
              "      <td>Shishapangma</td>\n",
              "      <td>1981</td>\n",
              "      <td>4</td>\n",
              "      <td>0</td>\n",
              "    </tr>\n",
              "    <tr>\n",
              "      <th>117</th>\n",
              "      <td>106</td>\n",
              "      <td>Kangphu KangShimokangri</td>\n",
              "      <td>7204</td>\n",
              "      <td>23635</td>\n",
              "      <td>1244</td>\n",
              "      <td>4081</td>\n",
              "      <td>Lunana Himalaya</td>\n",
              "      <td>28°09′24″N 90°04′15″E﻿ / ﻿28.15667°N 90.07083°E</td>\n",
              "      <td>Tongshanjiabu</td>\n",
              "      <td>2002</td>\n",
              "      <td>1</td>\n",
              "      <td>0[20]</td>\n",
              "    </tr>\n",
              "    <tr>\n",
              "      <th>118</th>\n",
              "      <td>107</td>\n",
              "      <td>Singhi Kangri</td>\n",
              "      <td>7202</td>\n",
              "      <td>23629</td>\n",
              "      <td>730</td>\n",
              "      <td>2400</td>\n",
              "      <td>Siachen Karakoram</td>\n",
              "      <td>35°35′59″N 76°59′01″E﻿ / ﻿35.59972°N 76.98361°E</td>\n",
              "      <td>Teram Kangri III</td>\n",
              "      <td>1976</td>\n",
              "      <td>2</td>\n",
              "      <td>0</td>\n",
              "    </tr>\n",
              "    <tr>\n",
              "      <th>119</th>\n",
              "      <td>108</td>\n",
              "      <td>Lupghar Sar</td>\n",
              "      <td>7200</td>\n",
              "      <td>23600</td>\n",
              "      <td>730</td>\n",
              "      <td>2400</td>\n",
              "      <td>Hispar Karakoram</td>\n",
              "      <td>36°21′01″N 75°02′13″E﻿ / ﻿36.35028°N 75.03694°E *</td>\n",
              "      <td>Momhil Sar</td>\n",
              "      <td>1979</td>\n",
              "      <td>1</td>\n",
              "      <td>0</td>\n",
              "    </tr>\n",
              "  </tbody>\n",
              "</table>\n",
              "<p>120 rows × 12 columns</p>\n",
              "</div>\n",
              "      <button class=\"colab-df-convert\" onclick=\"convertToInteractive('df-077462c4-b632-4827-86e5-6c75debd5790')\"\n",
              "              title=\"Convert this dataframe to an interactive table.\"\n",
              "              style=\"display:none;\">\n",
              "        \n",
              "  <svg xmlns=\"http://www.w3.org/2000/svg\" height=\"24px\"viewBox=\"0 0 24 24\"\n",
              "       width=\"24px\">\n",
              "    <path d=\"M0 0h24v24H0V0z\" fill=\"none\"/>\n",
              "    <path d=\"M18.56 5.44l.94 2.06.94-2.06 2.06-.94-2.06-.94-.94-2.06-.94 2.06-2.06.94zm-11 1L8.5 8.5l.94-2.06 2.06-.94-2.06-.94L8.5 2.5l-.94 2.06-2.06.94zm10 10l.94 2.06.94-2.06 2.06-.94-2.06-.94-.94-2.06-.94 2.06-2.06.94z\"/><path d=\"M17.41 7.96l-1.37-1.37c-.4-.4-.92-.59-1.43-.59-.52 0-1.04.2-1.43.59L10.3 9.45l-7.72 7.72c-.78.78-.78 2.05 0 2.83L4 21.41c.39.39.9.59 1.41.59.51 0 1.02-.2 1.41-.59l7.78-7.78 2.81-2.81c.8-.78.8-2.07 0-2.86zM5.41 20L4 18.59l7.72-7.72 1.47 1.35L5.41 20z\"/>\n",
              "  </svg>\n",
              "      </button>\n",
              "      \n",
              "  <style>\n",
              "    .colab-df-container {\n",
              "      display:flex;\n",
              "      flex-wrap:wrap;\n",
              "      gap: 12px;\n",
              "    }\n",
              "\n",
              "    .colab-df-convert {\n",
              "      background-color: #E8F0FE;\n",
              "      border: none;\n",
              "      border-radius: 50%;\n",
              "      cursor: pointer;\n",
              "      display: none;\n",
              "      fill: #1967D2;\n",
              "      height: 32px;\n",
              "      padding: 0 0 0 0;\n",
              "      width: 32px;\n",
              "    }\n",
              "\n",
              "    .colab-df-convert:hover {\n",
              "      background-color: #E2EBFA;\n",
              "      box-shadow: 0px 1px 2px rgba(60, 64, 67, 0.3), 0px 1px 3px 1px rgba(60, 64, 67, 0.15);\n",
              "      fill: #174EA6;\n",
              "    }\n",
              "\n",
              "    [theme=dark] .colab-df-convert {\n",
              "      background-color: #3B4455;\n",
              "      fill: #D2E3FC;\n",
              "    }\n",
              "\n",
              "    [theme=dark] .colab-df-convert:hover {\n",
              "      background-color: #434B5C;\n",
              "      box-shadow: 0px 1px 3px 1px rgba(0, 0, 0, 0.15);\n",
              "      filter: drop-shadow(0px 1px 2px rgba(0, 0, 0, 0.3));\n",
              "      fill: #FFFFFF;\n",
              "    }\n",
              "  </style>\n",
              "\n",
              "      <script>\n",
              "        const buttonEl =\n",
              "          document.querySelector('#df-077462c4-b632-4827-86e5-6c75debd5790 button.colab-df-convert');\n",
              "        buttonEl.style.display =\n",
              "          google.colab.kernel.accessAllowed ? 'block' : 'none';\n",
              "\n",
              "        async function convertToInteractive(key) {\n",
              "          const element = document.querySelector('#df-077462c4-b632-4827-86e5-6c75debd5790');\n",
              "          const dataTable =\n",
              "            await google.colab.kernel.invokeFunction('convertToInteractive',\n",
              "                                                     [key], {});\n",
              "          if (!dataTable) return;\n",
              "\n",
              "          const docLinkHtml = 'Like what you see? Visit the ' +\n",
              "            '<a target=\"_blank\" href=https://colab.research.google.com/notebooks/data_table.ipynb>data table notebook</a>'\n",
              "            + ' to learn more about interactive tables.';\n",
              "          element.innerHTML = '';\n",
              "          dataTable['output_type'] = 'display_data';\n",
              "          await google.colab.output.renderOutput(dataTable, element);\n",
              "          const docLink = document.createElement('div');\n",
              "          docLink.innerHTML = docLinkHtml;\n",
              "          element.appendChild(docLink);\n",
              "        }\n",
              "      </script>\n",
              "    </div>\n",
              "  </div>\n",
              "  "
            ],
            "text/plain": [
              "    Rank                                      Mountain_name  ...    y      n\n",
              "0      1  .mw-parser-output ul.cslist,.mw-parser-output ...  ...  145    121\n",
              "1      2                                                 K2  ...   45     44\n",
              "2      3                                      Kangchenjunga  ...   38     24\n",
              "3      4                                             Lhotse  ...   26     26\n",
              "4      5                                             Makalu  ...   45      —\n",
              "..   ...                                                ...  ...  ...    ...\n",
              "115  104                          Noijin KangsangNorin Kang  ...    4      1\n",
              "116  105                                        Langtang Ri  ...    4      0\n",
              "117  106                            Kangphu KangShimokangri  ...    1  0[20]\n",
              "118  107                                      Singhi Kangri  ...    2      0\n",
              "119  108                                        Lupghar Sar  ...    1      0\n",
              "\n",
              "[120 rows x 12 columns]"
            ]
          },
          "metadata": {},
          "execution_count": 135
        }
      ]
    },
    {
      "cell_type": "markdown",
      "source": [
        "i am going to merge into the main dataframe."
      ],
      "metadata": {
        "id": "t7qcBtd4YOC-"
      }
    },
    {
      "cell_type": "code",
      "source": [
        "df1 = pd.concat([df1,df2], axis = 1)\n",
        "df1"
      ],
      "metadata": {
        "colab": {
          "base_uri": "https://localhost:8080/",
          "height": 641
        },
        "id": "gAHYASjBYL8f",
        "outputId": "22485f06-8be8-4381-f2e1-72a75bf8aca6"
      },
      "execution_count": 136,
      "outputs": [
        {
          "output_type": "execute_result",
          "data": {
            "text/html": [
              "\n",
              "  <div id=\"df-4ba2995b-734b-497e-9b73-091dc29f899f\">\n",
              "    <div class=\"colab-df-container\">\n",
              "      <div>\n",
              "<style scoped>\n",
              "    .dataframe tbody tr th:only-of-type {\n",
              "        vertical-align: middle;\n",
              "    }\n",
              "\n",
              "    .dataframe tbody tr th {\n",
              "        vertical-align: top;\n",
              "    }\n",
              "\n",
              "    .dataframe thead th {\n",
              "        text-align: right;\n",
              "    }\n",
              "</style>\n",
              "<table border=\"1\" class=\"dataframe\">\n",
              "  <thead>\n",
              "    <tr style=\"text-align: right;\">\n",
              "      <th></th>\n",
              "      <th>Rank</th>\n",
              "      <th>Mountain_name</th>\n",
              "      <th>m</th>\n",
              "      <th>ft</th>\n",
              "      <th>m</th>\n",
              "      <th>ft</th>\n",
              "      <th>Range</th>\n",
              "      <th>Coordinates</th>\n",
              "      <th>Parent_mountain</th>\n",
              "      <th>1st</th>\n",
              "      <th>y</th>\n",
              "      <th>n</th>\n",
              "      <th>Country</th>\n",
              "      <th>Country</th>\n",
              "    </tr>\n",
              "  </thead>\n",
              "  <tbody>\n",
              "    <tr>\n",
              "      <th>0</th>\n",
              "      <td>1</td>\n",
              "      <td>.mw-parser-output ul.cslist,.mw-parser-output ...</td>\n",
              "      <td>8848</td>\n",
              "      <td>29,029[dp 7]</td>\n",
              "      <td>8848</td>\n",
              "      <td>29029</td>\n",
              "      <td>Mahalangur Himalaya</td>\n",
              "      <td>.mw-parser-output .geo-default,.mw-parser-outp...</td>\n",
              "      <td>—</td>\n",
              "      <td>1953</td>\n",
              "      <td>145</td>\n",
              "      <td>121</td>\n",
              "      <td>NepalChina</td>\n",
              "      <td>[Nepal, China]</td>\n",
              "    </tr>\n",
              "    <tr>\n",
              "      <th>1</th>\n",
              "      <td>2</td>\n",
              "      <td>K2</td>\n",
              "      <td>8611</td>\n",
              "      <td>28251</td>\n",
              "      <td>4020</td>\n",
              "      <td>13190</td>\n",
              "      <td>Baltoro Karakoram</td>\n",
              "      <td>35°52′53″N 76°30′48″E﻿ / ﻿35.88139°N 76.51333°E</td>\n",
              "      <td>Mount Everest</td>\n",
              "      <td>1954</td>\n",
              "      <td>45</td>\n",
              "      <td>44</td>\n",
              "      <td>Pakistan[dp 8]China[12]</td>\n",
              "      <td>[Pakistan]</td>\n",
              "    </tr>\n",
              "    <tr>\n",
              "      <th>2</th>\n",
              "      <td>3</td>\n",
              "      <td>Kangchenjunga</td>\n",
              "      <td>8586</td>\n",
              "      <td>28169</td>\n",
              "      <td>3922</td>\n",
              "      <td>12867</td>\n",
              "      <td>Kangchenjunga Himalaya</td>\n",
              "      <td>27°42′12″N 88°08′51″E﻿ / ﻿27.70333°N 88.14750°E *</td>\n",
              "      <td>Mount Everest</td>\n",
              "      <td>1955</td>\n",
              "      <td>38</td>\n",
              "      <td>24</td>\n",
              "      <td>NepalIndia</td>\n",
              "      <td>[Nepal, India]</td>\n",
              "    </tr>\n",
              "    <tr>\n",
              "      <th>3</th>\n",
              "      <td>4</td>\n",
              "      <td>Lhotse</td>\n",
              "      <td>8516</td>\n",
              "      <td>27940</td>\n",
              "      <td>610</td>\n",
              "      <td>2000</td>\n",
              "      <td>Mahalangur Himalaya</td>\n",
              "      <td>27°57′42″N 86°55′59″E﻿ / ﻿27.96167°N 86.93306°E</td>\n",
              "      <td>Mount Everest</td>\n",
              "      <td>1956</td>\n",
              "      <td>26</td>\n",
              "      <td>26</td>\n",
              "      <td>NepalChina</td>\n",
              "      <td>[Nepal, China]</td>\n",
              "    </tr>\n",
              "    <tr>\n",
              "      <th>4</th>\n",
              "      <td>5</td>\n",
              "      <td>Makalu</td>\n",
              "      <td>8485</td>\n",
              "      <td>27838</td>\n",
              "      <td>2378</td>\n",
              "      <td>7802</td>\n",
              "      <td>Mahalangur Himalaya</td>\n",
              "      <td>27°53′23″N 87°05′20″E﻿ / ﻿27.88972°N 87.08889°E</td>\n",
              "      <td>Mount Everest</td>\n",
              "      <td>1955</td>\n",
              "      <td>45</td>\n",
              "      <td>—</td>\n",
              "      <td>NepalChina</td>\n",
              "      <td>[Nepal, China]</td>\n",
              "    </tr>\n",
              "    <tr>\n",
              "      <th>...</th>\n",
              "      <td>...</td>\n",
              "      <td>...</td>\n",
              "      <td>...</td>\n",
              "      <td>...</td>\n",
              "      <td>...</td>\n",
              "      <td>...</td>\n",
              "      <td>...</td>\n",
              "      <td>...</td>\n",
              "      <td>...</td>\n",
              "      <td>...</td>\n",
              "      <td>...</td>\n",
              "      <td>...</td>\n",
              "      <td>...</td>\n",
              "      <td>...</td>\n",
              "    </tr>\n",
              "    <tr>\n",
              "      <th>115</th>\n",
              "      <td>104</td>\n",
              "      <td>Noijin KangsangNorin Kang</td>\n",
              "      <td>7206</td>\n",
              "      <td>23642</td>\n",
              "      <td>2160</td>\n",
              "      <td>7090</td>\n",
              "      <td>Nagarze Himalaya</td>\n",
              "      <td>28°56′48″N 90°10′42″E﻿ / ﻿28.94667°N 90.17833°E</td>\n",
              "      <td>Gangkhar Puensum</td>\n",
              "      <td>1986</td>\n",
              "      <td>4</td>\n",
              "      <td>1</td>\n",
              "      <td>China</td>\n",
              "      <td>[China]</td>\n",
              "    </tr>\n",
              "    <tr>\n",
              "      <th>116</th>\n",
              "      <td>105</td>\n",
              "      <td>Langtang Ri</td>\n",
              "      <td>7205</td>\n",
              "      <td>23638</td>\n",
              "      <td>665</td>\n",
              "      <td>2182</td>\n",
              "      <td>Langtang Himalaya</td>\n",
              "      <td>28°22′53″N 85°41′01″E﻿ / ﻿28.38139°N 85.68361°E</td>\n",
              "      <td>Shishapangma</td>\n",
              "      <td>1981</td>\n",
              "      <td>4</td>\n",
              "      <td>0</td>\n",
              "      <td>NepalChina</td>\n",
              "      <td>[Nepal, China]</td>\n",
              "    </tr>\n",
              "    <tr>\n",
              "      <th>117</th>\n",
              "      <td>106</td>\n",
              "      <td>Kangphu KangShimokangri</td>\n",
              "      <td>7204</td>\n",
              "      <td>23635</td>\n",
              "      <td>1244</td>\n",
              "      <td>4081</td>\n",
              "      <td>Lunana Himalaya</td>\n",
              "      <td>28°09′24″N 90°04′15″E﻿ / ﻿28.15667°N 90.07083°E</td>\n",
              "      <td>Tongshanjiabu</td>\n",
              "      <td>2002</td>\n",
              "      <td>1</td>\n",
              "      <td>0[20]</td>\n",
              "      <td>BhutanChina[dp 18]</td>\n",
              "      <td>[Bhutan, China]</td>\n",
              "    </tr>\n",
              "    <tr>\n",
              "      <th>118</th>\n",
              "      <td>107</td>\n",
              "      <td>Singhi Kangri</td>\n",
              "      <td>7202</td>\n",
              "      <td>23629</td>\n",
              "      <td>730</td>\n",
              "      <td>2400</td>\n",
              "      <td>Siachen Karakoram</td>\n",
              "      <td>35°35′59″N 76°59′01″E﻿ / ﻿35.59972°N 76.98361°E</td>\n",
              "      <td>Teram Kangri III</td>\n",
              "      <td>1976</td>\n",
              "      <td>2</td>\n",
              "      <td>0</td>\n",
              "      <td>IndiaChina[dp 10][dp 11]'[dp 12]</td>\n",
              "      <td>[India, China]</td>\n",
              "    </tr>\n",
              "    <tr>\n",
              "      <th>119</th>\n",
              "      <td>108</td>\n",
              "      <td>Lupghar Sar</td>\n",
              "      <td>7200</td>\n",
              "      <td>23600</td>\n",
              "      <td>730</td>\n",
              "      <td>2400</td>\n",
              "      <td>Hispar Karakoram</td>\n",
              "      <td>36°21′01″N 75°02′13″E﻿ / ﻿36.35028°N 75.03694°E *</td>\n",
              "      <td>Momhil Sar</td>\n",
              "      <td>1979</td>\n",
              "      <td>1</td>\n",
              "      <td>0</td>\n",
              "      <td>Pakistan[dp 8]</td>\n",
              "      <td>[Pakistan]</td>\n",
              "    </tr>\n",
              "  </tbody>\n",
              "</table>\n",
              "<p>120 rows × 14 columns</p>\n",
              "</div>\n",
              "      <button class=\"colab-df-convert\" onclick=\"convertToInteractive('df-4ba2995b-734b-497e-9b73-091dc29f899f')\"\n",
              "              title=\"Convert this dataframe to an interactive table.\"\n",
              "              style=\"display:none;\">\n",
              "        \n",
              "  <svg xmlns=\"http://www.w3.org/2000/svg\" height=\"24px\"viewBox=\"0 0 24 24\"\n",
              "       width=\"24px\">\n",
              "    <path d=\"M0 0h24v24H0V0z\" fill=\"none\"/>\n",
              "    <path d=\"M18.56 5.44l.94 2.06.94-2.06 2.06-.94-2.06-.94-.94-2.06-.94 2.06-2.06.94zm-11 1L8.5 8.5l.94-2.06 2.06-.94-2.06-.94L8.5 2.5l-.94 2.06-2.06.94zm10 10l.94 2.06.94-2.06 2.06-.94-2.06-.94-.94-2.06-.94 2.06-2.06.94z\"/><path d=\"M17.41 7.96l-1.37-1.37c-.4-.4-.92-.59-1.43-.59-.52 0-1.04.2-1.43.59L10.3 9.45l-7.72 7.72c-.78.78-.78 2.05 0 2.83L4 21.41c.39.39.9.59 1.41.59.51 0 1.02-.2 1.41-.59l7.78-7.78 2.81-2.81c.8-.78.8-2.07 0-2.86zM5.41 20L4 18.59l7.72-7.72 1.47 1.35L5.41 20z\"/>\n",
              "  </svg>\n",
              "      </button>\n",
              "      \n",
              "  <style>\n",
              "    .colab-df-container {\n",
              "      display:flex;\n",
              "      flex-wrap:wrap;\n",
              "      gap: 12px;\n",
              "    }\n",
              "\n",
              "    .colab-df-convert {\n",
              "      background-color: #E8F0FE;\n",
              "      border: none;\n",
              "      border-radius: 50%;\n",
              "      cursor: pointer;\n",
              "      display: none;\n",
              "      fill: #1967D2;\n",
              "      height: 32px;\n",
              "      padding: 0 0 0 0;\n",
              "      width: 32px;\n",
              "    }\n",
              "\n",
              "    .colab-df-convert:hover {\n",
              "      background-color: #E2EBFA;\n",
              "      box-shadow: 0px 1px 2px rgba(60, 64, 67, 0.3), 0px 1px 3px 1px rgba(60, 64, 67, 0.15);\n",
              "      fill: #174EA6;\n",
              "    }\n",
              "\n",
              "    [theme=dark] .colab-df-convert {\n",
              "      background-color: #3B4455;\n",
              "      fill: #D2E3FC;\n",
              "    }\n",
              "\n",
              "    [theme=dark] .colab-df-convert:hover {\n",
              "      background-color: #434B5C;\n",
              "      box-shadow: 0px 1px 3px 1px rgba(0, 0, 0, 0.15);\n",
              "      filter: drop-shadow(0px 1px 2px rgba(0, 0, 0, 0.3));\n",
              "      fill: #FFFFFF;\n",
              "    }\n",
              "  </style>\n",
              "\n",
              "      <script>\n",
              "        const buttonEl =\n",
              "          document.querySelector('#df-4ba2995b-734b-497e-9b73-091dc29f899f button.colab-df-convert');\n",
              "        buttonEl.style.display =\n",
              "          google.colab.kernel.accessAllowed ? 'block' : 'none';\n",
              "\n",
              "        async function convertToInteractive(key) {\n",
              "          const element = document.querySelector('#df-4ba2995b-734b-497e-9b73-091dc29f899f');\n",
              "          const dataTable =\n",
              "            await google.colab.kernel.invokeFunction('convertToInteractive',\n",
              "                                                     [key], {});\n",
              "          if (!dataTable) return;\n",
              "\n",
              "          const docLinkHtml = 'Like what you see? Visit the ' +\n",
              "            '<a target=\"_blank\" href=https://colab.research.google.com/notebooks/data_table.ipynb>data table notebook</a>'\n",
              "            + ' to learn more about interactive tables.';\n",
              "          element.innerHTML = '';\n",
              "          dataTable['output_type'] = 'display_data';\n",
              "          await google.colab.output.renderOutput(dataTable, element);\n",
              "          const docLink = document.createElement('div');\n",
              "          docLink.innerHTML = docLinkHtml;\n",
              "          element.appendChild(docLink);\n",
              "        }\n",
              "      </script>\n",
              "    </div>\n",
              "  </div>\n",
              "  "
            ],
            "text/plain": [
              "    Rank  ...          Country\n",
              "0      1  ...   [Nepal, China]\n",
              "1      2  ...       [Pakistan]\n",
              "2      3  ...   [Nepal, India]\n",
              "3      4  ...   [Nepal, China]\n",
              "4      5  ...   [Nepal, China]\n",
              "..   ...  ...              ...\n",
              "115  104  ...          [China]\n",
              "116  105  ...   [Nepal, China]\n",
              "117  106  ...  [Bhutan, China]\n",
              "118  107  ...   [India, China]\n",
              "119  108  ...       [Pakistan]\n",
              "\n",
              "[120 rows x 14 columns]"
            ]
          },
          "metadata": {},
          "execution_count": 136
        }
      ]
    },
    {
      "cell_type": "code",
      "source": [
        "df1.columns"
      ],
      "metadata": {
        "colab": {
          "base_uri": "https://localhost:8080/"
        },
        "id": "jqAp1EGBaoZN",
        "outputId": "fddd9a51-8cc0-4064-9204-88fb724b4135"
      },
      "execution_count": 137,
      "outputs": [
        {
          "output_type": "execute_result",
          "data": {
            "text/plain": [
              "Index(['Rank', 'Mountain_name', 'm', 'ft', 'm', 'ft', 'Range', 'Coordinates',\n",
              "       'Parent_mountain', '1st', 'y', 'n', 'Country', 'Country'],\n",
              "      dtype='object')"
            ]
          },
          "metadata": {},
          "execution_count": 137
        }
      ]
    },
    {
      "cell_type": "code",
      "source": [
        "df1.iloc[:,-2]"
      ],
      "metadata": {
        "colab": {
          "base_uri": "https://localhost:8080/"
        },
        "id": "DtC7W-rGcECj",
        "outputId": "6d62804d-1a59-44d6-8f2b-d70889d69958"
      },
      "execution_count": 114,
      "outputs": [
        {
          "output_type": "execute_result",
          "data": {
            "text/plain": [
              "0       [Nepal, China]\n",
              "1           [Pakistan]\n",
              "2       [Nepal, India]\n",
              "3       [Nepal, China]\n",
              "4       [Nepal, China]\n",
              "            ...       \n",
              "115            [China]\n",
              "116     [Nepal, China]\n",
              "117    [Bhutan, China]\n",
              "118     [India, China]\n",
              "119         [Pakistan]\n",
              "Name: Country, Length: 120, dtype: object"
            ]
          },
          "metadata": {},
          "execution_count": 114
        }
      ]
    },
    {
      "cell_type": "code",
      "source": [
        "df1"
      ],
      "metadata": {
        "colab": {
          "base_uri": "https://localhost:8080/",
          "height": 641
        },
        "id": "nvegrRyigiCk",
        "outputId": "5108a4ce-7698-4f4f-d710-1cf03b8ec0d6"
      },
      "execution_count": 138,
      "outputs": [
        {
          "output_type": "execute_result",
          "data": {
            "text/html": [
              "\n",
              "  <div id=\"df-90a8d6e4-73bf-48bb-9dbe-b4c3d77bfb81\">\n",
              "    <div class=\"colab-df-container\">\n",
              "      <div>\n",
              "<style scoped>\n",
              "    .dataframe tbody tr th:only-of-type {\n",
              "        vertical-align: middle;\n",
              "    }\n",
              "\n",
              "    .dataframe tbody tr th {\n",
              "        vertical-align: top;\n",
              "    }\n",
              "\n",
              "    .dataframe thead th {\n",
              "        text-align: right;\n",
              "    }\n",
              "</style>\n",
              "<table border=\"1\" class=\"dataframe\">\n",
              "  <thead>\n",
              "    <tr style=\"text-align: right;\">\n",
              "      <th></th>\n",
              "      <th>Rank</th>\n",
              "      <th>Mountain_name</th>\n",
              "      <th>m</th>\n",
              "      <th>ft</th>\n",
              "      <th>m</th>\n",
              "      <th>ft</th>\n",
              "      <th>Range</th>\n",
              "      <th>Coordinates</th>\n",
              "      <th>Parent_mountain</th>\n",
              "      <th>1st</th>\n",
              "      <th>y</th>\n",
              "      <th>n</th>\n",
              "      <th>Country</th>\n",
              "      <th>Country</th>\n",
              "    </tr>\n",
              "  </thead>\n",
              "  <tbody>\n",
              "    <tr>\n",
              "      <th>0</th>\n",
              "      <td>1</td>\n",
              "      <td>.mw-parser-output ul.cslist,.mw-parser-output ...</td>\n",
              "      <td>8848</td>\n",
              "      <td>29,029[dp 7]</td>\n",
              "      <td>8848</td>\n",
              "      <td>29029</td>\n",
              "      <td>Mahalangur Himalaya</td>\n",
              "      <td>.mw-parser-output .geo-default,.mw-parser-outp...</td>\n",
              "      <td>—</td>\n",
              "      <td>1953</td>\n",
              "      <td>145</td>\n",
              "      <td>121</td>\n",
              "      <td>NepalChina</td>\n",
              "      <td>[Nepal, China]</td>\n",
              "    </tr>\n",
              "    <tr>\n",
              "      <th>1</th>\n",
              "      <td>2</td>\n",
              "      <td>K2</td>\n",
              "      <td>8611</td>\n",
              "      <td>28251</td>\n",
              "      <td>4020</td>\n",
              "      <td>13190</td>\n",
              "      <td>Baltoro Karakoram</td>\n",
              "      <td>35°52′53″N 76°30′48″E﻿ / ﻿35.88139°N 76.51333°E</td>\n",
              "      <td>Mount Everest</td>\n",
              "      <td>1954</td>\n",
              "      <td>45</td>\n",
              "      <td>44</td>\n",
              "      <td>Pakistan[dp 8]China[12]</td>\n",
              "      <td>[Pakistan]</td>\n",
              "    </tr>\n",
              "    <tr>\n",
              "      <th>2</th>\n",
              "      <td>3</td>\n",
              "      <td>Kangchenjunga</td>\n",
              "      <td>8586</td>\n",
              "      <td>28169</td>\n",
              "      <td>3922</td>\n",
              "      <td>12867</td>\n",
              "      <td>Kangchenjunga Himalaya</td>\n",
              "      <td>27°42′12″N 88°08′51″E﻿ / ﻿27.70333°N 88.14750°E *</td>\n",
              "      <td>Mount Everest</td>\n",
              "      <td>1955</td>\n",
              "      <td>38</td>\n",
              "      <td>24</td>\n",
              "      <td>NepalIndia</td>\n",
              "      <td>[Nepal, India]</td>\n",
              "    </tr>\n",
              "    <tr>\n",
              "      <th>3</th>\n",
              "      <td>4</td>\n",
              "      <td>Lhotse</td>\n",
              "      <td>8516</td>\n",
              "      <td>27940</td>\n",
              "      <td>610</td>\n",
              "      <td>2000</td>\n",
              "      <td>Mahalangur Himalaya</td>\n",
              "      <td>27°57′42″N 86°55′59″E﻿ / ﻿27.96167°N 86.93306°E</td>\n",
              "      <td>Mount Everest</td>\n",
              "      <td>1956</td>\n",
              "      <td>26</td>\n",
              "      <td>26</td>\n",
              "      <td>NepalChina</td>\n",
              "      <td>[Nepal, China]</td>\n",
              "    </tr>\n",
              "    <tr>\n",
              "      <th>4</th>\n",
              "      <td>5</td>\n",
              "      <td>Makalu</td>\n",
              "      <td>8485</td>\n",
              "      <td>27838</td>\n",
              "      <td>2378</td>\n",
              "      <td>7802</td>\n",
              "      <td>Mahalangur Himalaya</td>\n",
              "      <td>27°53′23″N 87°05′20″E﻿ / ﻿27.88972°N 87.08889°E</td>\n",
              "      <td>Mount Everest</td>\n",
              "      <td>1955</td>\n",
              "      <td>45</td>\n",
              "      <td>—</td>\n",
              "      <td>NepalChina</td>\n",
              "      <td>[Nepal, China]</td>\n",
              "    </tr>\n",
              "    <tr>\n",
              "      <th>...</th>\n",
              "      <td>...</td>\n",
              "      <td>...</td>\n",
              "      <td>...</td>\n",
              "      <td>...</td>\n",
              "      <td>...</td>\n",
              "      <td>...</td>\n",
              "      <td>...</td>\n",
              "      <td>...</td>\n",
              "      <td>...</td>\n",
              "      <td>...</td>\n",
              "      <td>...</td>\n",
              "      <td>...</td>\n",
              "      <td>...</td>\n",
              "      <td>...</td>\n",
              "    </tr>\n",
              "    <tr>\n",
              "      <th>115</th>\n",
              "      <td>104</td>\n",
              "      <td>Noijin KangsangNorin Kang</td>\n",
              "      <td>7206</td>\n",
              "      <td>23642</td>\n",
              "      <td>2160</td>\n",
              "      <td>7090</td>\n",
              "      <td>Nagarze Himalaya</td>\n",
              "      <td>28°56′48″N 90°10′42″E﻿ / ﻿28.94667°N 90.17833°E</td>\n",
              "      <td>Gangkhar Puensum</td>\n",
              "      <td>1986</td>\n",
              "      <td>4</td>\n",
              "      <td>1</td>\n",
              "      <td>China</td>\n",
              "      <td>[China]</td>\n",
              "    </tr>\n",
              "    <tr>\n",
              "      <th>116</th>\n",
              "      <td>105</td>\n",
              "      <td>Langtang Ri</td>\n",
              "      <td>7205</td>\n",
              "      <td>23638</td>\n",
              "      <td>665</td>\n",
              "      <td>2182</td>\n",
              "      <td>Langtang Himalaya</td>\n",
              "      <td>28°22′53″N 85°41′01″E﻿ / ﻿28.38139°N 85.68361°E</td>\n",
              "      <td>Shishapangma</td>\n",
              "      <td>1981</td>\n",
              "      <td>4</td>\n",
              "      <td>0</td>\n",
              "      <td>NepalChina</td>\n",
              "      <td>[Nepal, China]</td>\n",
              "    </tr>\n",
              "    <tr>\n",
              "      <th>117</th>\n",
              "      <td>106</td>\n",
              "      <td>Kangphu KangShimokangri</td>\n",
              "      <td>7204</td>\n",
              "      <td>23635</td>\n",
              "      <td>1244</td>\n",
              "      <td>4081</td>\n",
              "      <td>Lunana Himalaya</td>\n",
              "      <td>28°09′24″N 90°04′15″E﻿ / ﻿28.15667°N 90.07083°E</td>\n",
              "      <td>Tongshanjiabu</td>\n",
              "      <td>2002</td>\n",
              "      <td>1</td>\n",
              "      <td>0[20]</td>\n",
              "      <td>BhutanChina[dp 18]</td>\n",
              "      <td>[Bhutan, China]</td>\n",
              "    </tr>\n",
              "    <tr>\n",
              "      <th>118</th>\n",
              "      <td>107</td>\n",
              "      <td>Singhi Kangri</td>\n",
              "      <td>7202</td>\n",
              "      <td>23629</td>\n",
              "      <td>730</td>\n",
              "      <td>2400</td>\n",
              "      <td>Siachen Karakoram</td>\n",
              "      <td>35°35′59″N 76°59′01″E﻿ / ﻿35.59972°N 76.98361°E</td>\n",
              "      <td>Teram Kangri III</td>\n",
              "      <td>1976</td>\n",
              "      <td>2</td>\n",
              "      <td>0</td>\n",
              "      <td>IndiaChina[dp 10][dp 11]'[dp 12]</td>\n",
              "      <td>[India, China]</td>\n",
              "    </tr>\n",
              "    <tr>\n",
              "      <th>119</th>\n",
              "      <td>108</td>\n",
              "      <td>Lupghar Sar</td>\n",
              "      <td>7200</td>\n",
              "      <td>23600</td>\n",
              "      <td>730</td>\n",
              "      <td>2400</td>\n",
              "      <td>Hispar Karakoram</td>\n",
              "      <td>36°21′01″N 75°02′13″E﻿ / ﻿36.35028°N 75.03694°E *</td>\n",
              "      <td>Momhil Sar</td>\n",
              "      <td>1979</td>\n",
              "      <td>1</td>\n",
              "      <td>0</td>\n",
              "      <td>Pakistan[dp 8]</td>\n",
              "      <td>[Pakistan]</td>\n",
              "    </tr>\n",
              "  </tbody>\n",
              "</table>\n",
              "<p>120 rows × 14 columns</p>\n",
              "</div>\n",
              "      <button class=\"colab-df-convert\" onclick=\"convertToInteractive('df-90a8d6e4-73bf-48bb-9dbe-b4c3d77bfb81')\"\n",
              "              title=\"Convert this dataframe to an interactive table.\"\n",
              "              style=\"display:none;\">\n",
              "        \n",
              "  <svg xmlns=\"http://www.w3.org/2000/svg\" height=\"24px\"viewBox=\"0 0 24 24\"\n",
              "       width=\"24px\">\n",
              "    <path d=\"M0 0h24v24H0V0z\" fill=\"none\"/>\n",
              "    <path d=\"M18.56 5.44l.94 2.06.94-2.06 2.06-.94-2.06-.94-.94-2.06-.94 2.06-2.06.94zm-11 1L8.5 8.5l.94-2.06 2.06-.94-2.06-.94L8.5 2.5l-.94 2.06-2.06.94zm10 10l.94 2.06.94-2.06 2.06-.94-2.06-.94-.94-2.06-.94 2.06-2.06.94z\"/><path d=\"M17.41 7.96l-1.37-1.37c-.4-.4-.92-.59-1.43-.59-.52 0-1.04.2-1.43.59L10.3 9.45l-7.72 7.72c-.78.78-.78 2.05 0 2.83L4 21.41c.39.39.9.59 1.41.59.51 0 1.02-.2 1.41-.59l7.78-7.78 2.81-2.81c.8-.78.8-2.07 0-2.86zM5.41 20L4 18.59l7.72-7.72 1.47 1.35L5.41 20z\"/>\n",
              "  </svg>\n",
              "      </button>\n",
              "      \n",
              "  <style>\n",
              "    .colab-df-container {\n",
              "      display:flex;\n",
              "      flex-wrap:wrap;\n",
              "      gap: 12px;\n",
              "    }\n",
              "\n",
              "    .colab-df-convert {\n",
              "      background-color: #E8F0FE;\n",
              "      border: none;\n",
              "      border-radius: 50%;\n",
              "      cursor: pointer;\n",
              "      display: none;\n",
              "      fill: #1967D2;\n",
              "      height: 32px;\n",
              "      padding: 0 0 0 0;\n",
              "      width: 32px;\n",
              "    }\n",
              "\n",
              "    .colab-df-convert:hover {\n",
              "      background-color: #E2EBFA;\n",
              "      box-shadow: 0px 1px 2px rgba(60, 64, 67, 0.3), 0px 1px 3px 1px rgba(60, 64, 67, 0.15);\n",
              "      fill: #174EA6;\n",
              "    }\n",
              "\n",
              "    [theme=dark] .colab-df-convert {\n",
              "      background-color: #3B4455;\n",
              "      fill: #D2E3FC;\n",
              "    }\n",
              "\n",
              "    [theme=dark] .colab-df-convert:hover {\n",
              "      background-color: #434B5C;\n",
              "      box-shadow: 0px 1px 3px 1px rgba(0, 0, 0, 0.15);\n",
              "      filter: drop-shadow(0px 1px 2px rgba(0, 0, 0, 0.3));\n",
              "      fill: #FFFFFF;\n",
              "    }\n",
              "  </style>\n",
              "\n",
              "      <script>\n",
              "        const buttonEl =\n",
              "          document.querySelector('#df-90a8d6e4-73bf-48bb-9dbe-b4c3d77bfb81 button.colab-df-convert');\n",
              "        buttonEl.style.display =\n",
              "          google.colab.kernel.accessAllowed ? 'block' : 'none';\n",
              "\n",
              "        async function convertToInteractive(key) {\n",
              "          const element = document.querySelector('#df-90a8d6e4-73bf-48bb-9dbe-b4c3d77bfb81');\n",
              "          const dataTable =\n",
              "            await google.colab.kernel.invokeFunction('convertToInteractive',\n",
              "                                                     [key], {});\n",
              "          if (!dataTable) return;\n",
              "\n",
              "          const docLinkHtml = 'Like what you see? Visit the ' +\n",
              "            '<a target=\"_blank\" href=https://colab.research.google.com/notebooks/data_table.ipynb>data table notebook</a>'\n",
              "            + ' to learn more about interactive tables.';\n",
              "          element.innerHTML = '';\n",
              "          dataTable['output_type'] = 'display_data';\n",
              "          await google.colab.output.renderOutput(dataTable, element);\n",
              "          const docLink = document.createElement('div');\n",
              "          docLink.innerHTML = docLinkHtml;\n",
              "          element.appendChild(docLink);\n",
              "        }\n",
              "      </script>\n",
              "    </div>\n",
              "  </div>\n",
              "  "
            ],
            "text/plain": [
              "    Rank  ...          Country\n",
              "0      1  ...   [Nepal, China]\n",
              "1      2  ...       [Pakistan]\n",
              "2      3  ...   [Nepal, India]\n",
              "3      4  ...   [Nepal, China]\n",
              "4      5  ...   [Nepal, China]\n",
              "..   ...  ...              ...\n",
              "115  104  ...          [China]\n",
              "116  105  ...   [Nepal, China]\n",
              "117  106  ...  [Bhutan, China]\n",
              "118  107  ...   [India, China]\n",
              "119  108  ...       [Pakistan]\n",
              "\n",
              "[120 rows x 14 columns]"
            ]
          },
          "metadata": {},
          "execution_count": 138
        }
      ]
    },
    {
      "cell_type": "code",
      "source": [
        ""
      ],
      "metadata": {
        "id": "vpTfERcFig0z"
      },
      "execution_count": null,
      "outputs": []
    }
  ]
}