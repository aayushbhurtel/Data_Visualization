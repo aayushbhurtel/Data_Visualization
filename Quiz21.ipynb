{
  "nbformat": 4,
  "nbformat_minor": 0,
  "metadata": {
    "colab": {
      "name": "Quiz21.ipynb",
      "provenance": [],
      "authorship_tag": "ABX9TyO2/kwumZ10meELBLKuHXQv",
      "include_colab_link": true
    },
    "kernelspec": {
      "name": "python3",
      "display_name": "Python 3"
    },
    "language_info": {
      "name": "python"
    }
  },
  "cells": [
    {
      "cell_type": "markdown",
      "metadata": {
        "id": "view-in-github",
        "colab_type": "text"
      },
      "source": [
        "<a href=\"https://colab.research.google.com/github/aayushbhurtel/Data_Visualization/blob/main/Quiz21.ipynb\" target=\"_parent\"><img src=\"https://colab.research.google.com/assets/colab-badge.svg\" alt=\"Open In Colab\"/></a>"
      ]
    },
    {
      "cell_type": "code",
      "execution_count": null,
      "metadata": {
        "id": "ugDH3_tU8EQ6"
      },
      "outputs": [],
      "source": [
        ""
      ]
    },
    {
      "cell_type": "markdown",
      "source": [
        "# Data Visualization\n",
        "Aayush Bhurtel\n",
        "\n",
        "\n",
        "Graphical Excellence"
      ],
      "metadata": {
        "id": "MdygU2gc34YY"
      }
    },
    {
      "cell_type": "markdown",
      "source": [
        ""
      ],
      "metadata": {
        "id": "_ZnQyf904DOG"
      }
    },
    {
      "cell_type": "markdown",
      "source": [
        "![john Snow](https://media.nationalgeographic.org/assets/photos/000/276/27636.jpg)"
      ],
      "metadata": {
        "id": "MDDVbuE8h1Qp"
      }
    },
    {
      "cell_type": "markdown",
      "source": [
        "1. Examine John Snow's map of cholera outbreak in 1854 for 'graphical excellence'.  Discuss the highlights of the graphic.\n",
        "\n",
        "=> In the John Snow's map of cholera outbreak, John used bars to show the number of dead people based on their location. We can see that the number of death cases is more in and around broad street in the map.\n",
        "2. Find a modern reference and dicuss the excellence displayed.  Include a link and image in your report."
      ],
      "metadata": {
        "id": "DU4N9WLB4I6r"
      }
    }
  ]
}