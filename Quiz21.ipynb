{
  "nbformat": 4,
  "nbformat_minor": 0,
  "metadata": {
    "colab": {
      "name": "Quiz21.ipynb",
      "provenance": [],
      "authorship_tag": "ABX9TyPZg5y0sQwaQFa0z9dJDucR",
      "include_colab_link": true
    },
    "kernelspec": {
      "name": "python3",
      "display_name": "Python 3"
    },
    "language_info": {
      "name": "python"
    }
  },
  "cells": [
    {
      "cell_type": "markdown",
      "metadata": {
        "id": "view-in-github",
        "colab_type": "text"
      },
      "source": [
        "<a href=\"https://colab.research.google.com/github/aayushbhurtel/Data_Visualization/blob/main/Quiz21.ipynb\" target=\"_parent\"><img src=\"https://colab.research.google.com/assets/colab-badge.svg\" alt=\"Open In Colab\"/></a>"
      ]
    },
    {
      "cell_type": "code",
      "execution_count": null,
      "metadata": {
        "id": "ugDH3_tU8EQ6"
      },
      "outputs": [],
      "source": [
        ""
      ]
    },
    {
      "cell_type": "markdown",
      "source": [
        "# Data Visualization\n",
        "Aayush Bhurtel\n",
        "\n",
        "\n",
        "Graphical Excellence"
      ],
      "metadata": {
        "id": "MdygU2gc34YY"
      }
    },
    {
      "cell_type": "markdown",
      "source": [
        ""
      ],
      "metadata": {
        "id": "_ZnQyf904DOG"
      }
    },
    {
      "cell_type": "markdown",
      "source": [
        "![john Snow](https://media.nationalgeographic.org/assets/photos/000/276/27636.jpg)"
      ],
      "metadata": {
        "id": "MDDVbuE8h1Qp"
      }
    },
    {
      "cell_type": "markdown",
      "source": [
        "1. Examine John Snow's map of cholera outbreak in 1854 for 'graphical excellence'.  Discuss the highlights of the graphic.\n",
        "\n",
        "=> In the John Snow's map of cholera outbreak, John used bars to show the number of dead people based on their location. We can see that the number of death cases is more in and around broad street in the map. Carefully looking at the zoomed picture of this map, I could see that there is a water pump in the intersection of broadway street and cambridge street. At the same spot, the concentration of death due to cholera is more dense. Due to this reason, John Snow may have tested the water from these pump and concluded that people drinking water from these pumps are infected with cholera and that could be the reason for death of thousands of people.\n",
        "\n",
        "\n"
      ],
      "metadata": {
        "id": "DU4N9WLB4I6r"
      }
    },
    {
      "cell_type": "markdown",
      "source": [
        "2. Find a modern reference and dicuss the excellence displayed.  Include a link and image in your report."
      ],
      "metadata": {
        "id": "aJhcAJqL93-I"
      }
    },
    {
      "cell_type": "markdown",
      "source": [
        "I found an interesting infograph of all the pandamics we have seen as an humanity.\n",
        "\n",
        "\n",
        "![History of Pandemics](https://www.visualcapitalist.com/wp-content/uploads/2022/03/HoP-Main-Graphic-01032022.jpg)\n"
      ],
      "metadata": {
        "id": "8_Yi1Ta694vD"
      }
    },
    {
      "cell_type": "markdown",
      "source": [
        "As we start looking at the infograph, we can see the size of a virus is represented as a number of death it caused in millions. Just by glancing at the picture we can recognize that black death has caused more death in the history of pandemics."
      ],
      "metadata": {
        "id": "elevy95V-RRm"
      }
    }
  ]
}