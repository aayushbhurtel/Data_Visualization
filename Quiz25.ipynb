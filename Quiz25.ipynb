{
  "nbformat": 4,
  "nbformat_minor": 0,
  "metadata": {
    "colab": {
      "name": "Quiz25.ipynb",
      "provenance": [],
      "authorship_tag": "ABX9TyOqh5xn4M84zGtCxqb5fNs1",
      "include_colab_link": true
    },
    "kernelspec": {
      "name": "python3",
      "display_name": "Python 3"
    },
    "language_info": {
      "name": "python"
    }
  },
  "cells": [
    {
      "cell_type": "markdown",
      "metadata": {
        "id": "view-in-github",
        "colab_type": "text"
      },
      "source": [
        "<a href=\"https://colab.research.google.com/github/aayushbhurtel/Data_Visualization/blob/main/Quiz25.ipynb\" target=\"_parent\"><img src=\"https://colab.research.google.com/assets/colab-badge.svg\" alt=\"Open In Colab\"/></a>"
      ]
    },
    {
      "cell_type": "markdown",
      "source": [
        "# Data Visualization\n",
        "\n",
        "## Aayush Bhurtel\n",
        "\n",
        "Quiz 25"
      ],
      "metadata": {
        "id": "4pOASU1GHjhR"
      }
    },
    {
      "cell_type": "code",
      "execution_count": null,
      "metadata": {
        "id": "EHLQGw8cHgF9"
      },
      "outputs": [],
      "source": [
        "import pandas as pd\n",
        "df = pd.read_csv('https://raw.githubusercontent.com/nurfnick/Data_Viz/main/AB_NYC_2019.csv')"
      ]
    },
    {
      "cell_type": "markdown",
      "source": [
        "# Look at NYC Air B&B, provide a histogram of the price and a histogram of the price broken down by 'neighborhood_group'. Make sure to give titles and labels axises!"
      ],
      "metadata": {
        "id": "NOn3DPpiIkQP"
      }
    },
    {
      "cell_type": "code",
      "source": [
        "df.price.plot.hist()"
      ],
      "metadata": {
        "colab": {
          "base_uri": "https://localhost:8080/",
          "height": 283
        },
        "id": "YGY35iq7IP6T",
        "outputId": "3224af5f-2cba-480a-e122-62267fcd9e11"
      },
      "execution_count": null,
      "outputs": [
        {
          "output_type": "execute_result",
          "data": {
            "text/plain": [
              "<matplotlib.axes._subplots.AxesSubplot at 0x7fa71aed6490>"
            ]
          },
          "metadata": {},
          "execution_count": 4
        },
        {
          "output_type": "display_data",
          "data": {
            "text/plain": [
              "<Figure size 432x288 with 1 Axes>"
            ],
            "image/png": "[encoded data removed]"
          },
          "metadata": {
            "needs_background": "light"
          }
        }
      ]
    },
    {
      "cell_type": "markdown",
      "source": [
        "since, the above histogram "
      ],
      "metadata": {
        "id": "5p1qC3WR7uIe"
      }
    },
    {
      "cell_type": "code",
      "source": [
        "df.price.plot.hist(bins =500, xlim = (0,1000), title = 'Price of Air B&B in NYC with Outliners', xlabel = 'Price').set_xlabel('price')"
      ],
      "metadata": {
        "colab": {
          "base_uri": "https://localhost:8080/",
          "height": 313
        },
        "id": "IAm9OBz9IvGm",
        "outputId": "c4a1009c-f1c6-48d5-8484-f075906753c6"
      },
      "execution_count": null,
      "outputs": [
        {
          "output_type": "execute_result",
          "data": {
            "text/plain": [
              "Text(0.5, 0, 'price')"
            ]
          },
          "metadata": {},
          "execution_count": 11
        },
        {
          "output_type": "display_data",
          "data": {
            "text/plain": [
              "<Figure size 432x288 with 1 Axes>"
            ],
            "image/png": "[encoded data removed]"
          },
          "metadata": {
            "needs_background": "light"
          }
        }
      ]
    },
    {
      "cell_type": "code",
      "source": [
        "df.groupby()"
      ],
      "metadata": {
        "id": "MBlxT17zI3w_"
      },
      "execution_count": null,
      "outputs": []
    }
  ]
}