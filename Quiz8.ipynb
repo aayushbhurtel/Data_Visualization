{
  "nbformat": 4,
  "nbformat_minor": 0,
  "metadata": {
    "colab": {
      "name": "Quiz8.ipynb",
      "provenance": [],
      "authorship_tag": "ABX9TyN2sg79RhwfXdtG8Q+kQ4Cs",
      "include_colab_link": true
    },
    "kernelspec": {
      "name": "python3",
      "display_name": "Python 3"
    },
    "language_info": {
      "name": "python"
    }
  },
  "cells": [
    {
      "cell_type": "markdown",
      "metadata": {
        "id": "view-in-github",
        "colab_type": "text"
      },
      "source": [
        "<a href=\"https://colab.research.google.com/github/aayushbhurtel/Data_Visualization/blob/main/Quiz8.ipynb\" target=\"_parent\"><img src=\"https://colab.research.google.com/assets/colab-badge.svg\" alt=\"Open In Colab\"/></a>"
      ]
    },
    {
      "cell_type": "markdown",
      "source": [
        "# Data Visualization\n",
        "\n",
        "## Aayush Bhurtel\n",
        "\n",
        "Data Scraping\n",
        "\n",
        "First of all, I am going to import and load libraries required to load and parse a webpage for this project.\n",
        "\n",
        "requests is going to get all the raw data from the webpage.\n",
        "pandas will help to structure and filter the data. whereas BeautifulSoup will parse the code."
      ],
      "metadata": {
        "id": "5-lrqwm-H4R1"
      }
    },
    {
      "cell_type": "code",
      "execution_count": 1,
      "metadata": {
        "id": "O_lsqrOsGiEk"
      },
      "outputs": [],
      "source": [
        "import requests\n",
        "import pandas as pd\n",
        "from bs4 import BeautifulSoup"
      ]
    },
    {
      "cell_type": "markdown",
      "source": [
        "Next, I am going to look at the Breaking Bad television series from wikipidia.\n",
        "\n",
        "https://en.wikipedia.org/wiki/Breaking_Bad\n",
        "\n",
        "I am using a request library's get method to get the raw data from the passed URL."
      ],
      "metadata": {
        "id": "47j7IWo0I9g2"
      }
    },
    {
      "cell_type": "code",
      "source": [
        "rawData = requests.get('https://en.wikipedia.org/wiki/Breaking_Bad')\n",
        "html_texts = rawData.text\n",
        "# now lets parse those codes\n",
        "soup = BeautifulSoup(html_texts,'lxml')"
      ],
      "metadata": {
        "id": "6GbqtWxfIlD0"
      },
      "execution_count": 12,
      "outputs": []
    },
    {
      "cell_type": "markdown",
      "source": [
        "# 1. Display the title for the page\n"
      ],
      "metadata": {
        "id": "LYW3HzBbKLsC"
      }
    },
    {
      "cell_type": "code",
      "source": [
        "soup.title"
      ],
      "metadata": {
        "colab": {
          "base_uri": "https://localhost:8080/"
        },
        "id": "4hZzcUx0J8uT",
        "outputId": "639e8dbd-4afd-4c98-eb22-b87f76bccadd"
      },
      "execution_count": 13,
      "outputs": [
        {
          "output_type": "execute_result",
          "data": {
            "text/plain": [
              "<title>Breaking Bad - Wikipedia</title>"
            ]
          },
          "metadata": {},
          "execution_count": 13
        }
      ]
    },
    {
      "cell_type": "code",
      "source": [
        "# title without title tag\n",
        "soup.title.text"
      ],
      "metadata": {
        "colab": {
          "base_uri": "https://localhost:8080/",
          "height": 35
        },
        "id": "yknB2r37LeCp",
        "outputId": "0862ca5c-df2d-4f39-98f9-a684746997dd"
      },
      "execution_count": 14,
      "outputs": [
        {
          "output_type": "execute_result",
          "data": {
            "application/vnd.google.colaboratory.intrinsic+json": {
              "type": "string"
            },
            "text/plain": [
              "'Breaking Bad - Wikipedia'"
            ]
          },
          "metadata": {},
          "execution_count": 14
        }
      ]
    },
    {
      "cell_type": "markdown",
      "source": [
        "# 2. Within an interesting table, retrieve all links and store them in a list\n",
        "Now here I am printing out all the links from the webpage"
      ],
      "metadata": {
        "id": "h3-OyzQwKPOU"
      }
    },
    {
      "cell_type": "code",
      "source": [
        "soup.table.findAll('a')"
      ],
      "metadata": {
        "colab": {
          "base_uri": "https://localhost:8080/"
        },
        "id": "KFHv0m6AKqmr",
        "outputId": "d6c3419a-fd44-4822-df4a-a7207ef5a1ae"
      },
      "execution_count": 15,
      "outputs": [
        {
          "output_type": "execute_result",
          "data": {
            "text/plain": [
              "[<a class=\"image\" href=\"/wiki/File:Breaking_Bad_title_card.png\" title='A green montage with the name \"Breaking Bad\" written on it—the \"Br\" in \"Breaking\" and the \"Ba\" in \"Bad\" are denoted by the chemical symbols for bromine and barium'><img alt='A green montage with the name \"Breaking Bad\" written on it—the \"Br\" in \"Breaking\" and the \"Ba\" in \"Bad\" are denoted by the chemical symbols for bromine and barium' data-file-height=\"226\" data-file-width=\"399\" decoding=\"async\" height=\"142\" src=\"//upload.wikimedia.org/wikipedia/en/thumb/6/61/Breaking_Bad_title_card.png/250px-Breaking_Bad_title_card.png\" srcset=\"//upload.wikimedia.org/wikipedia/en/thumb/6/61/Breaking_Bad_title_card.png/375px-Breaking_Bad_title_card.png 1.5x, //upload.wikimedia.org/wikipedia/en/6/61/Breaking_Bad_title_card.png 2x\" width=\"250\"/></a>,\n",
              " <a class=\"mw-redirect\" href=\"/wiki/Crime_drama\" title=\"Crime drama\">Crime drama</a>,\n",
              " <a class=\"mw-redirect\" href=\"/wiki/Serial_drama\" title=\"Serial drama\">Serial drama</a>,\n",
              " <a href=\"/wiki/Thriller_(genre)\" title=\"Thriller (genre)\">Thriller</a>,\n",
              " <a href=\"#cite_note-AutoHY-1-1\">[1]</a>,\n",
              " <a href=\"/wiki/Western_(genre)#Contemporary_Western_or_neo-Western\" title=\"Western (genre)\">Neo-Western</a>,\n",
              " <a href=\"#cite_note-western-2\">[2]</a>,\n",
              " <a href=\"#cite_note-western2-3\">[3]</a>,\n",
              " <a href=\"/wiki/Black_comedy\" title=\"Black comedy\">Black comedy</a>,\n",
              " <a href=\"#cite_note-black-comedy-4\">[4]</a>,\n",
              " <a href=\"/wiki/Tragedy\" title=\"Tragedy\">Tragedy</a>,\n",
              " <a href=\"#cite_note-5\">[5]</a>,\n",
              " <a href=\"#cite_note-6\">[6]</a>,\n",
              " <a href=\"#cite_note-7\">[7]</a>,\n",
              " <a href=\"/wiki/Vince_Gilligan\" title=\"Vince Gilligan\">Vince Gilligan</a>,\n",
              " <a href=\"/wiki/Bryan_Cranston\" title=\"Bryan Cranston\">Bryan Cranston</a>,\n",
              " <a href=\"/wiki/Anna_Gunn\" title=\"Anna Gunn\">Anna Gunn</a>,\n",
              " <a href=\"/wiki/Aaron_Paul\" title=\"Aaron Paul\">Aaron Paul</a>,\n",
              " <a href=\"/wiki/Dean_Norris\" title=\"Dean Norris\">Dean Norris</a>,\n",
              " <a href=\"/wiki/Betsy_Brandt\" title=\"Betsy Brandt\">Betsy Brandt</a>,\n",
              " <a href=\"/wiki/RJ_Mitte\" title=\"RJ Mitte\">RJ Mitte</a>,\n",
              " <a href=\"/wiki/Giancarlo_Esposito\" title=\"Giancarlo Esposito\">Giancarlo Esposito</a>,\n",
              " <a href=\"/wiki/Bob_Odenkirk\" title=\"Bob Odenkirk\">Bob Odenkirk</a>,\n",
              " <a href=\"/wiki/Jonathan_Banks\" title=\"Jonathan Banks\">Jonathan Banks</a>,\n",
              " <a href=\"/wiki/Laura_Fraser\" title=\"Laura Fraser\">Laura Fraser</a>,\n",
              " <a href=\"/wiki/Jesse_Plemons\" title=\"Jesse Plemons\">Jesse Plemons</a>,\n",
              " <a href=\"/wiki/Dave_Porter_(composer)\" title=\"Dave Porter (composer)\">Dave Porter</a>,\n",
              " <a href=\"/wiki/List_of_Breaking_Bad_episodes\" title=\"List of Breaking Bad episodes\">list of episodes</a>,\n",
              " <a href=\"/wiki/Vince_Gilligan\" title=\"Vince Gilligan\">Vince Gilligan</a>,\n",
              " <a href=\"/wiki/Mark_Johnson_(producer)\" title=\"Mark Johnson (producer)\">Mark Johnson</a>,\n",
              " <a href=\"/wiki/Michelle_MacLaren\" title=\"Michelle MacLaren\">Michelle MacLaren</a>,\n",
              " <a href=\"/wiki/Sam_Catlin\" title=\"Sam Catlin\">Sam Catlin</a>,\n",
              " <a href=\"/wiki/John_Shiban\" title=\"John Shiban\">John Shiban</a>,\n",
              " <a href=\"/wiki/Peter_Gould\" title=\"Peter Gould\">Peter Gould</a>,\n",
              " <a href=\"/wiki/George_Mastras\" title=\"George Mastras\">George Mastras</a>,\n",
              " <a href=\"/wiki/Thomas_Schnauz\" title=\"Thomas Schnauz\">Thomas Schnauz</a>,\n",
              " <a href=\"/wiki/Moira_Walley-Beckett\" title=\"Moira Walley-Beckett\">Moira Walley-Beckett</a>,\n",
              " <a href=\"/wiki/Patty_Lin\" title=\"Patty Lin\">Patty Lin</a>,\n",
              " <a href=\"/wiki/Albuquerque,_New_Mexico\" title=\"Albuquerque, New Mexico\">Albuquerque, New Mexico</a>,\n",
              " <a href=\"/wiki/Michael_Slovis\" title=\"Michael Slovis\">Michael Slovis</a>,\n",
              " <a href=\"/wiki/Reynaldo_Villalobos\" title=\"Reynaldo Villalobos\">Reynaldo Villalobos</a>,\n",
              " <a href=\"/wiki/Arthur_Albert\" title=\"Arthur Albert\">Arthur Albert</a>,\n",
              " <a href=\"/wiki/John_Toll\" title=\"John Toll\">John Toll</a>,\n",
              " <a href=\"/wiki/Nelson_Cragg\" title=\"Nelson Cragg\">Nelson Cragg</a>,\n",
              " <a href=\"/wiki/Skip_Macdonald\" title=\"Skip Macdonald\">Skip Macdonald</a>,\n",
              " <a href=\"/wiki/Chris_McCaleb\" title=\"Chris McCaleb\">Chris McCaleb</a>,\n",
              " <a href=\"/wiki/Sony_Pictures_Television\" title=\"Sony Pictures Television\">Sony Pictures Television</a>,\n",
              " <a href=\"/wiki/AMC_(TV_channel)\" title=\"AMC (TV channel)\">AMC</a>,\n",
              " <a href=\"/wiki/Better_Call_Saul\" title=\"Better Call Saul\">Better Call Saul</a>,\n",
              " <a href=\"/wiki/El_Camino:_A_Breaking_Bad_Movie\" title=\"El Camino: A Breaking Bad Movie\">El Camino: A Breaking Bad Movie</a>,\n",
              " <a href=\"/wiki/Talking_Bad\" title=\"Talking Bad\">Talking Bad</a>,\n",
              " <a href=\"/wiki/Met%C3%A1stasis\" title=\"Metástasis\">Metástasis</a>,\n",
              " <a class=\"external text\" href=\"https://www.sonypictures.com/tv/breakingbad\" rel=\"nofollow\">Production website</a>]"
            ]
          },
          "metadata": {},
          "execution_count": 15
        }
      ]
    },
    {
      "cell_type": "markdown",
      "source": [
        "Tabulate library in python is used to print small tables without hassle. Readable data in a table for a pretty view of the data.\n",
        "\n",
        "Then, I used a Beautiful Soup library's finalAll method to print all the data from \"infobox vevent\" class that I scrapped using a developer tool in my browser. After that, I used Pandas read_html method to grab all the data from class and convert it into string table.\n",
        "\n",
        "Finally, used a tabulate library to print those data into pretty table."
      ],
      "metadata": {
        "id": "oMN0_2QDQY9i"
      }
    },
    {
      "cell_type": "code",
      "source": [
        "from tabulate import tabulate\n",
        "table = soup.find_all(class_ = 'infobox vevent')[0] \n",
        "df = pd.read_html(str(table))\n",
        "print( tabulate(df[0], headers='keys', tablefmt='psql') )"
      ],
      "metadata": {
        "colab": {
          "base_uri": "https://localhost:8080/"
        },
        "id": "lZnADrG-K1pG",
        "outputId": "afc2deef-8628-400c-dc54-e886c48dc057"
      },
      "execution_count": 26,
      "outputs": [
        {
          "output_type": "stream",
          "name": "stdout",
          "text": [
            "+----+----------------------+----------------------------------------------------------------------------------------------------------------------------------------------------------------------------+\n",
            "|    | Breaking Bad         | Breaking Bad.1                                                                                                                                                             |\n",
            "|----+----------------------+----------------------------------------------------------------------------------------------------------------------------------------------------------------------------|\n",
            "|  0 | nan                  | nan                                                                                                                                                                        |\n",
            "|  1 | Genre                | Crime drama Serial drama Thriller[1] Neo-Western[2][3] Black comedy[4] Tragedy[5][6][7]                                                                                    |\n",
            "|  2 | Created by           | Vince Gilligan                                                                                                                                                             |\n",
            "|  3 | Starring             | Bryan Cranston Anna Gunn Aaron Paul Dean Norris Betsy Brandt RJ Mitte Giancarlo Esposito Bob Odenkirk Jonathan Banks Laura Fraser Jesse Plemons                            |\n",
            "|  4 | Composer             | Dave Porter                                                                                                                                                                |\n",
            "|  5 | Country of origin    | United States                                                                                                                                                              |\n",
            "|  6 | Original languages   | English Spanish                                                                                                                                                            |\n",
            "|  7 | No. of seasons       | 5                                                                                                                                                                          |\n",
            "|  8 | No. of episodes      | 62 (list of episodes)                                                                                                                                                      |\n",
            "|  9 | Production           | Production                                                                                                                                                                 |\n",
            "| 10 | Executive producers  | Vince Gilligan Mark Johnson Michelle MacLaren                                                                                                                              |\n",
            "| 11 | Producers            | Stewart A. Lyons Sam Catlin John Shiban Peter Gould George Mastras Thomas Schnauz Melissa Bernstein Diane Mercer Bryan Cranston Moira Walley-Beckett Karen Moore Patty Lin |\n",
            "| 12 | Production location  | Albuquerque, New Mexico                                                                                                                                                    |\n",
            "| 13 | Cinematography       | Michael Slovis Reynaldo Villalobos Arthur Albert John Toll Nelson Cragg                                                                                                    |\n",
            "| 14 | Editors              | Kelley Dixon Skip Macdonald Chris McCaleb Sharidan Williams-Sotelo Lynne Willingham                                                                                        |\n",
            "| 15 | Running time         | 43–60 minutes                                                                                                                                                              |\n",
            "| 16 | Production companies | High Bridge Entertainment Gran Via Productions Sony Pictures Television                                                                                                    |\n",
            "| 17 | Distributor          | Sony Pictures Television                                                                                                                                                   |\n",
            "| 18 | Release              | Release                                                                                                                                                                    |\n",
            "| 19 | Original network     | AMC                                                                                                                                                                        |\n",
            "| 20 | Picture format       | 1080p (16:9 HDTV) 4K (Ultra HD)                                                                                                                                            |\n",
            "| 21 | Audio format         | 5.1 surround sound                                                                                                                                                         |\n",
            "| 22 | Original release     | January 20, 2008September 29, 2013                                                                                                                                         |\n",
            "| 23 | Chronology           | Chronology                                                                                                                                                                 |\n",
            "| 24 | Followed by          | Better Call SaulEl Camino: A Breaking Bad Movie                                                                                                                            |\n",
            "| 25 | Related shows        | Talking Bad Metástasis                                                                                                                                                     |\n",
            "| 26 | External links       | External links                                                                                                                                                             |\n",
            "| 27 | Production website   | Production website                                                                                                                                                         |\n",
            "+----+----------------------+----------------------------------------------------------------------------------------------------------------------------------------------------------------------------+\n"
          ]
        }
      ]
    },
    {
      "cell_type": "markdown",
      "source": [
        "Used same code from above, I tried to print the table from a webpage but using tabulate to see how differently will we get those data in a table.\n",
        "\n",
        "As we all can see, second column with nan value is useless so, there is still more way to go and learn how to change this scraped data and present it for visual way."
      ],
      "metadata": {
        "id": "RlwISovhSINh"
      }
    },
    {
      "cell_type": "code",
      "source": [
        "table = soup.find_all(class_ = 'wikitable plainrowheaders')[0]\n",
        "dataFrame = pd.read_html(str(table))\n",
        "print( tabulate(dataFrame[0], headers='keys', tablefmt='psql') )"
      ],
      "metadata": {
        "colab": {
          "base_uri": "https://localhost:8080/"
        },
        "id": "KZHiVPybMnMd",
        "outputId": "61b69252-8860-4b1c-bdf6-da513c95ca84"
      },
      "execution_count": 36,
      "outputs": [
        {
          "output_type": "stream",
          "name": "stdout",
          "text": [
            "+----+------------------------+--------------------------+----------------------------+------------------------------+---------------------------------------+--------------------------------------+-----------------------------------+\n",
            "|    |   ('Season', 'Season') | ('Season', 'Season.1')   | ('Episodes', 'Episodes')   | ('Episodes', 'Episodes.1')   | ('Originally aired', 'First aired')   | ('Originally aired', 'Last aired')   | ('Originally aired', 'Network')   |\n",
            "|----+------------------------+--------------------------+----------------------------+------------------------------+---------------------------------------+--------------------------------------+-----------------------------------|\n",
            "|  0 |                    nan | 1                        | 7                          | 7                            | January 20, 2008                      | March 9, 2008                        | AMC                               |\n",
            "|  1 |                    nan | 2                        | 13                         | 13                           | March 8, 2009                         | May 31, 2009                         | AMC                               |\n",
            "|  2 |                    nan | 3                        | 13                         | 13                           | March 21, 2010                        | June 13, 2010                        | AMC                               |\n",
            "|  3 |                    nan | 4                        | 13                         | 13                           | July 17, 2011                         | October 9, 2011                      | AMC                               |\n",
            "|  4 |                    nan | 5                        | 16                         | 8                            | July 15, 2012                         | September 2, 2012                    | AMC                               |\n",
            "|  5 |                    nan | 5                        | 16                         | 8                            | August 11, 2013                       | September 29, 2013                   | AMC                               |\n",
            "|  6 |                    nan | Film                     | Film                       | Film                         | October 11, 2019                      | October 11, 2019                     | Netflix                           |\n",
            "+----+------------------------+--------------------------+----------------------------+------------------------------+---------------------------------------+--------------------------------------+-----------------------------------+\n"
          ]
        }
      ]
    },
    {
      "cell_type": "code",
      "source": [
        ""
      ],
      "metadata": {
        "id": "Z8pJGk6uOjLF"
      },
      "execution_count": null,
      "outputs": []
    }
  ]
}