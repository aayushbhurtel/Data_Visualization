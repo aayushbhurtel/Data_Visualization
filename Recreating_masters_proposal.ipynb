{
  "nbformat": 4,
  "nbformat_minor": 0,
  "metadata": {
    "colab": {
      "name": "Recreating_masters_proposal.ipynb",
      "provenance": [],
      "authorship_tag": "ABX9TyOa1M7RYBwYYaq4eF+h+j0t",
      "include_colab_link": true
    },
    "kernelspec": {
      "name": "python3",
      "display_name": "Python 3"
    },
    "language_info": {
      "name": "python"
    }
  },
  "cells": [
    {
      "cell_type": "markdown",
      "metadata": {
        "id": "view-in-github",
        "colab_type": "text"
      },
      "source": [
        "<a href=\"https://colab.research.google.com/github/aayushbhurtel/Data_Visualization/blob/main/Recreating_masters_proposal.ipynb\" target=\"_parent\"><img src=\"https://colab.research.google.com/assets/colab-badge.svg\" alt=\"Open In Colab\"/></a>"
      ]
    },
    {
      "cell_type": "markdown",
      "source": [
        "# Recreating Masters Proposal\n",
        "\n",
        "## Data Visualization\n",
        "\n",
        "## Aayush Bhurtel"
      ],
      "metadata": {
        "id": "PmlhTxziLoeT"
      }
    },
    {
      "cell_type": "markdown",
      "source": [
        "Currently, I don't have a link for this visualization as it is just a picture of a visualization I am trying to recreate.\n",
        "\n",
        "I am going to try and recreate the visualization that describes the top 10 highested paid athelete of All-Time. Visualization is presented below."
      ],
      "metadata": {
        "id": "9JRQH4QgL4EH"
      }
    },
    {
      "cell_type": "markdown",
      "source": [
        "![recreatingMasters](https://www.sportico.com/wp-content/uploads/2021/12/Screenshot-2021-11-03-193044.png)"
      ],
      "metadata": {
        "id": "Fj8lCrZfMAjD"
      }
    },
    {
      "cell_type": "markdown",
      "source": [
        "I don't have an exact dataset right now but I'm still looking at kaggle and other sources.\n",
        "\n",
        "This visualization uses pictures in the graph plots which makes it interesting to see who is the athelete and what sports they play. \n",
        "\n",
        "Hardship in this visualization is to include picture of athelete themseleves and their sports in the bar chart."
      ],
      "metadata": {
        "id": "tvGRz1TBMoSv"
      }
    },
    {
      "cell_type": "code",
      "execution_count": null,
      "metadata": {
        "id": "hvnZJhtT-uc9"
      },
      "outputs": [],
      "source": [
        ""
      ]
    }
  ]
}