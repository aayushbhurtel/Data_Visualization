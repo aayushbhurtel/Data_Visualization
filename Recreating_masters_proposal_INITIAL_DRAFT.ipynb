{
  "nbformat": 4,
  "nbformat_minor": 0,
  "metadata": {
    "colab": {
      "name": "Recreating_masters_proposal_INITIAL_DRAFT.ipynb",
      "provenance": [],
      "authorship_tag": "ABX9TyO+7LjQVqmjfWKP9cxDz76A",
      "include_colab_link": true
    },
    "kernelspec": {
      "name": "python3",
      "display_name": "Python 3"
    },
    "language_info": {
      "name": "python"
    }
  },
  "cells": [
    {
      "cell_type": "markdown",
      "metadata": {
        "id": "view-in-github",
        "colab_type": "text"
      },
      "source": [
        "<a href=\"https://colab.research.google.com/github/aayushbhurtel/Data_Visualization/blob/main/Recreating_masters_proposal_INITIAL_DRAFT.ipynb\" target=\"_parent\"><img src=\"https://colab.research.google.com/assets/colab-badge.svg\" alt=\"Open In Colab\"/></a>"
      ]
    },
    {
      "cell_type": "markdown",
      "source": [
        "# Recreating Masters Proposal\n",
        "\n",
        "## Data Visualization\n",
        "\n",
        "## Aayush Bhurtel"
      ],
      "metadata": {
        "id": "PmlhTxziLoeT"
      }
    },
    {
      "cell_type": "markdown",
      "source": [
        "Currently, I don't have a link for this visualization as it is just a picture of a visualization I am trying to recreate.\n",
        "\n",
        "I am going to try and recreate the visualization that describes the top 10 highested paid athelete of All-Time. Visualization is presented below."
      ],
      "metadata": {
        "id": "9JRQH4QgL4EH"
      }
    },
    {
      "cell_type": "markdown",
      "source": [
        "![recreatingMasters](https://www.sportico.com/wp-content/uploads/2021/12/Screenshot-2021-11-03-193044.png)"
      ],
      "metadata": {
        "id": "Fj8lCrZfMAjD"
      }
    },
    {
      "cell_type": "markdown",
      "source": [
        "I don't have an exact dataset right now but I'm still looking at kaggle and other sources.\n",
        "\n",
        "This visualization uses pictures in the graph plots which makes it interesting to see who is the athelete and what sports they play. \n",
        "\n",
        "Hardship in this visualization is to include picture of athelete themseleves and their sports in the bar chart."
      ],
      "metadata": {
        "id": "tvGRz1TBMoSv"
      }
    },
    {
      "cell_type": "markdown",
      "source": [
        "*********************************************************************************************************************************************************************************************************************************************"
      ],
      "metadata": {
        "id": "QVJaIox3xxo6"
      }
    },
    {
      "cell_type": "markdown",
      "source": [
        "Now I'm starting to recreate above visualization. I found the dataset by googling highest paid athelete. I mean not dataset but the data in the news website. I was planning to scrape those data and convert those scraped data into pandas dataframe."
      ],
      "metadata": {
        "id": "-ulDciO0x6Zk"
      }
    },
    {
      "cell_type": "markdown",
      "source": [
        "loading libraries"
      ],
      "metadata": {
        "id": "ckgW_8VezpPz"
      }
    },
    {
      "cell_type": "code",
      "execution_count": null,
      "metadata": {
        "id": "hvnZJhtT-uc9"
      },
      "outputs": [],
      "source": [
        "import requests\n",
        "import pandas as pd\n",
        "from bs4 import BeautifulSoup\n",
        "import matplotlib.pyplot as plt"
      ]
    },
    {
      "cell_type": "code",
      "source": [
        "raw_data = requests.get('https://www.sportingnews.com/us/nba/news/highest-paid-athletes-of-all-time-michael-jordan-leads-star-studded-top-25-list/111wewzd2j0gq1a5hddn1cqgkx')\n",
        "contents = raw_data.text\n",
        "soup = BeautifulSoup(contents,\"lxml\")"
      ],
      "metadata": {
        "id": "ODJIrFBDzsAN"
      },
      "execution_count": null,
      "outputs": []
    },
    {
      "cell_type": "code",
      "source": [
        "tables = soup.find_all('table',class_=\"table\")\n",
        "tables[0].find_all('a')\n",
        "df = pd.read_html(str(tables))[0]"
      ],
      "metadata": {
        "id": "gyaCga88z-5n"
      },
      "execution_count": null,
      "outputs": []
    },
    {
      "cell_type": "code",
      "source": [
        "df.columns = df.iloc[0] \n",
        "df = df[1:]\n",
        "df.head()"
      ],
      "metadata": {
        "id": "i4lJ0MyX2ta6"
      },
      "execution_count": null,
      "outputs": []
    },
    {
      "cell_type": "code",
      "source": [
        "df = df.drop(labels=range(11, 25), axis=0)"
      ],
      "metadata": {
        "id": "ByoOn7Mu3KAi"
      },
      "execution_count": null,
      "outputs": []
    },
    {
      "cell_type": "code",
      "source": [
        "df = df.drop(labels = 25, axis = 0)"
      ],
      "metadata": {
        "id": "LKEsLsPW4D3g"
      },
      "execution_count": null,
      "outputs": []
    },
    {
      "cell_type": "code",
      "source": [
        "df"
      ],
      "metadata": {
        "colab": {
          "base_uri": "https://localhost:8080/",
          "height": 363
        },
        "id": "djuPi3ZE4Ehb",
        "outputId": "d8c27b23-476a-4490-872c-b07076503689"
      },
      "execution_count": null,
      "outputs": [
        {
          "output_type": "execute_result",
          "data": {
            "text/plain": [
              "0  Rank             Athlete        Country       Sport Turned Pro  \\\n",
              "1     1      Michael Jordan  United States  Basketball       1984   \n",
              "2     2         Tiger Woods  United States        Golf       1996   \n",
              "3     3       Arnold Palmer  United States        Golf       1954   \n",
              "4     4       Jack Nicklaus  United States        Golf       1961   \n",
              "5     5   Cristiano Ronaldo       Portugal      Soccer       2002   \n",
              "6     6    Floyd Mayweather  United States      Boxing       1996   \n",
              "7     7        LeBron James  United States  Basketball       2003   \n",
              "8     8        Lionel Messi      Argentina      Soccer       2004   \n",
              "9     9  Michael Schumacher        Germany      Racing       1991   \n",
              "10   10       Roger Federer    Switzerland      Tennis       1998   \n",
              "\n",
              "0  Inflation Adjusted Earnings  \n",
              "1                $2.62 billion  \n",
              "2                 $2.1 billion  \n",
              "3                 $1.5 billion  \n",
              "4                $1.38 billion  \n",
              "5                $1.24 billion  \n",
              "6                 $1.2 billion  \n",
              "7                $1.17 billion  \n",
              "8                $1.14 billion  \n",
              "9                $1.13 billion  \n",
              "10               $1.12 billion  "
            ],
            "text/html": [
              "\n",
              "  <div id=\"df-c5db2a42-6777-4751-a4ca-ee14b89b80b4\">\n",
              "    <div class=\"colab-df-container\">\n",
              "      <div>\n",
              "<style scoped>\n",
              "    .dataframe tbody tr th:only-of-type {\n",
              "        vertical-align: middle;\n",
              "    }\n",
              "\n",
              "    .dataframe tbody tr th {\n",
              "        vertical-align: top;\n",
              "    }\n",
              "\n",
              "    .dataframe thead th {\n",
              "        text-align: right;\n",
              "    }\n",
              "</style>\n",
              "<table border=\"1\" class=\"dataframe\">\n",
              "  <thead>\n",
              "    <tr style=\"text-align: right;\">\n",
              "      <th></th>\n",
              "      <th>Rank</th>\n",
              "      <th>Athlete</th>\n",
              "      <th>Country</th>\n",
              "      <th>Sport</th>\n",
              "      <th>Turned Pro</th>\n",
              "      <th>Inflation Adjusted Earnings</th>\n",
              "    </tr>\n",
              "  </thead>\n",
              "  <tbody>\n",
              "    <tr>\n",
              "      <th>1</th>\n",
              "      <td>1</td>\n",
              "      <td>Michael Jordan</td>\n",
              "      <td>United States</td>\n",
              "      <td>Basketball</td>\n",
              "      <td>1984</td>\n",
              "      <td>$2.62 billion</td>\n",
              "    </tr>\n",
              "    <tr>\n",
              "      <th>2</th>\n",
              "      <td>2</td>\n",
              "      <td>Tiger Woods</td>\n",
              "      <td>United States</td>\n",
              "      <td>Golf</td>\n",
              "      <td>1996</td>\n",
              "      <td>$2.1 billion</td>\n",
              "    </tr>\n",
              "    <tr>\n",
              "      <th>3</th>\n",
              "      <td>3</td>\n",
              "      <td>Arnold Palmer</td>\n",
              "      <td>United States</td>\n",
              "      <td>Golf</td>\n",
              "      <td>1954</td>\n",
              "      <td>$1.5 billion</td>\n",
              "    </tr>\n",
              "    <tr>\n",
              "      <th>4</th>\n",
              "      <td>4</td>\n",
              "      <td>Jack Nicklaus</td>\n",
              "      <td>United States</td>\n",
              "      <td>Golf</td>\n",
              "      <td>1961</td>\n",
              "      <td>$1.38 billion</td>\n",
              "    </tr>\n",
              "    <tr>\n",
              "      <th>5</th>\n",
              "      <td>5</td>\n",
              "      <td>Cristiano Ronaldo</td>\n",
              "      <td>Portugal</td>\n",
              "      <td>Soccer</td>\n",
              "      <td>2002</td>\n",
              "      <td>$1.24 billion</td>\n",
              "    </tr>\n",
              "    <tr>\n",
              "      <th>6</th>\n",
              "      <td>6</td>\n",
              "      <td>Floyd Mayweather</td>\n",
              "      <td>United States</td>\n",
              "      <td>Boxing</td>\n",
              "      <td>1996</td>\n",
              "      <td>$1.2 billion</td>\n",
              "    </tr>\n",
              "    <tr>\n",
              "      <th>7</th>\n",
              "      <td>7</td>\n",
              "      <td>LeBron James</td>\n",
              "      <td>United States</td>\n",
              "      <td>Basketball</td>\n",
              "      <td>2003</td>\n",
              "      <td>$1.17 billion</td>\n",
              "    </tr>\n",
              "    <tr>\n",
              "      <th>8</th>\n",
              "      <td>8</td>\n",
              "      <td>Lionel Messi</td>\n",
              "      <td>Argentina</td>\n",
              "      <td>Soccer</td>\n",
              "      <td>2004</td>\n",
              "      <td>$1.14 billion</td>\n",
              "    </tr>\n",
              "    <tr>\n",
              "      <th>9</th>\n",
              "      <td>9</td>\n",
              "      <td>Michael Schumacher</td>\n",
              "      <td>Germany</td>\n",
              "      <td>Racing</td>\n",
              "      <td>1991</td>\n",
              "      <td>$1.13 billion</td>\n",
              "    </tr>\n",
              "    <tr>\n",
              "      <th>10</th>\n",
              "      <td>10</td>\n",
              "      <td>Roger Federer</td>\n",
              "      <td>Switzerland</td>\n",
              "      <td>Tennis</td>\n",
              "      <td>1998</td>\n",
              "      <td>$1.12 billion</td>\n",
              "    </tr>\n",
              "  </tbody>\n",
              "</table>\n",
              "</div>\n",
              "      <button class=\"colab-df-convert\" onclick=\"convertToInteractive('df-c5db2a42-6777-4751-a4ca-ee14b89b80b4')\"\n",
              "              title=\"Convert this dataframe to an interactive table.\"\n",
              "              style=\"display:none;\">\n",
              "        \n",
              "  <svg xmlns=\"http://www.w3.org/2000/svg\" height=\"24px\"viewBox=\"0 0 24 24\"\n",
              "       width=\"24px\">\n",
              "    <path d=\"M0 0h24v24H0V0z\" fill=\"none\"/>\n",
              "    <path d=\"M18.56 5.44l.94 2.06.94-2.06 2.06-.94-2.06-.94-.94-2.06-.94 2.06-2.06.94zm-11 1L8.5 8.5l.94-2.06 2.06-.94-2.06-.94L8.5 2.5l-.94 2.06-2.06.94zm10 10l.94 2.06.94-2.06 2.06-.94-2.06-.94-.94-2.06-.94 2.06-2.06.94z\"/><path d=\"M17.41 7.96l-1.37-1.37c-.4-.4-.92-.59-1.43-.59-.52 0-1.04.2-1.43.59L10.3 9.45l-7.72 7.72c-.78.78-.78 2.05 0 2.83L4 21.41c.39.39.9.59 1.41.59.51 0 1.02-.2 1.41-.59l7.78-7.78 2.81-2.81c.8-.78.8-2.07 0-2.86zM5.41 20L4 18.59l7.72-7.72 1.47 1.35L5.41 20z\"/>\n",
              "  </svg>\n",
              "      </button>\n",
              "      \n",
              "  <style>\n",
              "    .colab-df-container {\n",
              "      display:flex;\n",
              "      flex-wrap:wrap;\n",
              "      gap: 12px;\n",
              "    }\n",
              "\n",
              "    .colab-df-convert {\n",
              "      background-color: #E8F0FE;\n",
              "      border: none;\n",
              "      border-radius: 50%;\n",
              "      cursor: pointer;\n",
              "      display: none;\n",
              "      fill: #1967D2;\n",
              "      height: 32px;\n",
              "      padding: 0 0 0 0;\n",
              "      width: 32px;\n",
              "    }\n",
              "\n",
              "    .colab-df-convert:hover {\n",
              "      background-color: #E2EBFA;\n",
              "      box-shadow: 0px 1px 2px rgba(60, 64, 67, 0.3), 0px 1px 3px 1px rgba(60, 64, 67, 0.15);\n",
              "      fill: #174EA6;\n",
              "    }\n",
              "\n",
              "    [theme=dark] .colab-df-convert {\n",
              "      background-color: #3B4455;\n",
              "      fill: #D2E3FC;\n",
              "    }\n",
              "\n",
              "    [theme=dark] .colab-df-convert:hover {\n",
              "      background-color: #434B5C;\n",
              "      box-shadow: 0px 1px 3px 1px rgba(0, 0, 0, 0.15);\n",
              "      filter: drop-shadow(0px 1px 2px rgba(0, 0, 0, 0.3));\n",
              "      fill: #FFFFFF;\n",
              "    }\n",
              "  </style>\n",
              "\n",
              "      <script>\n",
              "        const buttonEl =\n",
              "          document.querySelector('#df-c5db2a42-6777-4751-a4ca-ee14b89b80b4 button.colab-df-convert');\n",
              "        buttonEl.style.display =\n",
              "          google.colab.kernel.accessAllowed ? 'block' : 'none';\n",
              "\n",
              "        async function convertToInteractive(key) {\n",
              "          const element = document.querySelector('#df-c5db2a42-6777-4751-a4ca-ee14b89b80b4');\n",
              "          const dataTable =\n",
              "            await google.colab.kernel.invokeFunction('convertToInteractive',\n",
              "                                                     [key], {});\n",
              "          if (!dataTable) return;\n",
              "\n",
              "          const docLinkHtml = 'Like what you see? Visit the ' +\n",
              "            '<a target=\"_blank\" href=https://colab.research.google.com/notebooks/data_table.ipynb>data table notebook</a>'\n",
              "            + ' to learn more about interactive tables.';\n",
              "          element.innerHTML = '';\n",
              "          dataTable['output_type'] = 'display_data';\n",
              "          await google.colab.output.renderOutput(dataTable, element);\n",
              "          const docLink = document.createElement('div');\n",
              "          docLink.innerHTML = docLinkHtml;\n",
              "          element.appendChild(docLink);\n",
              "        }\n",
              "      </script>\n",
              "    </div>\n",
              "  </div>\n",
              "  "
            ]
          },
          "metadata": {},
          "execution_count": 12
        }
      ]
    },
    {
      "cell_type": "code",
      "source": [
        "# convert earning into numeric datatype from object datatype\n",
        "\n",
        "\n",
        "df.iloc[0,5]"
      ],
      "metadata": {
        "id": "mGrkyH9l6Pkz",
        "colab": {
          "base_uri": "https://localhost:8080/",
          "height": 35
        },
        "outputId": "c0870767-cc25-439d-a2b4-0d69fcae9f4b"
      },
      "execution_count": null,
      "outputs": [
        {
          "output_type": "execute_result",
          "data": {
            "text/plain": [
              "'$2.62 billion'"
            ],
            "application/vnd.google.colaboratory.intrinsic+json": {
              "type": "string"
            }
          },
          "metadata": {},
          "execution_count": 13
        }
      ]
    },
    {
      "cell_type": "code",
      "source": [
        "import re\n",
        "\n",
        "re.sub(\"[^0123456789\\.]\",\"\",df.iloc[0,5])"
      ],
      "metadata": {
        "id": "nVyEiw9oMKAY",
        "colab": {
          "base_uri": "https://localhost:8080/",
          "height": 35
        },
        "outputId": "226e17ab-69da-48d4-83ee-693631ae6d51"
      },
      "execution_count": null,
      "outputs": [
        {
          "output_type": "execute_result",
          "data": {
            "text/plain": [
              "'2.62'"
            ],
            "application/vnd.google.colaboratory.intrinsic+json": {
              "type": "string"
            }
          },
          "metadata": {},
          "execution_count": 22
        }
      ]
    },
    {
      "cell_type": "code",
      "source": [
        "x = df['Inflation Adjusted Earnings'].apply(lambda s: re.sub(\"[^0123456789\\.]\",\"\",s))"
      ],
      "metadata": {
        "id": "QnSSVRbjkFs9"
      },
      "execution_count": null,
      "outputs": []
    },
    {
      "cell_type": "code",
      "source": [
        "df['Inflation Adjusted Earnings'] = x.astype('float')"
      ],
      "metadata": {
        "id": "o5n0RXIAV7Rv"
      },
      "execution_count": null,
      "outputs": []
    },
    {
      "cell_type": "code",
      "source": [
        ""
      ],
      "metadata": {
        "id": "LkqvP7aOWEAs"
      },
      "execution_count": null,
      "outputs": []
    },
    {
      "cell_type": "code",
      "source": [
        "plt.xlabel('Athletes')\n",
        "plt.ylabel('Amounts')\n",
        "plt.title('Top 10 Highest-Paid Athlete of All-Time')\n",
        "plt.bar(df['Athlete'], df['Inflation Adjusted Earnings']) \n",
        "plt.show()"
      ],
      "metadata": {
        "colab": {
          "base_uri": "https://localhost:8080/",
          "height": 295
        },
        "id": "oE4Ga2MzWbeg",
        "outputId": "9b98b659-7be3-438c-a726-a891a0c7d9c6"
      },
      "execution_count": null,
      "outputs": [
        {
          "output_type": "display_data",
          "data": {
            "text/plain": [
              "<Figure size 432x288 with 1 Axes>"
            ],
            "image/png": "[encoded data removed]"
          },
          "metadata": {
            "needs_background": "light"
          }
        }
      ]
    },
    {
      "cell_type": "code",
      "source": [
        ""
      ],
      "metadata": {
        "id": "H-RbAwoKXGET"
      },
      "execution_count": null,
      "outputs": []
    }
  ]
}